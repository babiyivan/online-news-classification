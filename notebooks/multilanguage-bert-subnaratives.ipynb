{
 "cells": [
  {
   "cell_type": "code",
   "execution_count": 1,
   "metadata": {},
   "outputs": [
    {
     "name": "stderr",
     "output_type": "stream",
     "text": [
      "/home/itsv.org.sv-services.at/tibor.cus@itsv.at/.cache/pypoetry/virtualenvs/toxicml-_rQSQEXi-py3.12/lib/python3.12/site-packages/tqdm/auto.py:21: TqdmWarning: IProgress not found. Please update jupyter and ipywidgets. See https://ipywidgets.readthedocs.io/en/stable/user_install.html\n",
      "  from .autonotebook import tqdm as notebook_tqdm\n"
     ]
    },
    {
     "name": "stdout",
     "output_type": "stream",
     "text": [
      "GPU: NVIDIA RTX 2000 Ada Generation Laptop GPU is available.\n"
     ]
    }
   ],
   "source": [
    "from tuwnlp.dataset import PropagandaDataset\n",
    "from tuwnlp.utils import Language, LabelLevel\n",
    "from transformers import DistilBertTokenizer, DistilBertModel\n",
    "from torch.utils.data import DataLoader\n",
    "import torch\n",
    "\n",
    "if torch.cuda.is_available():\n",
    "    print(f\"GPU: {torch.cuda.get_device_name(0)} is available.\")\n",
    "else:\n",
    "    print(\"No GPU available. Training will run on CPU.\")\n",
    "device = torch.device(\"cuda\" if torch.cuda.is_available() else \"cpu\")"
   ]
  },
  {
   "cell_type": "code",
   "execution_count": 2,
   "metadata": {},
   "outputs": [
    {
     "name": "stderr",
     "output_type": "stream",
     "text": [
      "200it [00:00, 8343.47it/s]\n"
     ]
    },
    {
     "name": "stdout",
     "output_type": "stream",
     "text": [
      "Language.EN LabelLevel.SUBNARATIVES (200, 97)\n",
      "(200, 97)\n"
     ]
    },
    {
     "name": "stderr",
     "output_type": "stream",
     "text": [
      "200it [00:00, 16968.28it/s]\n"
     ]
    },
    {
     "name": "stdout",
     "output_type": "stream",
     "text": [
      "Language.PT LabelLevel.SUBNARATIVES (200, 97)\n",
      "(200, 97)\n"
     ]
    },
    {
     "name": "stderr",
     "output_type": "stream",
     "text": [
      "115it [00:00, 7572.85it/s]\n"
     ]
    },
    {
     "name": "stdout",
     "output_type": "stream",
     "text": [
      "Language.HI LabelLevel.SUBNARATIVES (115, 97)\n",
      "(115, 97)\n"
     ]
    },
    {
     "name": "stderr",
     "output_type": "stream",
     "text": [
      "211it [00:00, 9636.93it/s]\n"
     ]
    },
    {
     "name": "stdout",
     "output_type": "stream",
     "text": [
      "Language.BG LabelLevel.SUBNARATIVES (211, 97)\n",
      "(211, 97)\n"
     ]
    },
    {
     "name": "stderr",
     "output_type": "stream",
     "text": [
      "200it [00:00, 18073.05it/s]\n"
     ]
    },
    {
     "name": "stdout",
     "output_type": "stream",
     "text": [
      "Language.EN LabelLevel.SUBNARATIVES (200, 97)\n"
     ]
    },
    {
     "name": "stderr",
     "output_type": "stream",
     "text": [
      "200it [00:00, 9798.06it/s]\n"
     ]
    },
    {
     "name": "stdout",
     "output_type": "stream",
     "text": [
      "Language.PT LabelLevel.SUBNARATIVES (200, 97)\n"
     ]
    },
    {
     "name": "stderr",
     "output_type": "stream",
     "text": [
      "115it [00:00, 7080.40it/s]\n"
     ]
    },
    {
     "name": "stdout",
     "output_type": "stream",
     "text": [
      "Language.HI LabelLevel.SUBNARATIVES (115, 97)\n"
     ]
    },
    {
     "name": "stderr",
     "output_type": "stream",
     "text": [
      "211it [00:00, 24907.07it/s]\n"
     ]
    },
    {
     "name": "stdout",
     "output_type": "stream",
     "text": [
      "Language.BG LabelLevel.SUBNARATIVES (211, 97)\n",
      "(726, 97)\n"
     ]
    }
   ],
   "source": [
    "en_dataset = PropagandaDataset(\"../data\", languages=[Language.EN], labelLevel = LabelLevel.SUBNARATIVES ,tokenizer = DistilBertTokenizer.from_pretrained('distilbert-base-multilingual-cased'))\n",
    "pt_dataset = PropagandaDataset(\"../data\", languages=[Language.PT], labelLevel = LabelLevel.SUBNARATIVES, tokenizer = DistilBertTokenizer.from_pretrained('distilbert-base-multilingual-cased'))\n",
    "hi_dataset = PropagandaDataset(\"../data\", languages=[Language.HI], labelLevel = LabelLevel.SUBNARATIVES, tokenizer = DistilBertTokenizer.from_pretrained('distilbert-base-multilingual-cased'))\n",
    "bg_dataset = PropagandaDataset(\"../data\", languages=[Language.BG], labelLevel = LabelLevel.SUBNARATIVES, tokenizer = DistilBertTokenizer.from_pretrained('distilbert-base-multilingual-cased'))\n",
    "all_dataset = PropagandaDataset(\"../data\", languages=[Language.EN, Language.PT, Language.HI, Language.BG], labelLevel = LabelLevel.SUBNARATIVES, tokenizer = DistilBertTokenizer.from_pretrained('distilbert-base-multilingual-cased'))\n",
    "\n",
    "en_train, en_val, en_test = torch.utils.data.random_split(en_dataset, [100, 50, 50])\n",
    "pt_train, pt_val, pt_test = torch.utils.data.random_split(pt_dataset, [100, 50, 50])\n",
    "hi_train, hi_val, hi_test = torch.utils.data.random_split(hi_dataset, [60, 25, 30])\n",
    "bg_train, bg_val, bg_test = torch.utils.data.random_split(bg_dataset, [100, 60, 51])\n",
    "all_train, all_val, all_test = torch.utils.data.random_split(all_dataset, [400, 163, 163])\n",
    "\n",
    "datasets = [\n",
    "    (\"EN\", \"EN\", en_train, en_val, en_test),\n",
    "    (\"EN\", \"ALL\", all_train, all_val, en_test),\n",
    "    (\"PT\", \"PT\", pt_train, pt_val, pt_test),\n",
    "    (\"PT\", \"ALL\", all_train, all_val, pt_test),\n",
    "    (\"HI\", \"HI\", hi_train, hi_val, hi_test),\n",
    "    (\"HI\", \"ALL\", all_train, all_val, hi_test),\n",
    "    (\"BG\", \"BG\", bg_train, bg_val, bg_test),\n",
    "    (\"BG\", \"ALL\", all_train, all_val, bg_test),\n",
    "]\n"
   ]
  },
  {
   "cell_type": "code",
   "execution_count": 3,
   "metadata": {},
   "outputs": [],
   "source": [
    "from torch import nn\n",
    "class CustomBertClassifier(torch.nn.Module):\n",
    "    def __init__(self, hidden_size, out_size):\n",
    "        super(CustomBertClassifier, self).__init__()\n",
    "        self.bert = DistilBertModel.from_pretrained(\n",
    "            \"distilbert-base-multilingual-cased\", \n",
    "        )\n",
    "        self.dropout1 = nn.Dropout()\n",
    "        self.linear1 = nn.Linear(in_features=768, out_features=hidden_size, bias=False)\n",
    "        self.batch_norm1 = nn.BatchNorm1d(num_features=512)\n",
    "        self.relu1 =  nn.ReLU()\n",
    "        self.dropout2 = nn.Dropout(p=0.8)\n",
    "        self.linear2 = nn.Linear(in_features=hidden_size, out_features=out_size, bias=False)\n",
    "        self.batch_norm2 = nn.BatchNorm1d(num_features=512)\n",
    "        self.sigmoid = nn.Sigmoid()\n",
    "\n",
    "    def forward(self, attention_mask, input_ids):\n",
    "        x = self.bert(attention_mask, input_ids)[0]\n",
    "        x = self.dropout1(x)\n",
    "        x = self.linear1(x)\n",
    "        x = self.batch_norm1(x)\n",
    "        x = self.relu1(x)\n",
    "        x = self.dropout2(x)\n",
    "        x = self.linear2(x)\n",
    "        x = self.batch_norm2(x)\n",
    "        x = torch.max(x,1, keepdim=False).values\n",
    "        return self.sigmoid(x)\n",
    "    \n",
    "    def freeze_bert(self):\n",
    "        \"\"\"\n",
    "        Freezes the parameters of BERT so when BertWithCustomNNClassifier is trained\n",
    "        only the wieghts of the custom classifier are modified.\n",
    "        \"\"\"\n",
    "        for param in self.bert.named_parameters():\n",
    "            param[1].requires_grad=False\n",
    "    \n",
    "    def unfreeze_bert(self):\n",
    "        \"\"\"\n",
    "        Unfreezes the parameters of BERT so when BertWithCustomNNClassifier is trained\n",
    "        both the wieghts of the custom classifier and of the underlying BERT are modified.\n",
    "        \"\"\"\n",
    "        for param in self.bert.named_parameters():\n",
    "            param[1].requires_grad=True\n",
    "\n",
    "    def freeze_embeddings(self):\n",
    "        \"\"\"\n",
    "        Freezes the parameters of BERT so when BertWithCustomNNClassifier is trained\n",
    "        only the wieghts of the custom classifier are modified.\n",
    "        \"\"\"\n",
    "        for param in self.bert.embeddings.named_parameters():\n",
    "            param[1].requires_grad=False\n",
    "    \n",
    "    def unfreeze_embeddings(self):\n",
    "        \"\"\"\n",
    "        Unfreezes the parameters of BERT so when BertWithCustomNNClassifier is trained\n",
    "        both the wieghts of the custom classifier and of the underlying BERT are modified.\n",
    "        \"\"\"\n",
    "        for param in self.bert.embeddings.named_parameters():\n",
    "            param[1].requires_grad=True"
   ]
  },
  {
   "cell_type": "code",
   "execution_count": 4,
   "metadata": {},
   "outputs": [],
   "source": [
    "from tqdm import tqdm\n",
    "from torch.optim import Adam\n",
    "import wandb\n",
    "\n",
    "def training_step(dataloader, model, optimizer, loss_fn, device, freeze_bert = False, freeze_embeddings = False, runner = None):\n",
    "    \"\"\"Method to train the model\"\"\"\n",
    "    model.train()\n",
    "    model.freeze_bert() if freeze_bert else model.unfreeze_bert()\n",
    "    model.freeze_embeddings() if not freeze_bert and freeze_embeddings else model.unfreeze_bert()\n",
    "      \n",
    "    epoch_loss = 0\n",
    "    model.to(device)\n",
    "\n",
    " \n",
    "    for x, y in dataloader:\n",
    "        attention_mask = x[\"attention_mask\"]\n",
    "        attention_mask = attention_mask.to(device)\n",
    "        input_ids = x[\"input_ids\"]\n",
    "        input_ids = input_ids.to(device)\n",
    "        y = y.to(device)\n",
    "\n",
    "        output = model(attention_mask, input_ids)\n",
    "        optimizer.zero_grad()\n",
    "        loss = loss_fn(output, y.float())\n",
    "        epoch_loss += loss.item()\n",
    "        loss.backward()\n",
    "        optimizer.step()\n",
    "        loss_val = loss.item()\n",
    "        if runner is not None:\n",
    "            runner.log({\"train/loss\": loss_val})\n",
    "        return loss_val\n",
    "\n",
    "def eval_step(dataloader, model, loss_fn, runner = None):\n",
    "    \"\"\"Method to eval the model\"\"\"\n",
    "    model.eval()\n",
    "    epoch_loss = []\n",
    "    \n",
    "    \n",
    "    with torch.no_grad():\n",
    "        for x, y in dataloader:\n",
    "            attention_mask = x[\"attention_mask\"]\n",
    "            attention_mask = attention_mask.to(device)\n",
    "            input_ids = x[\"input_ids\"]\n",
    "            input_ids = input_ids.to(device)        \n",
    "            output = model(attention_mask, input_ids)\n",
    "            y = y.to(device)\n",
    "            loss = loss_fn(output, y.float())\n",
    "            loss_val = loss.item()\n",
    "            epoch_loss.append(loss_val)\n",
    "            if runner is not None:\n",
    "                runner.log({\"eval/loss\": loss_val})\n",
    "    return torch.mean(torch.tensor(epoch_loss)).item()\n",
    "\n",
    "def eval_model(dataloader, model, scoring_functions):\n",
    "    outputs = []\n",
    "    ys = []\n",
    "    with torch.no_grad():\n",
    "        for x,y in dataloader:\n",
    "            attention_mask = x[\"attention_mask\"]\n",
    "            attention_mask = attention_mask.to(device)\n",
    "            input_ids = x[\"input_ids\"]\n",
    "            input_ids = input_ids.to(device)\n",
    "            output = model(attention_mask, input_ids).cpu()\n",
    "            outputs.append(output)\n",
    "            ys.append(y)\n",
    "    y_pred = torch.concat(outputs).cpu().detach().numpy()\n",
    "    ys = torch.concat(ys).cpu().float().numpy()\n",
    "    res = {}\n",
    "    for sf in scoring_functions:\n",
    "        name = sf.__name__\n",
    "        treshold = y_pred > 0.5\n",
    "        res[name] = sf(treshold, ys, average=\"macro\")\n",
    "\n",
    "    return res"
   ]
  },
  {
   "cell_type": "code",
   "execution_count": 5,
   "metadata": {},
   "outputs": [
    {
     "name": "stdout",
     "output_type": "stream",
     "text": [
      "EN EN\n",
      "EPOCH[0]Train Loss: 2.8571126461029053, Eval Loss: 0.7290617227554321\n",
      "EPOCH[1]Train Loss: 2.5618772506713867, Eval Loss: 0.7436476945877075\n",
      "EPOCH[2]Train Loss: 2.376253128051758, Eval Loss: 0.7646613717079163\n",
      "EPOCH[3]Train Loss: 2.225637197494507, Eval Loss: 0.7813562154769897\n",
      "EPOCH[4]Train Loss: 2.1178181171417236, Eval Loss: 0.7996973991394043\n",
      "EPOCH[5]Train Loss: 2.0516104698181152, Eval Loss: 0.8145236968994141\n",
      "EPOCH[6]Train Loss: 1.9927847385406494, Eval Loss: 0.8250979781150818\n",
      "EPOCH[7]Train Loss: 1.9506888389587402, Eval Loss: 0.8328666687011719\n",
      "EPOCH[8]Train Loss: 1.9436171054840088, Eval Loss: 0.8401534557342529\n",
      "EPOCH[9]Train Loss: 1.8963661193847656, Eval Loss: 0.8456176519393921\n",
      "EPOCH[10]Train Loss: 1.882435917854309, Eval Loss: 0.8487753868103027\n",
      "EPOCH[11]Train Loss: 1.8503303527832031, Eval Loss: 0.8518118858337402\n",
      "EPOCH[12]Train Loss: 1.8476767539978027, Eval Loss: 0.8517365455627441\n",
      "EPOCH[13]Train Loss: 1.8253920078277588, Eval Loss: 0.8493432998657227\n",
      "EPOCH[14]Train Loss: 1.8114439249038696, Eval Loss: 0.8480558395385742\n"
     ]
    },
    {
     "name": "stderr",
     "output_type": "stream",
     "text": [
      "/home/itsv.org.sv-services.at/tibor.cus@itsv.at/.cache/pypoetry/virtualenvs/toxicml-_rQSQEXi-py3.12/lib/python3.12/site-packages/sklearn/metrics/_classification.py:1565: UndefinedMetricWarning: F-score is ill-defined and being set to 0.0 in labels with no true nor predicted samples. Use `zero_division` parameter to control this behavior.\n",
      "  _warn_prf(average, modifier, f\"{metric.capitalize()} is\", len(result))\n",
      "/home/itsv.org.sv-services.at/tibor.cus@itsv.at/.cache/pypoetry/virtualenvs/toxicml-_rQSQEXi-py3.12/lib/python3.12/site-packages/sklearn/metrics/_classification.py:1565: UndefinedMetricWarning: Recall is ill-defined and being set to 0.0 in labels with no true samples. Use `zero_division` parameter to control this behavior.\n",
      "  _warn_prf(average, modifier, f\"{metric.capitalize()} is\", len(result))\n",
      "/home/itsv.org.sv-services.at/tibor.cus@itsv.at/.cache/pypoetry/virtualenvs/toxicml-_rQSQEXi-py3.12/lib/python3.12/site-packages/sklearn/metrics/_classification.py:1565: UndefinedMetricWarning: Precision is ill-defined and being set to 0.0 in labels with no predicted samples. Use `zero_division` parameter to control this behavior.\n",
      "  _warn_prf(average, modifier, f\"{metric.capitalize()} is\", len(result))\n"
     ]
    },
    {
     "name": "stdout",
     "output_type": "stream",
     "text": [
      "{'train_language': 'EN', 'validation_language': 'EN', 'f1_score': 0.08078416580665543, 'recall_score': 0.05, 'precision_score': 0.4090909090909091}\n",
      "EN ALL\n",
      "EPOCH[0]Train Loss: 2.817889928817749, Eval Loss: 0.7406737804412842\n",
      "EPOCH[1]Train Loss: 2.4836792945861816, Eval Loss: 0.7588606476783752\n",
      "EPOCH[2]Train Loss: 2.246307134628296, Eval Loss: 0.7811217904090881\n",
      "EPOCH[3]Train Loss: 2.1307270526885986, Eval Loss: 0.798541784286499\n",
      "EPOCH[4]Train Loss: 2.035081148147583, Eval Loss: 0.8110811710357666\n",
      "EPOCH[5]Train Loss: 2.0007641315460205, Eval Loss: 0.8223889470100403\n",
      "EPOCH[6]Train Loss: 1.9639067649841309, Eval Loss: 0.8335230946540833\n",
      "EPOCH[7]Train Loss: 1.9284894466400146, Eval Loss: 0.8414144515991211\n",
      "EPOCH[8]Train Loss: 1.9199912548065186, Eval Loss: 0.8465810418128967\n",
      "EPOCH[9]Train Loss: 1.8839174509048462, Eval Loss: 0.8502606749534607\n",
      "EPOCH[10]Train Loss: 1.8630732297897339, Eval Loss: 0.8524623513221741\n",
      "EPOCH[11]Train Loss: 1.8519270420074463, Eval Loss: 0.8519284725189209\n",
      "EPOCH[12]Train Loss: 1.8342715501785278, Eval Loss: 0.8498325347900391\n",
      "EPOCH[13]Train Loss: 1.8096498250961304, Eval Loss: 0.8408570289611816\n",
      "EPOCH[14]Train Loss: 1.7886683940887451, Eval Loss: 0.8278519511222839\n"
     ]
    },
    {
     "name": "stderr",
     "output_type": "stream",
     "text": [
      "/home/itsv.org.sv-services.at/tibor.cus@itsv.at/.cache/pypoetry/virtualenvs/toxicml-_rQSQEXi-py3.12/lib/python3.12/site-packages/sklearn/metrics/_classification.py:1565: UndefinedMetricWarning: F-score is ill-defined and being set to 0.0 in labels with no true nor predicted samples. Use `zero_division` parameter to control this behavior.\n",
      "  _warn_prf(average, modifier, f\"{metric.capitalize()} is\", len(result))\n",
      "/home/itsv.org.sv-services.at/tibor.cus@itsv.at/.cache/pypoetry/virtualenvs/toxicml-_rQSQEXi-py3.12/lib/python3.12/site-packages/sklearn/metrics/_classification.py:1565: UndefinedMetricWarning: Recall is ill-defined and being set to 0.0 in labels with no true samples. Use `zero_division` parameter to control this behavior.\n",
      "  _warn_prf(average, modifier, f\"{metric.capitalize()} is\", len(result))\n",
      "/home/itsv.org.sv-services.at/tibor.cus@itsv.at/.cache/pypoetry/virtualenvs/toxicml-_rQSQEXi-py3.12/lib/python3.12/site-packages/sklearn/metrics/_classification.py:1565: UndefinedMetricWarning: Precision is ill-defined and being set to 0.0 in labels with no predicted samples. Use `zero_division` parameter to control this behavior.\n",
      "  _warn_prf(average, modifier, f\"{metric.capitalize()} is\", len(result))\n"
     ]
    },
    {
     "name": "stdout",
     "output_type": "stream",
     "text": [
      "{'train_language': 'ALL', 'validation_language': 'EN', 'f1_score': 0.0514944583815429, 'recall_score': 0.028181818181818186, 'precision_score': 0.4090909090909091}\n",
      "PT PT\n",
      "EPOCH[0]Train Loss: 2.926715850830078, Eval Loss: 0.7377384305000305\n",
      "EPOCH[1]Train Loss: 2.5716183185577393, Eval Loss: 0.7512267827987671\n",
      "EPOCH[2]Train Loss: 2.3172950744628906, Eval Loss: 0.770724892616272\n",
      "EPOCH[3]Train Loss: 2.2059032917022705, Eval Loss: 0.7885181903839111\n",
      "EPOCH[4]Train Loss: 2.1067214012145996, Eval Loss: 0.8059723377227783\n",
      "EPOCH[5]Train Loss: 2.041195869445801, Eval Loss: 0.8222364187240601\n",
      "EPOCH[6]Train Loss: 2.0055975914001465, Eval Loss: 0.8349993228912354\n",
      "EPOCH[7]Train Loss: 1.9618964195251465, Eval Loss: 0.84571373462677\n",
      "EPOCH[8]Train Loss: 1.932041883468628, Eval Loss: 0.8533364534378052\n",
      "EPOCH[9]Train Loss: 1.8835645914077759, Eval Loss: 0.8590888977050781\n",
      "EPOCH[10]Train Loss: 1.8852324485778809, Eval Loss: 0.8614515066146851\n",
      "EPOCH[11]Train Loss: 1.8627675771713257, Eval Loss: 0.861323356628418\n",
      "EPOCH[12]Train Loss: 1.8416087627410889, Eval Loss: 0.8589370846748352\n",
      "EPOCH[13]Train Loss: 1.8091524839401245, Eval Loss: 0.8560100793838501\n",
      "EPOCH[14]Train Loss: 1.8042960166931152, Eval Loss: 0.8478559255599976\n"
     ]
    },
    {
     "name": "stderr",
     "output_type": "stream",
     "text": [
      "/home/itsv.org.sv-services.at/tibor.cus@itsv.at/.cache/pypoetry/virtualenvs/toxicml-_rQSQEXi-py3.12/lib/python3.12/site-packages/sklearn/metrics/_classification.py:1565: UndefinedMetricWarning: F-score is ill-defined and being set to 0.0 in labels with no true nor predicted samples. Use `zero_division` parameter to control this behavior.\n",
      "  _warn_prf(average, modifier, f\"{metric.capitalize()} is\", len(result))\n",
      "/home/itsv.org.sv-services.at/tibor.cus@itsv.at/.cache/pypoetry/virtualenvs/toxicml-_rQSQEXi-py3.12/lib/python3.12/site-packages/sklearn/metrics/_classification.py:1565: UndefinedMetricWarning: Recall is ill-defined and being set to 0.0 in labels with no true samples. Use `zero_division` parameter to control this behavior.\n",
      "  _warn_prf(average, modifier, f\"{metric.capitalize()} is\", len(result))\n",
      "/home/itsv.org.sv-services.at/tibor.cus@itsv.at/.cache/pypoetry/virtualenvs/toxicml-_rQSQEXi-py3.12/lib/python3.12/site-packages/sklearn/metrics/_classification.py:1565: UndefinedMetricWarning: Precision is ill-defined and being set to 0.0 in labels with no predicted samples. Use `zero_division` parameter to control this behavior.\n",
      "  _warn_prf(average, modifier, f\"{metric.capitalize()} is\", len(result))\n"
     ]
    },
    {
     "name": "stdout",
     "output_type": "stream",
     "text": [
      "{'train_language': 'PT', 'validation_language': 'PT', 'f1_score': 0.108444279912996, 'recall_score': 0.06545454545454545, 'precision_score': 0.45454545454545453}\n",
      "PT ALL\n",
      "EPOCH[0]Train Loss: 2.8731026649475098, Eval Loss: 0.7403919696807861\n",
      "EPOCH[1]Train Loss: 2.6407346725463867, Eval Loss: 0.7558190822601318\n",
      "EPOCH[2]Train Loss: 2.41947078704834, Eval Loss: 0.7703325748443604\n",
      "EPOCH[3]Train Loss: 2.2952849864959717, Eval Loss: 0.7819154858589172\n",
      "EPOCH[4]Train Loss: 2.1843421459198, Eval Loss: 0.7928871512413025\n",
      "EPOCH[5]Train Loss: 2.128549098968506, Eval Loss: 0.8020778298377991\n",
      "EPOCH[6]Train Loss: 2.066432237625122, Eval Loss: 0.8092833161354065\n",
      "EPOCH[7]Train Loss: 2.0303752422332764, Eval Loss: 0.8159158825874329\n",
      "EPOCH[8]Train Loss: 1.9992164373397827, Eval Loss: 0.821220874786377\n",
      "EPOCH[9]Train Loss: 1.9718706607818604, Eval Loss: 0.826214075088501\n",
      "EPOCH[10]Train Loss: 1.9571703672409058, Eval Loss: 0.8299364447593689\n",
      "EPOCH[11]Train Loss: 1.9153878688812256, Eval Loss: 0.8310732841491699\n",
      "EPOCH[12]Train Loss: 1.8934593200683594, Eval Loss: 0.8323925137519836\n",
      "EPOCH[13]Train Loss: 1.8583259582519531, Eval Loss: 0.832399845123291\n",
      "EPOCH[14]Train Loss: 1.8485908508300781, Eval Loss: 0.8275930881500244\n"
     ]
    },
    {
     "name": "stderr",
     "output_type": "stream",
     "text": [
      "/home/itsv.org.sv-services.at/tibor.cus@itsv.at/.cache/pypoetry/virtualenvs/toxicml-_rQSQEXi-py3.12/lib/python3.12/site-packages/sklearn/metrics/_classification.py:1565: UndefinedMetricWarning: F-score is ill-defined and being set to 0.0 in labels with no true nor predicted samples. Use `zero_division` parameter to control this behavior.\n",
      "  _warn_prf(average, modifier, f\"{metric.capitalize()} is\", len(result))\n",
      "/home/itsv.org.sv-services.at/tibor.cus@itsv.at/.cache/pypoetry/virtualenvs/toxicml-_rQSQEXi-py3.12/lib/python3.12/site-packages/sklearn/metrics/_classification.py:1565: UndefinedMetricWarning: Recall is ill-defined and being set to 0.0 in labels with no true samples. Use `zero_division` parameter to control this behavior.\n",
      "  _warn_prf(average, modifier, f\"{metric.capitalize()} is\", len(result))\n",
      "/home/itsv.org.sv-services.at/tibor.cus@itsv.at/.cache/pypoetry/virtualenvs/toxicml-_rQSQEXi-py3.12/lib/python3.12/site-packages/sklearn/metrics/_classification.py:1565: UndefinedMetricWarning: Precision is ill-defined and being set to 0.0 in labels with no predicted samples. Use `zero_division` parameter to control this behavior.\n",
      "  _warn_prf(average, modifier, f\"{metric.capitalize()} is\", len(result))\n"
     ]
    },
    {
     "name": "stdout",
     "output_type": "stream",
     "text": [
      "{'train_language': 'ALL', 'validation_language': 'PT', 'f1_score': 0.1040416958882155, 'recall_score': 0.06272727272727273, 'precision_score': 0.45454545454545453}\n",
      "HI HI\n",
      "EPOCH[0]Train Loss: 2.821322202682495, Eval Loss: 0.7320882678031921\n",
      "EPOCH[1]Train Loss: 2.592003345489502, Eval Loss: 0.7472867369651794\n",
      "EPOCH[2]Train Loss: 2.417958974838257, Eval Loss: 0.7611144781112671\n",
      "EPOCH[3]Train Loss: 2.2638301849365234, Eval Loss: 0.7735669016838074\n",
      "EPOCH[4]Train Loss: 2.173203945159912, Eval Loss: 0.7882792353630066\n",
      "EPOCH[5]Train Loss: 2.073046922683716, Eval Loss: 0.8026635646820068\n",
      "EPOCH[6]Train Loss: 2.022648811340332, Eval Loss: 0.8154229521751404\n",
      "EPOCH[7]Train Loss: 1.9811627864837646, Eval Loss: 0.8262895941734314\n",
      "EPOCH[8]Train Loss: 1.9538978338241577, Eval Loss: 0.8351835608482361\n",
      "EPOCH[9]Train Loss: 1.9125375747680664, Eval Loss: 0.8433253169059753\n",
      "EPOCH[10]Train Loss: 1.89554762840271, Eval Loss: 0.8498998284339905\n",
      "EPOCH[11]Train Loss: 1.8469035625457764, Eval Loss: 0.8556584119796753\n",
      "EPOCH[12]Train Loss: 1.8446344137191772, Eval Loss: 0.8576400279998779\n",
      "EPOCH[13]Train Loss: 1.80403470993042, Eval Loss: 0.8608054518699646\n",
      "EPOCH[14]Train Loss: 1.8084169626235962, Eval Loss: 0.8601527214050293\n"
     ]
    },
    {
     "name": "stderr",
     "output_type": "stream",
     "text": [
      "/home/itsv.org.sv-services.at/tibor.cus@itsv.at/.cache/pypoetry/virtualenvs/toxicml-_rQSQEXi-py3.12/lib/python3.12/site-packages/sklearn/metrics/_classification.py:1565: UndefinedMetricWarning: F-score is ill-defined and being set to 0.0 in labels with no true nor predicted samples. Use `zero_division` parameter to control this behavior.\n",
      "  _warn_prf(average, modifier, f\"{metric.capitalize()} is\", len(result))\n",
      "/home/itsv.org.sv-services.at/tibor.cus@itsv.at/.cache/pypoetry/virtualenvs/toxicml-_rQSQEXi-py3.12/lib/python3.12/site-packages/sklearn/metrics/_classification.py:1565: UndefinedMetricWarning: Recall is ill-defined and being set to 0.0 in labels with no true samples. Use `zero_division` parameter to control this behavior.\n",
      "  _warn_prf(average, modifier, f\"{metric.capitalize()} is\", len(result))\n",
      "/home/itsv.org.sv-services.at/tibor.cus@itsv.at/.cache/pypoetry/virtualenvs/toxicml-_rQSQEXi-py3.12/lib/python3.12/site-packages/sklearn/metrics/_classification.py:1565: UndefinedMetricWarning: Precision is ill-defined and being set to 0.0 in labels with no predicted samples. Use `zero_division` parameter to control this behavior.\n",
      "  _warn_prf(average, modifier, f\"{metric.capitalize()} is\", len(result))\n"
     ]
    },
    {
     "name": "stdout",
     "output_type": "stream",
     "text": [
      "{'train_language': 'HI', 'validation_language': 'HI', 'f1_score': 0.055160522725415634, 'recall_score': 0.031818181818181815, 'precision_score': 0.3181818181818182}\n",
      "HI ALL\n",
      "EPOCH[0]Train Loss: 2.8377270698547363, Eval Loss: 0.7334511280059814\n",
      "EPOCH[1]Train Loss: 2.5591888427734375, Eval Loss: 0.7450816035270691\n",
      "EPOCH[2]Train Loss: 2.3340630531311035, Eval Loss: 0.7625779509544373\n",
      "EPOCH[3]Train Loss: 2.1972880363464355, Eval Loss: 0.7786247730255127\n",
      "EPOCH[4]Train Loss: 2.095162868499756, Eval Loss: 0.7905177474021912\n",
      "EPOCH[5]Train Loss: 2.043152332305908, Eval Loss: 0.7993278503417969\n",
      "EPOCH[6]Train Loss: 1.9877119064331055, Eval Loss: 0.8085582256317139\n",
      "EPOCH[7]Train Loss: 1.9445940256118774, Eval Loss: 0.8148481845855713\n",
      "EPOCH[8]Train Loss: 1.9235763549804688, Eval Loss: 0.8199278712272644\n",
      "EPOCH[9]Train Loss: 1.9014803171157837, Eval Loss: 0.8250513672828674\n",
      "EPOCH[10]Train Loss: 1.8738147020339966, Eval Loss: 0.829089879989624\n",
      "EPOCH[11]Train Loss: 1.852693796157837, Eval Loss: 0.8314937949180603\n",
      "EPOCH[12]Train Loss: 1.8517241477966309, Eval Loss: 0.8320261836051941\n",
      "EPOCH[13]Train Loss: 1.8181051015853882, Eval Loss: 0.8312682509422302\n",
      "EPOCH[14]Train Loss: 1.8051443099975586, Eval Loss: 0.8251187205314636\n"
     ]
    },
    {
     "name": "stderr",
     "output_type": "stream",
     "text": [
      "/home/itsv.org.sv-services.at/tibor.cus@itsv.at/.cache/pypoetry/virtualenvs/toxicml-_rQSQEXi-py3.12/lib/python3.12/site-packages/sklearn/metrics/_classification.py:1565: UndefinedMetricWarning: F-score is ill-defined and being set to 0.0 in labels with no true nor predicted samples. Use `zero_division` parameter to control this behavior.\n",
      "  _warn_prf(average, modifier, f\"{metric.capitalize()} is\", len(result))\n",
      "/home/itsv.org.sv-services.at/tibor.cus@itsv.at/.cache/pypoetry/virtualenvs/toxicml-_rQSQEXi-py3.12/lib/python3.12/site-packages/sklearn/metrics/_classification.py:1565: UndefinedMetricWarning: Recall is ill-defined and being set to 0.0 in labels with no true samples. Use `zero_division` parameter to control this behavior.\n",
      "  _warn_prf(average, modifier, f\"{metric.capitalize()} is\", len(result))\n",
      "/home/itsv.org.sv-services.at/tibor.cus@itsv.at/.cache/pypoetry/virtualenvs/toxicml-_rQSQEXi-py3.12/lib/python3.12/site-packages/sklearn/metrics/_classification.py:1565: UndefinedMetricWarning: Precision is ill-defined and being set to 0.0 in labels with no predicted samples. Use `zero_division` parameter to control this behavior.\n",
      "  _warn_prf(average, modifier, f\"{metric.capitalize()} is\", len(result))\n"
     ]
    },
    {
     "name": "stdout",
     "output_type": "stream",
     "text": [
      "{'train_language': 'ALL', 'validation_language': 'HI', 'f1_score': 0.08335480286489429, 'recall_score': 0.05, 'precision_score': 0.36363636363636365}\n",
      "BG BG\n",
      "EPOCH[0]Train Loss: 2.970127582550049, Eval Loss: 0.7420029640197754\n",
      "EPOCH[1]Train Loss: 2.7165896892547607, Eval Loss: 0.7529512643814087\n",
      "EPOCH[2]Train Loss: 2.488114595413208, Eval Loss: 0.7663761973381042\n",
      "EPOCH[3]Train Loss: 2.3250808715820312, Eval Loss: 0.7825716733932495\n",
      "EPOCH[4]Train Loss: 2.233675956726074, Eval Loss: 0.7995549440383911\n",
      "EPOCH[5]Train Loss: 2.1504600048065186, Eval Loss: 0.8180508613586426\n",
      "EPOCH[6]Train Loss: 2.0887632369995117, Eval Loss: 0.83526211977005\n",
      "EPOCH[7]Train Loss: 2.027958393096924, Eval Loss: 0.849500834941864\n",
      "EPOCH[8]Train Loss: 2.002443313598633, Eval Loss: 0.8624799251556396\n",
      "EPOCH[9]Train Loss: 1.9780458211898804, Eval Loss: 0.8699474334716797\n",
      "EPOCH[10]Train Loss: 1.936424970626831, Eval Loss: 0.8769748210906982\n",
      "EPOCH[11]Train Loss: 1.9004610776901245, Eval Loss: 0.8811426162719727\n",
      "EPOCH[12]Train Loss: 1.9074594974517822, Eval Loss: 0.8817020654678345\n",
      "EPOCH[13]Train Loss: 1.8814749717712402, Eval Loss: 0.8742238283157349\n",
      "EPOCH[14]Train Loss: 1.8543540239334106, Eval Loss: 0.8593595623970032\n"
     ]
    },
    {
     "name": "stderr",
     "output_type": "stream",
     "text": [
      "/home/itsv.org.sv-services.at/tibor.cus@itsv.at/.cache/pypoetry/virtualenvs/toxicml-_rQSQEXi-py3.12/lib/python3.12/site-packages/sklearn/metrics/_classification.py:1565: UndefinedMetricWarning: F-score is ill-defined and being set to 0.0 in labels with no true nor predicted samples. Use `zero_division` parameter to control this behavior.\n",
      "  _warn_prf(average, modifier, f\"{metric.capitalize()} is\", len(result))\n",
      "/home/itsv.org.sv-services.at/tibor.cus@itsv.at/.cache/pypoetry/virtualenvs/toxicml-_rQSQEXi-py3.12/lib/python3.12/site-packages/sklearn/metrics/_classification.py:1565: UndefinedMetricWarning: Recall is ill-defined and being set to 0.0 in labels with no true samples. Use `zero_division` parameter to control this behavior.\n",
      "  _warn_prf(average, modifier, f\"{metric.capitalize()} is\", len(result))\n",
      "/home/itsv.org.sv-services.at/tibor.cus@itsv.at/.cache/pypoetry/virtualenvs/toxicml-_rQSQEXi-py3.12/lib/python3.12/site-packages/sklearn/metrics/_classification.py:1565: UndefinedMetricWarning: Precision is ill-defined and being set to 0.0 in labels with no predicted samples. Use `zero_division` parameter to control this behavior.\n",
      "  _warn_prf(average, modifier, f\"{metric.capitalize()} is\", len(result))\n"
     ]
    },
    {
     "name": "stdout",
     "output_type": "stream",
     "text": [
      "{'train_language': 'BG', 'validation_language': 'BG', 'f1_score': 0.09312291505744913, 'recall_score': 0.054367201426024955, 'precision_score': 0.45454545454545453}\n",
      "BG ALL\n",
      "EPOCH[0]Train Loss: 2.8997504711151123, Eval Loss: 0.7446050643920898\n",
      "EPOCH[1]Train Loss: 2.5918376445770264, Eval Loss: 0.7583915591239929\n",
      "EPOCH[2]Train Loss: 2.3741538524627686, Eval Loss: 0.7793488502502441\n",
      "EPOCH[3]Train Loss: 2.217302083969116, Eval Loss: 0.8013672828674316\n",
      "EPOCH[4]Train Loss: 2.1159183979034424, Eval Loss: 0.820798397064209\n",
      "EPOCH[5]Train Loss: 2.0295653343200684, Eval Loss: 0.8398236632347107\n",
      "EPOCH[6]Train Loss: 1.9842883348464966, Eval Loss: 0.8549456000328064\n",
      "EPOCH[7]Train Loss: 1.9517439603805542, Eval Loss: 0.8664462566375732\n",
      "EPOCH[8]Train Loss: 1.9291025400161743, Eval Loss: 0.8762837052345276\n",
      "EPOCH[9]Train Loss: 1.9055821895599365, Eval Loss: 0.88286954164505\n",
      "EPOCH[10]Train Loss: 1.854971170425415, Eval Loss: 0.8860445022583008\n",
      "EPOCH[11]Train Loss: 1.8590831756591797, Eval Loss: 0.8883289694786072\n",
      "EPOCH[12]Train Loss: 1.8374708890914917, Eval Loss: 0.8892078399658203\n",
      "EPOCH[13]Train Loss: 1.8405916690826416, Eval Loss: 0.8893520832061768\n",
      "EPOCH[14]Train Loss: 1.812758445739746, Eval Loss: 0.8867242336273193\n",
      "{'train_language': 'ALL', 'validation_language': 'BG', 'f1_score': 0.07000285330102375, 'recall_score': 0.0409982174688057, 'precision_score': 0.45454545454545453}\n"
     ]
    },
    {
     "name": "stderr",
     "output_type": "stream",
     "text": [
      "/home/itsv.org.sv-services.at/tibor.cus@itsv.at/.cache/pypoetry/virtualenvs/toxicml-_rQSQEXi-py3.12/lib/python3.12/site-packages/sklearn/metrics/_classification.py:1565: UndefinedMetricWarning: F-score is ill-defined and being set to 0.0 in labels with no true nor predicted samples. Use `zero_division` parameter to control this behavior.\n",
      "  _warn_prf(average, modifier, f\"{metric.capitalize()} is\", len(result))\n",
      "/home/itsv.org.sv-services.at/tibor.cus@itsv.at/.cache/pypoetry/virtualenvs/toxicml-_rQSQEXi-py3.12/lib/python3.12/site-packages/sklearn/metrics/_classification.py:1565: UndefinedMetricWarning: Recall is ill-defined and being set to 0.0 in labels with no true samples. Use `zero_division` parameter to control this behavior.\n",
      "  _warn_prf(average, modifier, f\"{metric.capitalize()} is\", len(result))\n",
      "/home/itsv.org.sv-services.at/tibor.cus@itsv.at/.cache/pypoetry/virtualenvs/toxicml-_rQSQEXi-py3.12/lib/python3.12/site-packages/sklearn/metrics/_classification.py:1565: UndefinedMetricWarning: Precision is ill-defined and being set to 0.0 in labels with no predicted samples. Use `zero_division` parameter to control this behavior.\n",
      "  _warn_prf(average, modifier, f\"{metric.capitalize()} is\", len(result))\n"
     ]
    }
   ],
   "source": [
    "from sklearn.metrics import f1_score, recall_score, precision_score\n",
    "scoring_functions = [f1_score, recall_score, precision_score]\n",
    "lr = 0.0001\n",
    "batch_size = 32\n",
    "epochs = 15\n",
    "\n",
    "all_res = []\n",
    "\n",
    "\n",
    "for validation_language, train_language, train, val, test in datasets:\n",
    "    res = {\n",
    "        \"train_language\": train_language,\n",
    "        \"validation_language\": validation_language\n",
    "    }\n",
    "    print(validation_language, train_language)\n",
    "    torch.cuda.empty_cache()\n",
    "    torch.cuda.memory_allocated()\n",
    "    model = CustomBertClassifier(256, 97)\n",
    "    torch.cuda.empty_cache()\n",
    "    torch.cuda.memory_allocated()\n",
    "    optimizer = Adam(model.parameters(), lr=lr)\n",
    "    loss_fn = loss_fn = torch.nn.BCELoss()\n",
    "    train_dl = DataLoader(train, batch_size=batch_size)\n",
    "    eval_dl = DataLoader(val, batch_size=batch_size)\n",
    "    test_dl = DataLoader(test, batch_size=batch_size)\n",
    "\n",
    "    best_loss = torch.inf\n",
    "    for i in range(epochs):\n",
    "        loss = training_step(train_dl, model, optimizer, loss_fn, device=device, freeze_bert=True)\n",
    "        eval_loss = eval_step(eval_dl, model, loss_fn)\n",
    "        print(f\"EPOCH[{i}]Train Loss: {loss}, Eval Loss: {eval_loss}\")\n",
    "    res.update(eval_model(test_dl, model, scoring_functions))\n",
    "    print(res)\n",
    "    all_res.append(res)\n",
    "    \n",
    "    del model\n",
    "    del train\n",
    "    del val\n",
    "    del test\n"
   ]
  },
  {
   "cell_type": "code",
   "execution_count": 6,
   "metadata": {},
   "outputs": [],
   "source": [
    "import pandas as pd\n",
    "pd.DataFrame(all_res).to_csv(\"subnaratives_epochs_15.csv\", index=False)"
   ]
  },
  {
   "cell_type": "code",
   "execution_count": 7,
   "metadata": {},
   "outputs": [
    {
     "name": "stdout",
     "output_type": "stream",
     "text": [
      "EN EN\n",
      "EPOCH[0]Train Loss: 2.872985363006592, Eval Loss: 0.7406224012374878\n",
      "EPOCH[1]Train Loss: 2.54636549949646, Eval Loss: 0.752669095993042\n",
      "EPOCH[2]Train Loss: 2.316941738128662, Eval Loss: 0.7644317746162415\n"
     ]
    },
    {
     "name": "stderr",
     "output_type": "stream",
     "text": [
      "/home/itsv.org.sv-services.at/tibor.cus@itsv.at/.cache/pypoetry/virtualenvs/toxicml-_rQSQEXi-py3.12/lib/python3.12/site-packages/sklearn/metrics/_classification.py:1565: UndefinedMetricWarning: F-score is ill-defined and being set to 0.0 in labels with no true nor predicted samples. Use `zero_division` parameter to control this behavior.\n",
      "  _warn_prf(average, modifier, f\"{metric.capitalize()} is\", len(result))\n",
      "/home/itsv.org.sv-services.at/tibor.cus@itsv.at/.cache/pypoetry/virtualenvs/toxicml-_rQSQEXi-py3.12/lib/python3.12/site-packages/sklearn/metrics/_classification.py:1565: UndefinedMetricWarning: Recall is ill-defined and being set to 0.0 in labels with no true samples. Use `zero_division` parameter to control this behavior.\n",
      "  _warn_prf(average, modifier, f\"{metric.capitalize()} is\", len(result))\n",
      "/home/itsv.org.sv-services.at/tibor.cus@itsv.at/.cache/pypoetry/virtualenvs/toxicml-_rQSQEXi-py3.12/lib/python3.12/site-packages/sklearn/metrics/_classification.py:1565: UndefinedMetricWarning: Precision is ill-defined and being set to 0.0 in labels with no predicted samples. Use `zero_division` parameter to control this behavior.\n",
      "  _warn_prf(average, modifier, f\"{metric.capitalize()} is\", len(result))\n"
     ]
    },
    {
     "name": "stdout",
     "output_type": "stream",
     "text": [
      "{'train_language': 'EN', 'validation_language': 'EN', 'f1_score': 0.060300954030143815, 'recall_score': 0.03272727272727272, 'precision_score': 0.5}\n",
      "EN ALL\n",
      "EPOCH[0]Train Loss: 2.949291229248047, Eval Loss: 0.7468878626823425\n",
      "EPOCH[1]Train Loss: 2.618835687637329, Eval Loss: 0.7538485527038574\n",
      "EPOCH[2]Train Loss: 2.3437466621398926, Eval Loss: 0.7645307183265686\n"
     ]
    },
    {
     "name": "stderr",
     "output_type": "stream",
     "text": [
      "/home/itsv.org.sv-services.at/tibor.cus@itsv.at/.cache/pypoetry/virtualenvs/toxicml-_rQSQEXi-py3.12/lib/python3.12/site-packages/sklearn/metrics/_classification.py:1565: UndefinedMetricWarning: F-score is ill-defined and being set to 0.0 in labels with no true nor predicted samples. Use `zero_division` parameter to control this behavior.\n",
      "  _warn_prf(average, modifier, f\"{metric.capitalize()} is\", len(result))\n",
      "/home/itsv.org.sv-services.at/tibor.cus@itsv.at/.cache/pypoetry/virtualenvs/toxicml-_rQSQEXi-py3.12/lib/python3.12/site-packages/sklearn/metrics/_classification.py:1565: UndefinedMetricWarning: Recall is ill-defined and being set to 0.0 in labels with no true samples. Use `zero_division` parameter to control this behavior.\n",
      "  _warn_prf(average, modifier, f\"{metric.capitalize()} is\", len(result))\n",
      "/home/itsv.org.sv-services.at/tibor.cus@itsv.at/.cache/pypoetry/virtualenvs/toxicml-_rQSQEXi-py3.12/lib/python3.12/site-packages/sklearn/metrics/_classification.py:1565: UndefinedMetricWarning: Precision is ill-defined and being set to 0.0 in labels with no predicted samples. Use `zero_division` parameter to control this behavior.\n",
      "  _warn_prf(average, modifier, f\"{metric.capitalize()} is\", len(result))\n"
     ]
    },
    {
     "name": "stdout",
     "output_type": "stream",
     "text": [
      "{'train_language': 'ALL', 'validation_language': 'EN', 'f1_score': 0.09305620749046183, 'recall_score': 0.05636363636363637, 'precision_score': 0.5909090909090909}\n",
      "PT PT\n",
      "EPOCH[0]Train Loss: 2.841423511505127, Eval Loss: 0.7418946027755737\n",
      "EPOCH[1]Train Loss: 2.4976775646209717, Eval Loss: 0.7562615871429443\n",
      "EPOCH[2]Train Loss: 2.310530662536621, Eval Loss: 0.7713890075683594\n"
     ]
    },
    {
     "name": "stderr",
     "output_type": "stream",
     "text": [
      "/home/itsv.org.sv-services.at/tibor.cus@itsv.at/.cache/pypoetry/virtualenvs/toxicml-_rQSQEXi-py3.12/lib/python3.12/site-packages/sklearn/metrics/_classification.py:1565: UndefinedMetricWarning: F-score is ill-defined and being set to 0.0 in labels with no true nor predicted samples. Use `zero_division` parameter to control this behavior.\n",
      "  _warn_prf(average, modifier, f\"{metric.capitalize()} is\", len(result))\n",
      "/home/itsv.org.sv-services.at/tibor.cus@itsv.at/.cache/pypoetry/virtualenvs/toxicml-_rQSQEXi-py3.12/lib/python3.12/site-packages/sklearn/metrics/_classification.py:1565: UndefinedMetricWarning: Recall is ill-defined and being set to 0.0 in labels with no true samples. Use `zero_division` parameter to control this behavior.\n",
      "  _warn_prf(average, modifier, f\"{metric.capitalize()} is\", len(result))\n",
      "/home/itsv.org.sv-services.at/tibor.cus@itsv.at/.cache/pypoetry/virtualenvs/toxicml-_rQSQEXi-py3.12/lib/python3.12/site-packages/sklearn/metrics/_classification.py:1565: UndefinedMetricWarning: Precision is ill-defined and being set to 0.0 in labels with no predicted samples. Use `zero_division` parameter to control this behavior.\n",
      "  _warn_prf(average, modifier, f\"{metric.capitalize()} is\", len(result))\n"
     ]
    },
    {
     "name": "stdout",
     "output_type": "stream",
     "text": [
      "{'train_language': 'PT', 'validation_language': 'PT', 'f1_score': 0.11667778526161533, 'recall_score': 0.07, 'precision_score': 0.5454545454545454}\n",
      "PT ALL\n",
      "EPOCH[0]Train Loss: 2.78753662109375, Eval Loss: 0.741591215133667\n",
      "EPOCH[1]Train Loss: 2.4001646041870117, Eval Loss: 0.7543140053749084\n",
      "EPOCH[2]Train Loss: 2.208984851837158, Eval Loss: 0.7713327407836914\n"
     ]
    },
    {
     "name": "stderr",
     "output_type": "stream",
     "text": [
      "/home/itsv.org.sv-services.at/tibor.cus@itsv.at/.cache/pypoetry/virtualenvs/toxicml-_rQSQEXi-py3.12/lib/python3.12/site-packages/sklearn/metrics/_classification.py:1565: UndefinedMetricWarning: F-score is ill-defined and being set to 0.0 in labels with no true nor predicted samples. Use `zero_division` parameter to control this behavior.\n",
      "  _warn_prf(average, modifier, f\"{metric.capitalize()} is\", len(result))\n",
      "/home/itsv.org.sv-services.at/tibor.cus@itsv.at/.cache/pypoetry/virtualenvs/toxicml-_rQSQEXi-py3.12/lib/python3.12/site-packages/sklearn/metrics/_classification.py:1565: UndefinedMetricWarning: Recall is ill-defined and being set to 0.0 in labels with no true samples. Use `zero_division` parameter to control this behavior.\n",
      "  _warn_prf(average, modifier, f\"{metric.capitalize()} is\", len(result))\n",
      "/home/itsv.org.sv-services.at/tibor.cus@itsv.at/.cache/pypoetry/virtualenvs/toxicml-_rQSQEXi-py3.12/lib/python3.12/site-packages/sklearn/metrics/_classification.py:1565: UndefinedMetricWarning: Precision is ill-defined and being set to 0.0 in labels with no predicted samples. Use `zero_division` parameter to control this behavior.\n",
      "  _warn_prf(average, modifier, f\"{metric.capitalize()} is\", len(result))\n"
     ]
    },
    {
     "name": "stdout",
     "output_type": "stream",
     "text": [
      "{'train_language': 'ALL', 'validation_language': 'PT', 'f1_score': 0.1012081147644305, 'recall_score': 0.05818181818181818, 'precision_score': 0.5454545454545454}\n",
      "HI HI\n",
      "EPOCH[0]Train Loss: 2.856110095977783, Eval Loss: 0.7265627384185791\n",
      "EPOCH[1]Train Loss: 2.6351723670959473, Eval Loss: 0.7383742332458496\n",
      "EPOCH[2]Train Loss: 2.425524950027466, Eval Loss: 0.7513781189918518\n"
     ]
    },
    {
     "name": "stderr",
     "output_type": "stream",
     "text": [
      "/home/itsv.org.sv-services.at/tibor.cus@itsv.at/.cache/pypoetry/virtualenvs/toxicml-_rQSQEXi-py3.12/lib/python3.12/site-packages/sklearn/metrics/_classification.py:1565: UndefinedMetricWarning: F-score is ill-defined and being set to 0.0 in labels with no true nor predicted samples. Use `zero_division` parameter to control this behavior.\n",
      "  _warn_prf(average, modifier, f\"{metric.capitalize()} is\", len(result))\n",
      "/home/itsv.org.sv-services.at/tibor.cus@itsv.at/.cache/pypoetry/virtualenvs/toxicml-_rQSQEXi-py3.12/lib/python3.12/site-packages/sklearn/metrics/_classification.py:1565: UndefinedMetricWarning: Recall is ill-defined and being set to 0.0 in labels with no true samples. Use `zero_division` parameter to control this behavior.\n",
      "  _warn_prf(average, modifier, f\"{metric.capitalize()} is\", len(result))\n",
      "/home/itsv.org.sv-services.at/tibor.cus@itsv.at/.cache/pypoetry/virtualenvs/toxicml-_rQSQEXi-py3.12/lib/python3.12/site-packages/sklearn/metrics/_classification.py:1565: UndefinedMetricWarning: Precision is ill-defined and being set to 0.0 in labels with no predicted samples. Use `zero_division` parameter to control this behavior.\n",
      "  _warn_prf(average, modifier, f\"{metric.capitalize()} is\", len(result))\n"
     ]
    },
    {
     "name": "stdout",
     "output_type": "stream",
     "text": [
      "{'train_language': 'HI', 'validation_language': 'HI', 'f1_score': 0.06860497675336112, 'recall_score': 0.0393939393939394, 'precision_score': 0.36363636363636365}\n",
      "HI ALL\n",
      "EPOCH[0]Train Loss: 2.8616538047790527, Eval Loss: 0.7412325739860535\n",
      "EPOCH[1]Train Loss: 2.6070048809051514, Eval Loss: 0.7507750391960144\n",
      "EPOCH[2]Train Loss: 2.395275592803955, Eval Loss: 0.7626375555992126\n"
     ]
    },
    {
     "name": "stderr",
     "output_type": "stream",
     "text": [
      "/home/itsv.org.sv-services.at/tibor.cus@itsv.at/.cache/pypoetry/virtualenvs/toxicml-_rQSQEXi-py3.12/lib/python3.12/site-packages/sklearn/metrics/_classification.py:1565: UndefinedMetricWarning: F-score is ill-defined and being set to 0.0 in labels with no true nor predicted samples. Use `zero_division` parameter to control this behavior.\n",
      "  _warn_prf(average, modifier, f\"{metric.capitalize()} is\", len(result))\n",
      "/home/itsv.org.sv-services.at/tibor.cus@itsv.at/.cache/pypoetry/virtualenvs/toxicml-_rQSQEXi-py3.12/lib/python3.12/site-packages/sklearn/metrics/_classification.py:1565: UndefinedMetricWarning: Recall is ill-defined and being set to 0.0 in labels with no true samples. Use `zero_division` parameter to control this behavior.\n",
      "  _warn_prf(average, modifier, f\"{metric.capitalize()} is\", len(result))\n",
      "/home/itsv.org.sv-services.at/tibor.cus@itsv.at/.cache/pypoetry/virtualenvs/toxicml-_rQSQEXi-py3.12/lib/python3.12/site-packages/sklearn/metrics/_classification.py:1565: UndefinedMetricWarning: Precision is ill-defined and being set to 0.0 in labels with no predicted samples. Use `zero_division` parameter to control this behavior.\n",
      "  _warn_prf(average, modifier, f\"{metric.capitalize()} is\", len(result))\n"
     ]
    },
    {
     "name": "stdout",
     "output_type": "stream",
     "text": [
      "{'train_language': 'ALL', 'validation_language': 'HI', 'f1_score': 0.0866372608760913, 'recall_score': 0.051515151515151514, 'precision_score': 0.45454545454545453}\n",
      "BG BG\n",
      "EPOCH[0]Train Loss: 2.882192611694336, Eval Loss: 0.7203267216682434\n",
      "EPOCH[1]Train Loss: 2.6298887729644775, Eval Loss: 0.736505389213562\n",
      "EPOCH[2]Train Loss: 2.391648054122925, Eval Loss: 0.7567790746688843\n"
     ]
    },
    {
     "name": "stderr",
     "output_type": "stream",
     "text": [
      "/home/itsv.org.sv-services.at/tibor.cus@itsv.at/.cache/pypoetry/virtualenvs/toxicml-_rQSQEXi-py3.12/lib/python3.12/site-packages/sklearn/metrics/_classification.py:1565: UndefinedMetricWarning: F-score is ill-defined and being set to 0.0 in labels with no true nor predicted samples. Use `zero_division` parameter to control this behavior.\n",
      "  _warn_prf(average, modifier, f\"{metric.capitalize()} is\", len(result))\n",
      "/home/itsv.org.sv-services.at/tibor.cus@itsv.at/.cache/pypoetry/virtualenvs/toxicml-_rQSQEXi-py3.12/lib/python3.12/site-packages/sklearn/metrics/_classification.py:1565: UndefinedMetricWarning: Recall is ill-defined and being set to 0.0 in labels with no true samples. Use `zero_division` parameter to control this behavior.\n",
      "  _warn_prf(average, modifier, f\"{metric.capitalize()} is\", len(result))\n",
      "/home/itsv.org.sv-services.at/tibor.cus@itsv.at/.cache/pypoetry/virtualenvs/toxicml-_rQSQEXi-py3.12/lib/python3.12/site-packages/sklearn/metrics/_classification.py:1565: UndefinedMetricWarning: Precision is ill-defined and being set to 0.0 in labels with no predicted samples. Use `zero_division` parameter to control this behavior.\n",
      "  _warn_prf(average, modifier, f\"{metric.capitalize()} is\", len(result))\n"
     ]
    },
    {
     "name": "stdout",
     "output_type": "stream",
     "text": [
      "{'train_language': 'BG', 'validation_language': 'BG', 'f1_score': 0.09896880692673612, 'recall_score': 0.057932263814616754, 'precision_score': 0.5909090909090909}\n",
      "BG ALL\n",
      "EPOCH[0]Train Loss: 2.791367292404175, Eval Loss: 0.7400941252708435\n",
      "EPOCH[1]Train Loss: 2.4593043327331543, Eval Loss: 0.755237340927124\n",
      "EPOCH[2]Train Loss: 2.2524526119232178, Eval Loss: 0.7676727771759033\n",
      "{'train_language': 'ALL', 'validation_language': 'BG', 'f1_score': 0.10361272972005221, 'recall_score': 0.060606060606060615, 'precision_score': 0.5909090909090909}\n"
     ]
    },
    {
     "name": "stderr",
     "output_type": "stream",
     "text": [
      "/home/itsv.org.sv-services.at/tibor.cus@itsv.at/.cache/pypoetry/virtualenvs/toxicml-_rQSQEXi-py3.12/lib/python3.12/site-packages/sklearn/metrics/_classification.py:1565: UndefinedMetricWarning: F-score is ill-defined and being set to 0.0 in labels with no true nor predicted samples. Use `zero_division` parameter to control this behavior.\n",
      "  _warn_prf(average, modifier, f\"{metric.capitalize()} is\", len(result))\n",
      "/home/itsv.org.sv-services.at/tibor.cus@itsv.at/.cache/pypoetry/virtualenvs/toxicml-_rQSQEXi-py3.12/lib/python3.12/site-packages/sklearn/metrics/_classification.py:1565: UndefinedMetricWarning: Recall is ill-defined and being set to 0.0 in labels with no true samples. Use `zero_division` parameter to control this behavior.\n",
      "  _warn_prf(average, modifier, f\"{metric.capitalize()} is\", len(result))\n",
      "/home/itsv.org.sv-services.at/tibor.cus@itsv.at/.cache/pypoetry/virtualenvs/toxicml-_rQSQEXi-py3.12/lib/python3.12/site-packages/sklearn/metrics/_classification.py:1565: UndefinedMetricWarning: Precision is ill-defined and being set to 0.0 in labels with no predicted samples. Use `zero_division` parameter to control this behavior.\n",
      "  _warn_prf(average, modifier, f\"{metric.capitalize()} is\", len(result))\n"
     ]
    }
   ],
   "source": [
    "\n",
    "from sklearn.metrics import f1_score, recall_score, precision_score\n",
    "scoring_functions = [f1_score, recall_score, precision_score]\n",
    "lr = 0.0001\n",
    "batch_size = 32\n",
    "epochs = 3\n",
    "\n",
    "all_res = []\n",
    "\n",
    "\n",
    "for validation_language, train_language, train, val, test in datasets:\n",
    "    res = {\n",
    "        \"train_language\": train_language,\n",
    "        \"validation_language\": validation_language\n",
    "    }\n",
    "    print(validation_language, train_language)\n",
    "    torch.cuda.empty_cache()\n",
    "    torch.cuda.memory_allocated()\n",
    "    model = CustomBertClassifier(256, 97)\n",
    "    torch.cuda.empty_cache()\n",
    "    torch.cuda.memory_allocated()\n",
    "    optimizer = Adam(model.parameters(), lr=lr)\n",
    "    loss_fn = loss_fn = torch.nn.BCELoss()\n",
    "    train_dl = DataLoader(train, batch_size=batch_size)\n",
    "    eval_dl = DataLoader(val, batch_size=batch_size)\n",
    "    test_dl = DataLoader(test, batch_size=batch_size)\n",
    "\n",
    "    best_loss = torch.inf\n",
    "    for i in range(epochs):\n",
    "        loss = training_step(train_dl, model, optimizer, loss_fn, device=device, freeze_bert=True)\n",
    "        eval_loss = eval_step(eval_dl, model, loss_fn)\n",
    "        print(f\"EPOCH[{i}]Train Loss: {loss}, Eval Loss: {eval_loss}\")\n",
    "    res.update(eval_model(test_dl, model, scoring_functions))\n",
    "    print(res)\n",
    "    all_res.append(res)\n",
    "    \n",
    "    del model\n",
    "    del train\n",
    "    del val\n",
    "    del test\n"
   ]
  },
  {
   "cell_type": "code",
   "execution_count": 8,
   "metadata": {},
   "outputs": [],
   "source": [
    "pd.DataFrame(all_res).to_csv(\"subnaratives_epochs_3.csv\", index=False)"
   ]
  },
  {
   "cell_type": "code",
   "execution_count": null,
   "metadata": {},
   "outputs": [],
   "source": []
  }
 ],
 "metadata": {
  "kernelspec": {
   "display_name": "toxicml-_rQSQEXi-py3.12",
   "language": "python",
   "name": "python3"
  },
  "language_info": {
   "codemirror_mode": {
    "name": "ipython",
    "version": 3
   },
   "file_extension": ".py",
   "mimetype": "text/x-python",
   "name": "python",
   "nbconvert_exporter": "python",
   "pygments_lexer": "ipython3",
   "version": "3.12.7"
  }
 },
 "nbformat": 4,
 "nbformat_minor": 2
}
