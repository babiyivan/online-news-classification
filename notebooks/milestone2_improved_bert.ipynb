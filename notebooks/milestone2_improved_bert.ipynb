{
 "cells": [
  {
   "cell_type": "code",
   "execution_count": 1,
   "metadata": {},
   "outputs": [
    {
     "name": "stderr",
     "output_type": "stream",
     "text": [
      "/home/theo/.pyenv/versions/3.12.7/envs/nlp/lib/python3.12/site-packages/tqdm/auto.py:21: TqdmWarning: IProgress not found. Please update jupyter and ipywidgets. See https://ipywidgets.readthedocs.io/en/stable/user_install.html\n",
      "  from .autonotebook import tqdm as notebook_tqdm\n"
     ]
    }
   ],
   "source": [
    "import pandas as pd\n",
    "import torch\n",
    "import os\n",
    "import tqdm\n",
    "import zipfile\n",
    "from conllu import parse\n",
    "from torch.utils.data.dataset import Dataset\n",
    "from sklearn.model_selection import train_test_split\n",
    "from transformers import BertTokenizer\n",
    "from transformers import BertForSequenceClassification\n",
    "from torch.utils.data import DataLoader\n",
    "from torch.optim import AdamW\n",
    "from sklearn.metrics import hamming_loss, f1_score, classification_report"
   ]
  },
  {
   "cell_type": "markdown",
   "metadata": {},
   "source": [
    "# Defining constants and paths\n",
    "Here, we specify the target language and the paths to the raw and preprocessed data.\n",
    "We also unzip the raw dataset."
   ]
  },
  {
   "cell_type": "code",
   "execution_count": 2,
   "metadata": {},
   "outputs": [],
   "source": [
    "TARGET_LANG = ['EN', 'BG', 'PT', 'RU']\n",
    "\n",
    "RAW_DATASET_PATH = '../data/raw/target_4_December_release'\n",
    "PREPROCESSED_DATASET_PATH = '../data/preprocessed/preprocessed_target_4_December_release'\n",
    "\n",
    "LABELS_PATH = [os.path.join(RAW_DATASET_PATH, lang, 'subtask-2-annotations.txt') for lang in TARGET_LANG]\n",
    "INPUTS_PATH = [os.path.join(PREPROCESSED_DATASET_PATH, lang) for lang in TARGET_LANG]\n",
    "\n",
    "with zipfile.ZipFile(RAW_DATASET_PATH + '.zip', 'r') as zip_ref:\n",
    "    zip_ref.extractall(RAW_DATASET_PATH, pwd=b'narratives5202trainTHREE')\n",
    "    \n",
    "\n",
    "with zipfile.ZipFile(PREPROCESSED_DATASET_PATH + '.zip', 'r') as zip_ref:\n",
    "    zip_ref.extractall(PREPROCESSED_DATASET_PATH)"
   ]
  },
  {
   "cell_type": "markdown",
   "metadata": {},
   "source": [
    "# Loading and mapping narrative labels\n",
    "load the label file and map article IDs to their respective narratives and subnarratives."
   ]
  },
  {
   "cell_type": "code",
   "execution_count": 3,
   "metadata": {},
   "outputs": [
    {
     "data": {
      "text/html": [
       "<div>\n",
       "<style scoped>\n",
       "    .dataframe tbody tr th:only-of-type {\n",
       "        vertical-align: middle;\n",
       "    }\n",
       "\n",
       "    .dataframe tbody tr th {\n",
       "        vertical-align: top;\n",
       "    }\n",
       "\n",
       "    .dataframe thead th {\n",
       "        text-align: right;\n",
       "    }\n",
       "</style>\n",
       "<table border=\"1\" class=\"dataframe\">\n",
       "  <thead>\n",
       "    <tr style=\"text-align: right;\">\n",
       "      <th></th>\n",
       "      <th>article_id</th>\n",
       "      <th>narratives</th>\n",
       "      <th>subnarratives</th>\n",
       "    </tr>\n",
       "  </thead>\n",
       "  <tbody>\n",
       "    <tr>\n",
       "      <th>0</th>\n",
       "      <td>EN_CC_100013.txt</td>\n",
       "      <td>[CC: Criticism of climate movement]</td>\n",
       "      <td>[CC: Criticism of climate movement: Ad hominem...</td>\n",
       "    </tr>\n",
       "    <tr>\n",
       "      <th>1</th>\n",
       "      <td>EN_UA_300009.txt</td>\n",
       "      <td>[Other]</td>\n",
       "      <td>[Other]</td>\n",
       "    </tr>\n",
       "    <tr>\n",
       "      <th>2</th>\n",
       "      <td>EN_UA_300017.txt</td>\n",
       "      <td>[Other]</td>\n",
       "      <td>[Other]</td>\n",
       "    </tr>\n",
       "    <tr>\n",
       "      <th>3</th>\n",
       "      <td>EN_CC_100021.txt</td>\n",
       "      <td>[Other]</td>\n",
       "      <td>[Other]</td>\n",
       "    </tr>\n",
       "    <tr>\n",
       "      <th>4</th>\n",
       "      <td>EN_UA_300041.txt</td>\n",
       "      <td>[Other]</td>\n",
       "      <td>[Other]</td>\n",
       "    </tr>\n",
       "  </tbody>\n",
       "</table>\n",
       "</div>"
      ],
      "text/plain": [
       "         article_id                           narratives  \\\n",
       "0  EN_CC_100013.txt  [CC: Criticism of climate movement]   \n",
       "1  EN_UA_300009.txt                              [Other]   \n",
       "2  EN_UA_300017.txt                              [Other]   \n",
       "3  EN_CC_100021.txt                              [Other]   \n",
       "4  EN_UA_300041.txt                              [Other]   \n",
       "\n",
       "                                       subnarratives  \n",
       "0  [CC: Criticism of climate movement: Ad hominem...  \n",
       "1                                            [Other]  \n",
       "2                                            [Other]  \n",
       "3                                            [Other]  \n",
       "4                                            [Other]  "
      ]
     },
     "execution_count": 3,
     "metadata": {},
     "output_type": "execute_result"
    }
   ],
   "source": [
    "def load_and_map_labels(label_file_paths: list[str]):\n",
    "    all_labels = []\n",
    "    \n",
    "    for label_file_path in label_file_paths:\n",
    "        labels_df = pd.read_csv(\n",
    "            label_file_path, \n",
    "            sep=\"\\t\", \n",
    "            header=None, \n",
    "            names=[\"article_id\", \"narratives\", \"subnarratives\"]\n",
    "        )\n",
    "        \n",
    "        labels_df.head()\n",
    "        \n",
    "        for _, row in labels_df.iterrows():\n",
    "            all_labels.append({\n",
    "                \"article_id\": row[\"article_id\"],\n",
    "                \"narratives\": row[\"narratives\"].split(\";\") if pd.notna(row[\"narratives\"]) else [],\n",
    "                \"subnarratives\": row[\"subnarratives\"].split(\";\") if pd.notna(row[\"subnarratives\"]) else []\n",
    "            })\n",
    "    \n",
    "    labels_mapping = pd.DataFrame(all_labels)\n",
    "    return labels_mapping\n",
    "\n",
    "labels = load_and_map_labels(LABELS_PATH)\n",
    "labels.head()"
   ]
  },
  {
   "cell_type": "markdown",
   "metadata": {},
   "source": [
    "# Mapping articles to labels\n",
    "Takes the article IDs and corresponding labels, reads the associated `.conllu` file, and creates a dataframe that maps the text and labels together."
   ]
  },
  {
   "cell_type": "code",
   "execution_count": 4,
   "metadata": {},
   "outputs": [
    {
     "data": {
      "text/html": [
       "<div>\n",
       "<style scoped>\n",
       "    .dataframe tbody tr th:only-of-type {\n",
       "        vertical-align: middle;\n",
       "    }\n",
       "\n",
       "    .dataframe tbody tr th {\n",
       "        vertical-align: top;\n",
       "    }\n",
       "\n",
       "    .dataframe thead th {\n",
       "        text-align: right;\n",
       "    }\n",
       "</style>\n",
       "<table border=\"1\" class=\"dataframe\">\n",
       "  <thead>\n",
       "    <tr style=\"text-align: right;\">\n",
       "      <th></th>\n",
       "      <th>article_id</th>\n",
       "      <th>text</th>\n",
       "      <th>narratives</th>\n",
       "      <th>subnarratives</th>\n",
       "    </tr>\n",
       "  </thead>\n",
       "  <tbody>\n",
       "    <tr>\n",
       "      <th>0</th>\n",
       "      <td>EN_CC_100013.txt</td>\n",
       "      <td>bill gates says solution climate change ok fou...</td>\n",
       "      <td>[CC: Criticism of climate movement]</td>\n",
       "      <td>[CC: Criticism of climate movement: Ad hominem...</td>\n",
       "    </tr>\n",
       "    <tr>\n",
       "      <th>1</th>\n",
       "      <td>EN_UA_300009.txt</td>\n",
       "      <td>russia clashes erupt bashkortostan rights acti...</td>\n",
       "      <td>[Other]</td>\n",
       "      <td>[Other]</td>\n",
       "    </tr>\n",
       "    <tr>\n",
       "      <th>2</th>\n",
       "      <td>EN_UA_300017.txt</td>\n",
       "      <td>mcdonalds exit russia sell business country am...</td>\n",
       "      <td>[Other]</td>\n",
       "      <td>[Other]</td>\n",
       "    </tr>\n",
       "    <tr>\n",
       "      <th>3</th>\n",
       "      <td>EN_CC_100021.txt</td>\n",
       "      <td>collaborative plans innovation keys circular r...</td>\n",
       "      <td>[Other]</td>\n",
       "      <td>[Other]</td>\n",
       "    </tr>\n",
       "    <tr>\n",
       "      <th>4</th>\n",
       "      <td>EN_UA_300041.txt</td>\n",
       "      <td>russia intends supply light mountain tanks inf...</td>\n",
       "      <td>[Other]</td>\n",
       "      <td>[Other]</td>\n",
       "    </tr>\n",
       "  </tbody>\n",
       "</table>\n",
       "</div>"
      ],
      "text/plain": [
       "         article_id                                               text  \\\n",
       "0  EN_CC_100013.txt  bill gates says solution climate change ok fou...   \n",
       "1  EN_UA_300009.txt  russia clashes erupt bashkortostan rights acti...   \n",
       "2  EN_UA_300017.txt  mcdonalds exit russia sell business country am...   \n",
       "3  EN_CC_100021.txt  collaborative plans innovation keys circular r...   \n",
       "4  EN_UA_300041.txt  russia intends supply light mountain tanks inf...   \n",
       "\n",
       "                            narratives  \\\n",
       "0  [CC: Criticism of climate movement]   \n",
       "1                              [Other]   \n",
       "2                              [Other]   \n",
       "3                              [Other]   \n",
       "4                              [Other]   \n",
       "\n",
       "                                       subnarratives  \n",
       "0  [CC: Criticism of climate movement: Ad hominem...  \n",
       "1                                            [Other]  \n",
       "2                                            [Other]  \n",
       "3                                            [Other]  \n",
       "4                                            [Other]  "
      ]
     },
     "execution_count": 4,
     "metadata": {},
     "output_type": "execute_result"
    }
   ],
   "source": [
    "def parse_conllu_file(file_path):\n",
    "    with open(file_path, \"r\", encoding=\"utf-8\") as f:\n",
    "        data = f.read()\n",
    "    token_lists = parse(data)\n",
    "    all_tokens = [token[\"form\"] for token_list in token_lists for token in token_list]\n",
    "    return \" \".join(all_tokens)\n",
    "\n",
    "def map_input_to_label(articles_paths: list[str], article_ids: list[str], labels: pd.DataFrame):\n",
    "    labels = labels.set_index(\"article_id\")\n",
    "    \n",
    "    articles_data = []\n",
    "    for articles_path in articles_paths:\n",
    "        for article_id in article_ids:\n",
    "            file_path = os.path.join(articles_path, f\"{article_id.replace('.txt', '.conllu')}\")\n",
    "            if os.path.exists(file_path) and article_id in labels.index:\n",
    "                article_text = parse_conllu_file(file_path)\n",
    "                article_labels = labels.loc[article_id]\n",
    "                articles_data.append({\n",
    "                    \"article_id\": article_id,\n",
    "                    \"text\": article_text,\n",
    "                    \"narratives\": article_labels[\"narratives\"],\n",
    "                    \"subnarratives\": article_labels[\"subnarratives\"]\n",
    "                })\n",
    "    return pd.DataFrame(articles_data)\n",
    "\n",
    "article_ids = labels[\"article_id\"]\n",
    "article_ids.head()\n",
    "df = map_input_to_label(INPUTS_PATH, article_ids, labels)\n",
    "df.head()"
   ]
  },
  {
   "cell_type": "code",
   "execution_count": 5,
   "metadata": {},
   "outputs": [
    {
     "name": "stdout",
     "output_type": "stream",
     "text": [
      "Removing 137 articles with the 'Other' label\n",
      "<class 'pandas.core.frame.DataFrame'>\n",
      "Index: 795 entries, 0 to 931\n",
      "Data columns (total 4 columns):\n",
      " #   Column         Non-Null Count  Dtype \n",
      "---  ------         --------------  ----- \n",
      " 0   article_id     795 non-null    object\n",
      " 1   text           795 non-null    object\n",
      " 2   narratives     795 non-null    object\n",
      " 3   subnarratives  795 non-null    object\n",
      "dtypes: object(4)\n",
      "memory usage: 31.1+ KB\n"
     ]
    }
   ],
   "source": [
    "# Remove 50% of the articles with the \"Other\" label\n",
    "other_df = df[\n",
    "    df[\"narratives\"].apply(lambda x: any(\"Other\" in item for item in x)) & \n",
    "    df[\"subnarratives\"].apply(lambda x: any(\"Other\" in item for item in x))\n",
    "].sample(frac=0.7, random_state=42)\n",
    "\n",
    "print(f\"Removing {len(other_df)} articles with the 'Other' label\")\n",
    "\n",
    "df = df.drop(other_df.index)\n",
    "\n",
    "df.info()"
   ]
  },
  {
   "cell_type": "markdown",
   "metadata": {},
   "source": [
    "# Initializing the BERT tokenizer\n",
    "Loads a multilingual BERT tokenizer for processing the article text.\n"
   ]
  },
  {
   "cell_type": "code",
   "execution_count": null,
   "metadata": {},
   "outputs": [],
   "source": [
    "tokenizer = BertTokenizer.from_pretrained('bert-base-multilingual-cased')"
   ]
  },
  {
   "cell_type": "markdown",
   "metadata": {},
   "source": [
    "# Generating label vocabularies\n",
    "We gather all unique narratives and subnarratives from the dataset, and create mapping dictionaries to convert them into numerical indices."
   ]
  },
  {
   "cell_type": "code",
   "execution_count": null,
   "metadata": {},
   "outputs": [
    {
     "data": {
      "text/html": [
       "<div>\n",
       "<style scoped>\n",
       "    .dataframe tbody tr th:only-of-type {\n",
       "        vertical-align: middle;\n",
       "    }\n",
       "\n",
       "    .dataframe tbody tr th {\n",
       "        vertical-align: top;\n",
       "    }\n",
       "\n",
       "    .dataframe thead th {\n",
       "        text-align: right;\n",
       "    }\n",
       "</style>\n",
       "<table border=\"1\" class=\"dataframe\">\n",
       "  <thead>\n",
       "    <tr style=\"text-align: right;\">\n",
       "      <th></th>\n",
       "      <th>article_id</th>\n",
       "      <th>text</th>\n",
       "      <th>narratives</th>\n",
       "      <th>subnarratives</th>\n",
       "      <th>labels</th>\n",
       "    </tr>\n",
       "  </thead>\n",
       "  <tbody>\n",
       "    <tr>\n",
       "      <th>0</th>\n",
       "      <td>EN_CC_100013.txt</td>\n",
       "      <td>bill gates says solution climate change ok fou...</td>\n",
       "      <td>[CC: Criticism of climate movement]</td>\n",
       "      <td>[CC: Criticism of climate movement: Ad hominem...</td>\n",
       "      <td>[1, 0, 0, 0, 0, 0, 0, 0, 0, 0, 0, 0, 0, 0, 0, ...</td>\n",
       "    </tr>\n",
       "    <tr>\n",
       "      <th>1</th>\n",
       "      <td>EN_UA_300009.txt</td>\n",
       "      <td>russia clashes erupt bashkortostan rights acti...</td>\n",
       "      <td>[Other]</td>\n",
       "      <td>[Other]</td>\n",
       "      <td>[0, 1, 0, 0, 0, 0, 0, 0, 0, 0, 0, 0, 0, 0, 0, ...</td>\n",
       "    </tr>\n",
       "    <tr>\n",
       "      <th>2</th>\n",
       "      <td>EN_UA_300017.txt</td>\n",
       "      <td>mcdonalds exit russia sell business country am...</td>\n",
       "      <td>[Other]</td>\n",
       "      <td>[Other]</td>\n",
       "      <td>[0, 1, 0, 0, 0, 0, 0, 0, 0, 0, 0, 0, 0, 0, 0, ...</td>\n",
       "    </tr>\n",
       "    <tr>\n",
       "      <th>3</th>\n",
       "      <td>EN_CC_100021.txt</td>\n",
       "      <td>collaborative plans innovation keys circular r...</td>\n",
       "      <td>[Other]</td>\n",
       "      <td>[Other]</td>\n",
       "      <td>[0, 1, 0, 0, 0, 0, 0, 0, 0, 0, 0, 0, 0, 0, 0, ...</td>\n",
       "    </tr>\n",
       "    <tr>\n",
       "      <th>4</th>\n",
       "      <td>EN_UA_300041.txt</td>\n",
       "      <td>russia intends supply light mountain tanks inf...</td>\n",
       "      <td>[Other]</td>\n",
       "      <td>[Other]</td>\n",
       "      <td>[0, 1, 0, 0, 0, 0, 0, 0, 0, 0, 0, 0, 0, 0, 0, ...</td>\n",
       "    </tr>\n",
       "  </tbody>\n",
       "</table>\n",
       "</div>"
      ],
      "text/plain": [
       "         article_id                                               text  \\\n",
       "0  EN_CC_100013.txt  bill gates says solution climate change ok fou...   \n",
       "1  EN_UA_300009.txt  russia clashes erupt bashkortostan rights acti...   \n",
       "2  EN_UA_300017.txt  mcdonalds exit russia sell business country am...   \n",
       "3  EN_CC_100021.txt  collaborative plans innovation keys circular r...   \n",
       "4  EN_UA_300041.txt  russia intends supply light mountain tanks inf...   \n",
       "\n",
       "                            narratives  \\\n",
       "0  [CC: Criticism of climate movement]   \n",
       "1                              [Other]   \n",
       "2                              [Other]   \n",
       "3                              [Other]   \n",
       "4                              [Other]   \n",
       "\n",
       "                                       subnarratives  \\\n",
       "0  [CC: Criticism of climate movement: Ad hominem...   \n",
       "1                                            [Other]   \n",
       "2                                            [Other]   \n",
       "3                                            [Other]   \n",
       "4                                            [Other]   \n",
       "\n",
       "                                              labels  \n",
       "0  [1, 0, 0, 0, 0, 0, 0, 0, 0, 0, 0, 0, 0, 0, 0, ...  \n",
       "1  [0, 1, 0, 0, 0, 0, 0, 0, 0, 0, 0, 0, 0, 0, 0, ...  \n",
       "2  [0, 1, 0, 0, 0, 0, 0, 0, 0, 0, 0, 0, 0, 0, 0, ...  \n",
       "3  [0, 1, 0, 0, 0, 0, 0, 0, 0, 0, 0, 0, 0, 0, 0, ...  \n",
       "4  [0, 1, 0, 0, 0, 0, 0, 0, 0, 0, 0, 0, 0, 0, 0, ...  "
      ]
     },
     "metadata": {},
     "output_type": "display_data"
    }
   ],
   "source": [
    "all_narratives = df[\"narratives\"].explode().unique()\n",
    "all_subnarratives = df[\"subnarratives\"].explode().unique()\n",
    "\n",
    "narrative_to_index = {n: i for i, n in enumerate(all_narratives)}\n",
    "subnarrative_to_index = {sn: i for i, sn in enumerate(all_subnarratives)}\n",
    "\n",
    "def encode_labels(narratives, subnarratives):\n",
    "    narrative_vector = [0] * len(all_narratives)\n",
    "    subnarrative_vector = [0] * len(all_subnarratives)\n",
    "\n",
    "    for n in narratives:\n",
    "        narrative_vector[narrative_to_index[n]] = 1\n",
    "    for sn in subnarratives:\n",
    "        subnarrative_vector[subnarrative_to_index[sn]] = 1\n",
    "\n",
    "    return narrative_vector + subnarrative_vector\n",
    "\n",
    "df[\"labels\"] = df.apply(lambda x: encode_labels(x[\"narratives\"], x[\"subnarratives\"]), axis=1)\n",
    "\n",
    "df = pd.DataFrame(df)\n",
    "df.head()"
   ]
  },
  {
   "cell_type": "markdown",
   "metadata": {},
   "source": [
    "# Creating a PyTorch Dataset class\n",
    "`NarrativeDataset` is a custom dataset that tokenizes text on the fly and prepares inputs and labels for training.\n"
   ]
  },
  {
   "cell_type": "code",
   "execution_count": null,
   "metadata": {},
   "outputs": [],
   "source": [
    "class NarrativeDataset(Dataset):\n",
    "    def __init__(self, articles, tokenizer, max_len):\n",
    "        self.articles = articles\n",
    "        self.tokenizer = tokenizer\n",
    "        self.max_len = max_len\n",
    "\n",
    "    def __len__(self):\n",
    "        return len(self.articles)\n",
    "\n",
    "    def __getitem__(self, idx):\n",
    "        article = self.articles.iloc[idx]\n",
    "        inputs = self.tokenizer(\n",
    "            article[\"text\"],\n",
    "            max_length=self.max_len,\n",
    "            padding=\"max_length\",\n",
    "            truncation=True,\n",
    "            return_tensors=\"pt\"\n",
    "        )\n",
    "        return {\n",
    "            \"input_ids\": inputs[\"input_ids\"].squeeze(0),\n",
    "            \"attention_mask\": inputs[\"attention_mask\"].squeeze(0),\n",
    "            \"labels\": torch.tensor(article[\"labels\"], dtype=torch.float32)\n",
    "        }\n"
   ]
  },
  {
   "cell_type": "markdown",
   "metadata": {},
   "source": [
    "# Defining a prediction helper function\n",
    "This function generates predictions from the model and applies a threshold to determine class membership. It returns the predicted and true labels.\n"
   ]
  },
  {
   "cell_type": "code",
   "execution_count": null,
   "metadata": {},
   "outputs": [],
   "source": [
    "def get_predictions(model, data_loader, device, threshold=0.2):\n",
    "    model.eval()\n",
    "    all_predictions = []\n",
    "    all_labels = []\n",
    "    with torch.no_grad():\n",
    "        for batch in data_loader:\n",
    "            # Move data to device\n",
    "            inputs = {key: val.to(device) for key, val in batch.items() if key != \"labels\"}\n",
    "            labels = batch[\"labels\"].to(device)\n",
    "            \n",
    "            # Forward pass\n",
    "            outputs = model(**inputs)\n",
    "            logits = outputs.logits\n",
    "            probs = torch.sigmoid(logits)  # Convert logits to probabilities\n",
    "            preds = (probs > threshold).int()  # Apply threshold \n",
    "            \n",
    "            all_predictions.append(preds.cpu())\n",
    "            all_labels.append(labels.cpu())\n",
    "    \n",
    "    # Concatenate predictions and labels\n",
    "    all_predictions = torch.cat(all_predictions, dim=0)\n",
    "    all_labels = torch.cat(all_labels, dim=0)\n",
    "    return all_predictions.numpy(), all_labels.numpy()"
   ]
  },
  {
   "cell_type": "markdown",
   "metadata": {},
   "source": [
    "# Evaluating the model\n",
    "A utility function to compute Hamming loss, Macro/Micro F1, and Subset Accuracy. It can also print a detailed classification report.\n"
   ]
  },
  {
   "cell_type": "code",
   "execution_count": null,
   "metadata": {},
   "outputs": [],
   "source": [
    "def evaluate_model(y_pred, y_true, class_labels, print_report=False):\n",
    "    hamming = hamming_loss(y_true, y_pred)\n",
    "\n",
    "    macro_f1 = f1_score(y_true, y_pred, average='macro', zero_division=0)\n",
    "    micro_f1 = f1_score(y_true, y_pred, average='micro', zero_division=0)\n",
    "\n",
    "    subset_accuracy = (y_true == y_pred).all(axis=1).mean()\n",
    "\n",
    "    if print_report:\n",
    "        report = classification_report(\n",
    "            y_true, y_pred, target_names=class_labels, digits=2, zero_division=0\n",
    "        )\n",
    "        print(\"\\nClassification Report:\\n\")\n",
    "        print(report)\n",
    "\n",
    "    return {\"Hamming Loss\": hamming, \"Macro F1\": macro_f1, \"Micro F1\": micro_f1, \"Subset Accuracy\": subset_accuracy}\n"
   ]
  },
  {
   "cell_type": "markdown",
   "metadata": {},
   "source": [
    "# Setting up the model and device\n",
    "Loads a pre-trained multilingual BERT and sets it up for multi-label classification on our dataset. Moves model to GPU if available.\n"
   ]
  },
  {
   "cell_type": "code",
   "execution_count": null,
   "metadata": {},
   "outputs": [],
   "source": [
    "device = torch.device(\"cuda\" if torch.cuda.is_available() else \"cpu\")\n",
    "\n",
    "num_labels = len(all_narratives) + len(all_subnarratives)\n",
    "model = BertForSequenceClassification.from_pretrained(\n",
    "    \"bert-base-multilingual-cased\", \n",
    "    num_labels=num_labels\n",
    ")\n",
    "model = model.to(device)\n",
    "model.train()"
   ]
  },
  {
   "cell_type": "markdown",
   "metadata": {},
   "source": [
    "# Preparing data loaders for training and validation\n",
    "Splits the data into train and validation sets, and creates `DataLoader` instances for each.\n"
   ]
  },
  {
   "cell_type": "code",
   "execution_count": null,
   "metadata": {},
   "outputs": [],
   "source": [
    "train_data, val_data = train_test_split(df, test_size=0.2, random_state=42)\n",
    "train_dataset = NarrativeDataset(train_data, tokenizer, max_len=512)\n",
    "val_dataset = NarrativeDataset(val_data, tokenizer, max_len=512)\n",
    "\n",
    "train_loader = DataLoader(train_dataset, batch_size=32, shuffle=True, pin_memory=True)\n",
    "val_loader = DataLoader(val_dataset, batch_size=32, shuffle=False, pin_memory=True)"
   ]
  },
  {
   "cell_type": "markdown",
   "metadata": {},
   "source": [
    "# Training loop\n",
    "Trains the model for a specified number of epochs, reports batch loss, and evaluates on the validation set after each epoch.\n"
   ]
  },
  {
   "cell_type": "code",
   "execution_count": null,
   "metadata": {},
   "outputs": [
    {
     "name": "stderr",
     "output_type": "stream",
     "text": [
      "/home/theo/.pyenv/versions/3.12.7/envs/nlp/lib/python3.12/site-packages/torch/cuda/__init__.py:129: UserWarning: CUDA initialization: CUDA unknown error - this may be due to an incorrectly set up environment, e.g. changing env variable CUDA_VISIBLE_DEVICES after program start. Setting the available devices to be zero. (Triggered internally at ../c10/cuda/CUDAFunctions.cpp:108.)\n",
      "  return torch._C._cuda_getDeviceCount() > 0\n",
      "Some weights of BertForSequenceClassification were not initialized from the model checkpoint at bert-base-multilingual-cased and are newly initialized: ['classifier.bias', 'classifier.weight']\n",
      "You should probably TRAIN this model on a down-stream task to be able to use it for predictions and inference.\n"
     ]
    },
    {
     "name": "stdout",
     "output_type": "stream",
     "text": [
      "Epoch 1/3\n"
     ]
    },
    {
     "name": "stderr",
     "output_type": "stream",
     "text": [
      "Processing Batches:   0%|          | 0/10 [00:00<?, ?it/s]"
     ]
    },
    {
     "name": "stdout",
     "output_type": "stream",
     "text": [
      "Batch labels shape: torch.Size([32, 106])\n"
     ]
    },
    {
     "name": "stderr",
     "output_type": "stream",
     "text": [
      "Processing Batches:  10%|█         | 1/10 [00:23<03:34, 23.83s/it, Batch Loss=0.7114]"
     ]
    },
    {
     "name": "stdout",
     "output_type": "stream",
     "text": [
      "Batch labels shape: torch.Size([32, 106])\n"
     ]
    },
    {
     "name": "stderr",
     "output_type": "stream",
     "text": [
      "Processing Batches:  20%|██        | 2/10 [00:50<03:23, 25.39s/it, Batch Loss=0.6805]"
     ]
    },
    {
     "name": "stdout",
     "output_type": "stream",
     "text": [
      "Batch labels shape: torch.Size([32, 106])\n"
     ]
    },
    {
     "name": "stderr",
     "output_type": "stream",
     "text": [
      "Processing Batches:  30%|███       | 3/10 [01:15<02:56, 25.14s/it, Batch Loss=0.6478]"
     ]
    },
    {
     "name": "stdout",
     "output_type": "stream",
     "text": [
      "Batch labels shape: torch.Size([32, 106])\n"
     ]
    },
    {
     "name": "stderr",
     "output_type": "stream",
     "text": [
      "Processing Batches:  40%|████      | 4/10 [01:39<02:28, 24.70s/it, Batch Loss=0.6142]"
     ]
    },
    {
     "name": "stdout",
     "output_type": "stream",
     "text": [
      "Batch labels shape: torch.Size([32, 106])\n"
     ]
    },
    {
     "name": "stderr",
     "output_type": "stream",
     "text": [
      "Processing Batches:  50%|█████     | 5/10 [02:03<02:02, 24.48s/it, Batch Loss=0.5979]"
     ]
    },
    {
     "name": "stdout",
     "output_type": "stream",
     "text": [
      "Batch labels shape: torch.Size([32, 106])\n"
     ]
    },
    {
     "name": "stderr",
     "output_type": "stream",
     "text": [
      "Processing Batches:  60%|██████    | 6/10 [02:27<01:37, 24.31s/it, Batch Loss=0.5801]"
     ]
    },
    {
     "name": "stdout",
     "output_type": "stream",
     "text": [
      "Batch labels shape: torch.Size([32, 106])\n"
     ]
    },
    {
     "name": "stderr",
     "output_type": "stream",
     "text": [
      "Processing Batches:  70%|███████   | 7/10 [02:51<01:12, 24.18s/it, Batch Loss=0.5632]"
     ]
    },
    {
     "name": "stdout",
     "output_type": "stream",
     "text": [
      "Batch labels shape: torch.Size([32, 106])\n"
     ]
    },
    {
     "name": "stderr",
     "output_type": "stream",
     "text": [
      "Processing Batches:  80%|████████  | 8/10 [03:15<00:48, 24.17s/it, Batch Loss=0.5556]"
     ]
    },
    {
     "name": "stdout",
     "output_type": "stream",
     "text": [
      "Batch labels shape: torch.Size([32, 106])\n"
     ]
    },
    {
     "name": "stderr",
     "output_type": "stream",
     "text": [
      "Processing Batches:  90%|█████████ | 9/10 [03:39<00:24, 24.09s/it, Batch Loss=0.5352]"
     ]
    },
    {
     "name": "stdout",
     "output_type": "stream",
     "text": [
      "Batch labels shape: torch.Size([31, 106])\n"
     ]
    },
    {
     "name": "stderr",
     "output_type": "stream",
     "text": [
      "Processing Batches: 100%|██████████| 10/10 [04:02<00:00, 24.25s/it, Batch Loss=0.5210]\n"
     ]
    },
    {
     "name": "stdout",
     "output_type": "stream",
     "text": [
      "- Validation F1: 0.0690 | Hamming Loss: 0.9290\n",
      "Epoch 2/3\n"
     ]
    },
    {
     "name": "stderr",
     "output_type": "stream",
     "text": [
      "Processing Batches:   0%|          | 0/10 [00:00<?, ?it/s]"
     ]
    },
    {
     "name": "stdout",
     "output_type": "stream",
     "text": [
      "Batch labels shape: torch.Size([32, 106])\n"
     ]
    },
    {
     "name": "stderr",
     "output_type": "stream",
     "text": [
      "Processing Batches:  10%|█         | 1/10 [00:23<03:33, 23.69s/it, Batch Loss=0.5106]"
     ]
    },
    {
     "name": "stdout",
     "output_type": "stream",
     "text": [
      "Batch labels shape: torch.Size([32, 106])\n"
     ]
    },
    {
     "name": "stderr",
     "output_type": "stream",
     "text": [
      "Processing Batches:  20%|██        | 2/10 [00:47<03:10, 23.85s/it, Batch Loss=0.4946]"
     ]
    },
    {
     "name": "stdout",
     "output_type": "stream",
     "text": [
      "Batch labels shape: torch.Size([32, 106])\n"
     ]
    },
    {
     "name": "stderr",
     "output_type": "stream",
     "text": [
      "Processing Batches:  30%|███       | 3/10 [01:11<02:47, 23.89s/it, Batch Loss=0.4871]"
     ]
    },
    {
     "name": "stdout",
     "output_type": "stream",
     "text": [
      "Batch labels shape: torch.Size([32, 106])\n"
     ]
    },
    {
     "name": "stderr",
     "output_type": "stream",
     "text": [
      "Processing Batches:  40%|████      | 4/10 [01:35<02:23, 23.94s/it, Batch Loss=0.4737]"
     ]
    },
    {
     "name": "stdout",
     "output_type": "stream",
     "text": [
      "Batch labels shape: torch.Size([32, 106])\n"
     ]
    },
    {
     "name": "stderr",
     "output_type": "stream",
     "text": [
      "Processing Batches:  50%|█████     | 5/10 [01:59<01:59, 23.93s/it, Batch Loss=0.4638]"
     ]
    },
    {
     "name": "stdout",
     "output_type": "stream",
     "text": [
      "Batch labels shape: torch.Size([32, 106])\n"
     ]
    },
    {
     "name": "stderr",
     "output_type": "stream",
     "text": [
      "Processing Batches:  60%|██████    | 6/10 [02:23<01:35, 23.94s/it, Batch Loss=0.4514]"
     ]
    },
    {
     "name": "stdout",
     "output_type": "stream",
     "text": [
      "Batch labels shape: torch.Size([32, 106])\n"
     ]
    },
    {
     "name": "stderr",
     "output_type": "stream",
     "text": [
      "Processing Batches:  70%|███████   | 7/10 [02:47<01:11, 23.89s/it, Batch Loss=0.4403]"
     ]
    },
    {
     "name": "stdout",
     "output_type": "stream",
     "text": [
      "Batch labels shape: torch.Size([32, 106])\n"
     ]
    },
    {
     "name": "stderr",
     "output_type": "stream",
     "text": [
      "Processing Batches:  80%|████████  | 8/10 [03:11<00:47, 23.88s/it, Batch Loss=0.4346]"
     ]
    },
    {
     "name": "stdout",
     "output_type": "stream",
     "text": [
      "Batch labels shape: torch.Size([32, 106])\n"
     ]
    },
    {
     "name": "stderr",
     "output_type": "stream",
     "text": [
      "Processing Batches:  90%|█████████ | 9/10 [03:35<00:23, 24.00s/it, Batch Loss=0.4162]"
     ]
    },
    {
     "name": "stdout",
     "output_type": "stream",
     "text": [
      "Batch labels shape: torch.Size([31, 106])\n"
     ]
    },
    {
     "name": "stderr",
     "output_type": "stream",
     "text": [
      "Processing Batches: 100%|██████████| 10/10 [03:58<00:00, 23.86s/it, Batch Loss=0.3980]\n"
     ]
    },
    {
     "name": "stdout",
     "output_type": "stream",
     "text": [
      "- Validation F1: 0.0914 | Hamming Loss: 0.4805\n",
      "Epoch 3/3\n"
     ]
    },
    {
     "name": "stderr",
     "output_type": "stream",
     "text": [
      "Processing Batches:   0%|          | 0/10 [00:00<?, ?it/s]"
     ]
    },
    {
     "name": "stdout",
     "output_type": "stream",
     "text": [
      "Batch labels shape: torch.Size([32, 106])\n"
     ]
    },
    {
     "name": "stderr",
     "output_type": "stream",
     "text": [
      "Processing Batches:  10%|█         | 1/10 [00:24<03:37, 24.16s/it, Batch Loss=0.4011]"
     ]
    },
    {
     "name": "stdout",
     "output_type": "stream",
     "text": [
      "Batch labels shape: torch.Size([32, 106])\n"
     ]
    },
    {
     "name": "stderr",
     "output_type": "stream",
     "text": [
      "Processing Batches:  20%|██        | 2/10 [00:48<03:12, 24.08s/it, Batch Loss=0.3829]"
     ]
    },
    {
     "name": "stdout",
     "output_type": "stream",
     "text": [
      "Batch labels shape: torch.Size([32, 106])\n"
     ]
    },
    {
     "name": "stderr",
     "output_type": "stream",
     "text": [
      "Processing Batches:  30%|███       | 3/10 [01:12<02:48, 24.01s/it, Batch Loss=0.3761]"
     ]
    },
    {
     "name": "stdout",
     "output_type": "stream",
     "text": [
      "Batch labels shape: torch.Size([32, 106])\n"
     ]
    },
    {
     "name": "stderr",
     "output_type": "stream",
     "text": [
      "Processing Batches:  40%|████      | 4/10 [01:36<02:23, 23.97s/it, Batch Loss=0.3675]"
     ]
    },
    {
     "name": "stdout",
     "output_type": "stream",
     "text": [
      "Batch labels shape: torch.Size([32, 106])\n"
     ]
    },
    {
     "name": "stderr",
     "output_type": "stream",
     "text": [
      "Processing Batches:  50%|█████     | 5/10 [02:00<02:00, 24.06s/it, Batch Loss=0.3616]"
     ]
    },
    {
     "name": "stdout",
     "output_type": "stream",
     "text": [
      "Batch labels shape: torch.Size([32, 106])\n"
     ]
    },
    {
     "name": "stderr",
     "output_type": "stream",
     "text": [
      "Processing Batches:  60%|██████    | 6/10 [02:23<01:35, 23.95s/it, Batch Loss=0.3476]"
     ]
    },
    {
     "name": "stdout",
     "output_type": "stream",
     "text": [
      "Batch labels shape: torch.Size([32, 106])\n"
     ]
    },
    {
     "name": "stderr",
     "output_type": "stream",
     "text": [
      "Processing Batches:  70%|███████   | 7/10 [02:47<01:11, 23.88s/it, Batch Loss=0.3451]"
     ]
    },
    {
     "name": "stdout",
     "output_type": "stream",
     "text": [
      "Batch labels shape: torch.Size([32, 106])\n"
     ]
    },
    {
     "name": "stderr",
     "output_type": "stream",
     "text": [
      "Processing Batches:  80%|████████  | 8/10 [03:11<00:47, 23.88s/it, Batch Loss=0.3331]"
     ]
    },
    {
     "name": "stdout",
     "output_type": "stream",
     "text": [
      "Batch labels shape: torch.Size([32, 106])\n"
     ]
    },
    {
     "name": "stderr",
     "output_type": "stream",
     "text": [
      "Processing Batches:  90%|█████████ | 9/10 [03:35<00:23, 23.94s/it, Batch Loss=0.3227]"
     ]
    },
    {
     "name": "stdout",
     "output_type": "stream",
     "text": [
      "Batch labels shape: torch.Size([31, 106])\n"
     ]
    },
    {
     "name": "stderr",
     "output_type": "stream",
     "text": [
      "Processing Batches: 100%|██████████| 10/10 [03:58<00:00, 23.87s/it, Batch Loss=0.3177]\n"
     ]
    },
    {
     "name": "stdout",
     "output_type": "stream",
     "text": [
      "- Validation F1: 0.1593 | Hamming Loss: 0.1170\n"
     ]
    }
   ],
   "source": [
    "optimizer = AdamW(model.parameters(), lr=5e-5)\n",
    "num_epochs = 3\n",
    "\n",
    "for epoch in range(num_epochs):\n",
    "    print(f\"Epoch {epoch + 1}/{num_epochs}\")\n",
    "    model.train()\n",
    "    epoch_loss = 0\n",
    "    progress_bar = tqdm.tqdm(train_loader, desc=\"Processing Batches\", leave=True)\n",
    "    \n",
    "    for batch in progress_bar:\n",
    "        print(f\"Batch labels shape: {batch['labels'].shape}\")\n",
    "\n",
    "        optimizer.zero_grad()\n",
    "\n",
    "        # Prepare inputs\n",
    "        input_ids = batch[\"input_ids\"].to(device)\n",
    "        attention_mask = batch[\"attention_mask\"].to(device)\n",
    "        labels = batch[\"labels\"].to(device)\n",
    "\n",
    "        # Forward pass\n",
    "        outputs = model(input_ids=input_ids, attention_mask=attention_mask, labels=labels)\n",
    "        loss = outputs.loss\n",
    "\n",
    "        # Backward pass\n",
    "        loss.backward()\n",
    "        optimizer.step()\n",
    "\n",
    "        # Track loss\n",
    "        epoch_loss += loss.item()\n",
    "        progress_bar.set_postfix({\"Batch Loss\": f\"{loss.item():.4f}\"})\n",
    "\n",
    "    # Validation\n",
    "    y_pred, y_true = get_predictions(model, val_loader, device, threshold=0.3)\n",
    "    val_metrics = evaluate_model(y_pred, y_true, all_narratives.tolist() + all_subnarratives.tolist())\n",
    "    print(f\"- Validation Micro F1: {val_metrics['Micro F1']:.4f} | Macro F1: {val_metrics['Macro F1']:.4f} | Hamming Loss: {val_metrics['Hamming Loss']:.4f}\")"
   ]
  },
  {
   "cell_type": "markdown",
   "metadata": {},
   "source": [
    "# Final evaluation on the validation set\n",
    "After training, we run the evaluation once more and print out a full classification report."
   ]
  },
  {
   "cell_type": "code",
   "execution_count": null,
   "metadata": {},
   "outputs": [
    {
     "name": "stdout",
     "output_type": "stream",
     "text": [
      "Evaluating on Validation Set...\n",
      "\n",
      "Classification Report:\n",
      "\n",
      "                                                                                                                   precision    recall  f1-score   support\n",
      "\n",
      "                                                                                CC: Criticism of climate movement       0.00      0.00      0.00         8\n",
      "                                                                                                            Other       0.47      1.00      0.64        38\n",
      "                                                                     CC: Questioning the measurements and science       0.00      0.00      0.00         2\n",
      "                                                                                    URW: Speculating war outcomes       0.00      0.00      0.00         6\n",
      "                                                                                            URW: Praise of Russia       0.00      0.00      0.00         6\n",
      "                                                                                        URW: Russia is the Victim       0.00      0.00      0.00         2\n",
      "                                                                                URW: Amplifying war-related fears       0.00      0.00      0.00         6\n",
      "                                                           URW: Blaming the war on others rather than the invader       0.00      0.00      0.00         4\n",
      "                                                                                        URW: Discrediting Ukraine       0.00      0.00      0.00         7\n",
      "                                                           URW: Hidden plots by secret schemes of powerful groups       0.00      0.00      0.00         2\n",
      "                                                                            URW: Discrediting the West, Diplomacy       0.00      0.00      0.00        12\n",
      "                                                                                   CC: Downplaying climate change       0.00      0.00      0.00         2\n",
      "                                                                                       URW: Overpraising the West       0.00      0.00      0.00         3\n",
      "                                                                    CC: Criticism of institutions and authorities       0.00      0.00      0.00        13\n",
      "                                                                                      URW: Distrust towards Media       0.00      0.00      0.00         4\n",
      "                                                                          URW: Negative Consequences for the West       0.03      1.00      0.05         2\n",
      "                                                                         CC: Controversy about green technologies       0.00      0.00      0.00         4\n",
      "                                                            CC: Hidden plots by secret schemes of powerful groups       0.00      0.00      0.00         5\n",
      "                                                                                 CC: Climate change is beneficial       0.00      0.00      0.00         0\n",
      "                                                                                CC: Criticism of climate policies       0.00      0.00      0.00         4\n",
      "                                                                                     CC: Amplifying Climate Fears       0.00      0.00      0.00         1\n",
      "                                                                  CC: Green policies are geopolitical instruments       0.00      0.00      0.00         1\n",
      "                                           CC: Criticism of climate movement: Ad hominem attacks on key activists       0.00      0.00      0.00         6\n",
      "                                                                                                            Other       0.47      1.00      0.64        38\n",
      "                                 CC: Questioning the measurements and science: Scientific community is unreliable       0.00      0.00      0.00         1\n",
      "                                                                         CC: Criticism of climate movement: Other       0.00      0.00      0.00         2\n",
      "                                                  CC: Criticism of climate movement: Climate movement is alarmist       0.00      0.00      0.00         2\n",
      "                                                        URW: Speculating war outcomes: Russian army is collapsing       0.00      0.00      0.00         0\n",
      "                    URW: Praise of Russia: Russia has international support from a number of countries and people       0.00      0.00      0.00         0\n",
      "                                                               URW: Russia is the Victim: The West is russophobic       0.01      1.00      0.02         1\n",
      "                                       URW: Amplifying war-related fears: Russia will also attack other countries       0.00      0.00      0.00         1\n",
      "                              URW: Blaming the war on others rather than the invader: The West are the aggressors       0.00      0.00      0.00         4\n",
      "                                           URW: Amplifying war-related fears: By continuing the war we risk WWIII       0.00      0.00      0.00         2\n",
      "                          URW: Discrediting Ukraine: Discrediting Ukrainian government and officials and policies       0.00      0.00      0.00         3\n",
      "                                                    URW: Hidden plots by secret schemes of powerful groups: Other       0.00      0.00      0.00         2\n",
      "                                                          URW: Praise of Russia: Praise of Russian military might       0.00      0.00      0.00         2\n",
      "                                                       URW: Discrediting Ukraine: Discrediting Ukrainian military       0.00      0.00      0.00         1\n",
      "                                                                             URW: Speculating war outcomes: Other       0.05      1.00      0.10         4\n",
      "                                                         URW: Discrediting the West, Diplomacy: The EU is divided       0.00      0.00      0.00         4\n",
      "                                                                     URW: Discrediting the West, Diplomacy: Other       0.00      0.00      0.00         4\n",
      "                                 URW: Blaming the war on others rather than the invader: Ukraine is the aggressor       0.00      0.00      0.00         1\n",
      "             URW: Amplifying war-related fears: There is a real possibility that nuclear weapons will be employed       0.00      0.00      0.00         1\n",
      "                                     CC: Downplaying climate change: Weather suggests the trend is global cooling       0.00      0.00      0.00         1\n",
      "                            CC: Downplaying climate change: Temperature increase does not have significant impact       0.00      0.00      0.00         1\n",
      "                   CC: Questioning the measurements and science: Methodologies/metrics used are unreliable/faulty       0.00      0.00      0.00         2\n",
      "                                     URW: Overpraising the West: The West has the strongest international support       0.00      0.00      0.00         1\n",
      "                                                                         URW: Amplifying war-related fears: Other       0.00      0.00      0.00         2\n",
      "                                              URW: Discrediting the West, Diplomacy: Diplomacy does/will not work       0.00      0.00      0.00         2\n",
      "                                                       URW: Discrediting Ukraine: Ukraine is a puppet of the West       0.03      1.00      0.05         2\n",
      "                                                             CC: Criticism of institutions and authorities: Other       0.00      0.00      0.00         2\n",
      "                                                  URW: Discrediting the West, Diplomacy: The West is overreacting       0.00      0.00      0.00         0\n",
      "                                        URW: Distrust towards Media: Western media is an instrument of propaganda       0.00      0.00      0.00         4\n",
      "                                                     URW: Discrediting Ukraine: Ukraine is associated with nazism       0.00      0.00      0.00         1\n",
      "                    URW: Negative Consequences for the West: Sanctions imposed by Western countries will backfire       0.00      0.00      0.00         1\n",
      "                  CC: Criticism of institutions and authorities: Criticism of political organizations and figures       0.00      0.00      0.00         6\n",
      "                                                   CC: Criticism of climate movement: Climate movement is corrupt       0.00      0.00      0.00         2\n",
      "                                         CC: Controversy about green technologies: Renewable energy is unreliable       0.00      0.00      0.00         2\n",
      "                                                                  CC: Controversy about green technologies: Other       0.04      1.00      0.07         3\n",
      "                                             CC: Controversy about green technologies: Renewable energy is costly       0.00      0.00      0.00         2\n",
      "                                                     CC: Hidden plots by secret schemes of powerful groups: Other       0.00      0.00      0.00         0\n",
      "                         CC: Hidden plots by secret schemes of powerful groups: Climate agenda has hidden motives       0.00      0.00      0.00         3\n",
      "                                     CC: Hidden plots by secret schemes of powerful groups: Blaming global elites       0.00      0.00      0.00         5\n",
      "                                             URW: Praise of Russia: Russia is a guarantor of peace and prosperity       0.00      0.00      0.00         2\n",
      "                                              URW: Praise of Russia: Russian invasion has strong national support       0.00      0.00      0.00         1\n",
      "                                 CC: Criticism of institutions and authorities: Criticism of national governments       0.00      0.00      0.00         7\n",
      "                                          CC: Controversy about green technologies: Renewable energy is dangerous       0.00      0.00      0.00         0\n",
      "                               CC: Downplaying climate change: CO2 concentrations are too small to have an impact       0.00      0.00      0.00         0\n",
      "                                                              CC: Climate change is beneficial: CO2 is beneficial       0.00      0.00      0.00         0\n",
      "                                          CC: Criticism of climate policies: Climate policies are only for profit       0.00      0.00      0.00         1\n",
      "                          CC: Criticism of climate policies: Climate policies have negative impact on the economy       0.00      0.00      0.00         2\n",
      "            URW: Discrediting the West, Diplomacy: The West does not care about Ukraine, only about its interests       0.00      0.00      0.00         5\n",
      "                                       URW: Russia is the Victim: Russia actions in Ukraine are only self-defence       0.00      0.00      0.00         0\n",
      "                                        URW: Overpraising the West: The West belongs in the right side of history       0.00      0.00      0.00         2\n",
      "                                                                            CC: Downplaying climate change: Other       0.00      0.00      0.00         0\n",
      "                                                       CC: Downplaying climate change: Climate cycles are natural       0.00      0.00      0.00         1\n",
      "                                             CC: Climate change is beneficial: Temperature increase is beneficial       0.00      0.00      0.00         0\n",
      "                                                              CC: Questioning the measurements and science: Other       0.00      0.00      0.00         0\n",
      "                                        CC: Amplifying Climate Fears: Amplifying existing fears of global warming       0.00      0.00      0.00         1\n",
      "                                                                         CC: Criticism of climate policies: Other       0.00      0.00      0.00         1\n",
      "                                                      URW: Speculating war outcomes: Ukrainian army is collapsing       0.00      0.00      0.00         3\n",
      "                                                      URW: Discrediting Ukraine: Situation in Ukraine is hopeless       0.00      0.00      0.00         3\n",
      "                                                  URW: Discrediting the West, Diplomacy: West is tired of Ukraine       0.00      0.00      0.00         2\n",
      "                                    CC: Downplaying climate change: Human activities do not impact climate change       0.00      0.00      0.00         0\n",
      "                                 CC: Questioning the measurements and science: Data shows no temperature increase       0.00      0.00      0.00         0\n",
      "                                              URW: Discrediting Ukraine: Ukraine is a hub for criminal activities       0.00      0.00      0.00         0\n",
      "                               CC: Criticism of institutions and authorities: Criticism of international entities       0.05      1.00      0.10         4\n",
      "                  CC: Green policies are geopolitical instruments: Green activities are a form of neo-colonialism       0.01      1.00      0.02         1\n",
      "CC: Green policies are geopolitical instruments: Climate-related international relations are abusive/exploitative       0.00      0.00      0.00         0\n",
      "                                              CC: Criticism of climate policies: Climate policies are ineffective       0.00      0.00      0.00         2\n",
      "                                                          URW: Discrediting the West, Diplomacy: The West is weak       0.00      0.00      0.00         1\n",
      "                                           URW: Amplifying war-related fears: NATO should/will directly intervene       0.00      0.00      0.00         2\n",
      "                                                                                     URW: Praise of Russia: Other       0.00      0.00      0.00         0\n",
      "                                                           URW: Discrediting Ukraine: Rewriting Ukraine’s history       0.00      0.00      0.00         0\n",
      "                                                                   URW: Negative Consequences for the West: Other       0.00      0.00      0.00         0\n",
      "        URW: Negative Consequences for the West: The conflict will increase the Ukrainian refugee flows to Europe       0.00      0.00      0.00         1\n",
      "                                                                                 URW: Russia is the Victim: Other       0.01      1.00      0.02         1\n",
      "                                                              URW: Russia is the Victim: UA is anti-RU extremists       0.00      0.00      0.00         0\n",
      "                                                               CC: Downplaying climate change: Ice is not melting       0.00      0.00      0.00         1\n",
      "       CC: Questioning the measurements and science: Greenhouse effect/carbon dioxide do not drive climate change       0.00      0.00      0.00         1\n",
      "                                                   URW: Distrust towards Media: Ukrainian media cannot be trusted       0.00      0.00      0.00         0\n",
      "                                               CC: Criticism of institutions and authorities: Criticism of the EU       0.00      0.00      0.00         1\n",
      "                                                URW: Praise of Russia: Praise of Russian President Vladimir Putin       0.00      0.00      0.00         1\n",
      "                                                        CC: Downplaying climate change: Sea levels are not rising       0.00      0.00      0.00         0\n",
      "                                      CC: Downplaying climate change: Humans and nature will adapt to the changes       0.00      0.00      0.00         0\n",
      "                                                      CC: Amplifying Climate Fears: Doomsday scenarios for humans       0.00      0.00      0.00         0\n",
      "                                                                              CC: Amplifying Climate Fears: Other       0.00      0.00      0.00         0\n",
      "\n",
      "                                                                                                        micro avg       0.11      0.31      0.16       300\n",
      "                                                                                                        macro avg       0.01      0.09      0.02       300\n",
      "                                                                                                     weighted avg       0.12      0.31      0.17       300\n",
      "                                                                                                      samples avg       0.11      0.52      0.17       300\n",
      "\n"
     ]
    }
   ],
   "source": [
    "print(\"Evaluating on Validation Set...\")\n",
    "y_pred, y_true = get_predictions(model, val_loader, device, threshold=0.3)\n",
    "val_metrics = evaluate_model(y_pred, y_true, all_narratives.tolist() + all_subnarratives.tolist(), print_report=True)"
   ]
  }
 ],
 "metadata": {
  "kernelspec": {
   "display_name": "nlp",
   "language": "python",
   "name": "python3"
  },
  "language_info": {
   "codemirror_mode": {
    "name": "ipython",
    "version": 3
   },
   "file_extension": ".py",
   "mimetype": "text/x-python",
   "name": "python",
   "nbconvert_exporter": "python",
   "pygments_lexer": "ipython3",
   "version": "3.12.7"
  }
 },
 "nbformat": 4,
 "nbformat_minor": 2
}
