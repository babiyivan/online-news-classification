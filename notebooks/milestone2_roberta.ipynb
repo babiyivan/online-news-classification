{
 "cells": [
  {
   "cell_type": "markdown",
   "metadata": {},
   "source": [
    "Import Required Libraries\n"
   ]
  },
  {
   "cell_type": "code",
   "execution_count": null,
   "metadata": {},
   "outputs": [],
   "source": [
    "import pandas as pd\n",
    "import torch\n",
    "import os\n",
    "import tqdm\n",
    "from conllu import parse\n",
    "from torch.utils.data.dataset import Dataset\n",
    "from sklearn.model_selection import train_test_split\n",
    "from transformers import RobertaTokenizer, RobertaForSequenceClassification\n",
    "from torch.utils.data import DataLoader\n",
    "from torch.optim import AdamW\n",
    "from sklearn.metrics import hamming_loss, f1_score, classification_report"
   ]
  },
  {
   "cell_type": "markdown",
   "metadata": {},
   "source": [
    "Load and Map Labels\n"
   ]
  },
  {
   "cell_type": "code",
   "execution_count": null,
   "metadata": {},
   "outputs": [],
   "source": [
    "def load_and_map_labels(label_file_path):\n",
    "    labels_df = pd.read_csv(label_file_path, sep=\"\\\\t\", header=None, names=[\"article_id\", \"narratives\", \"subnarratives\"])\n",
    "    labels_mapping = {\n",
    "        row[\"article_id\"]: {\n",
    "            \"narratives\": row[\"narratives\"].split(\";\"),\n",
    "            \"subnarratives\": row[\"subnarratives\"].split(\";\")\n",
    "        }\n",
    "        for _, row in labels_df.iterrows()\n",
    "    }\n",
    "    return labels_mapping\n",
    "\n",
    "label_file = \"../data/training_data_16_October_release/EN/subtask-2-annotations.txt\"\n",
    "labels_mapping = load_and_map_labels(label_file)"
   ]
  },
  {
   "cell_type": "markdown",
   "metadata": {},
   "source": [
    "Parse and Load Articles\n"
   ]
  },
  {
   "cell_type": "code",
   "execution_count": null,
   "metadata": {},
   "outputs": [],
   "source": [
    "def parse_conllu_file(file_path):\n",
    "    with open(file_path, \"r\", encoding=\"utf-8\") as f:\n",
    "        data = f.read()\n",
    "    token_lists = parse(data)\n",
    "    all_tokens = [token[\"form\"] for token_list in token_lists for token in token_list]\n",
    "    return \" \".join(all_tokens)\n",
    "\n",
    "def load_articles_from_conllu(articles_path, article_ids, labels_mapping):\n",
    "    articles_data = []\n",
    "    for article_id in article_ids:\n",
    "        file_path = os.path.join(articles_path, f\"{article_id.replace('.txt', '.conllu')}\")\n",
    "        if os.path.exists(file_path):\n",
    "            article_text = parse_conllu_file(file_path)\n",
    "            labels = labels_mapping.get(article_id, {\"narratives\": [], \"subnarratives\": []})\n",
    "            articles_data.append({\n",
    "                \"article_id\": article_id,\n",
    "                \"text\": article_text,\n",
    "                \"narratives\": labels[\"narratives\"],\n",
    "                \"subnarratives\": labels[\"subnarratives\"]\n",
    "            })\n",
    "    return articles_data\n",
    "\n",
    "articles_path = \"../data/tmp/EN\"\n",
    "article_ids = labels_mapping.keys()\n",
    "articles_data = load_articles_from_conllu(articles_path, article_ids, labels_mapping)"
   ]
  },
  {
   "cell_type": "markdown",
   "metadata": {},
   "source": [
    "Initialize Tokenizer\n"
   ]
  },
  {
   "cell_type": "code",
   "execution_count": null,
   "metadata": {},
   "outputs": [],
   "source": [
    "tokenizer = RobertaTokenizer.from_pretrained('roberta-base')"
   ]
  },
  {
   "cell_type": "markdown",
   "metadata": {},
   "source": [
    "Generate Label Vocabulary\n"
   ]
  },
  {
   "cell_type": "markdown",
   "metadata": {},
   "source": [
    "all_narratives = sorted({n for article in articles_data for n in article[\"narratives\"]})\n",
    "all_subnarratives = sorted({sn for article in articles_data for sn in article[\"subnarratives\"]})\n",
    "\n",
    "narrative_to_index = {n: i for i, n in enumerate(all_narratives)}\n",
    "subnarrative_to_index = {sn: i for i, sn in enumerate(all_subnarratives)}\n",
    "\n",
    "def encode_labels(narratives, subnarratives):\n",
    "    narrative_vector = [0] * len(all_narratives)\n",
    "    subnarrative_vector = [0] * len(all_subnarratives)\n",
    "    for n in narratives:\n",
    "        narrative_vector[narrative_to_index[n]] = 1\n",
    "    for sn in subnarratives:\n",
    "        subnarrative_vector[subnarrative_to_index[sn]] = 1\n",
    "    return narrative_vector + subnarrative_vector\n",
    "\n",
    "for article in articles_data:\n",
    "    article[\"labels\"] = encode_labels(article[\"narratives\"], article[\"subnarratives\"])"
   ]
  },
  {
   "cell_type": "markdown",
   "metadata": {},
   "source": [
    "Create Dataset Class\n"
   ]
  },
  {
   "cell_type": "code",
   "execution_count": null,
   "metadata": {},
   "outputs": [],
   "source": [
    "class NarrativeDataset(Dataset):\n",
    "    def __init__(self, articles):\n",
    "        self.articles = articles\n",
    "\n",
    "    def __len__(self):\n",
    "        return len(self.articles)\n",
    "\n",
    "    def __getitem__(self, idx):\n",
    "        article = self.articles[idx]\n",
    "        inputs = tokenizer(\n",
    "            article[\"text\"],\n",
    "            padding=\"max_length\",\n",
    "            truncation=True,\n",
    "            max_length=512,\n",
    "            return_tensors=\"pt\"\n",
    "        )\n",
    "        labels = torch.tensor(article[\"labels\"], dtype=torch.float)\n",
    "        return {**inputs, \"labels\": labels}"
   ]
  },
  {
   "cell_type": "markdown",
   "metadata": {},
   "source": [
    "Initialize Model\n"
   ]
  },
  {
   "cell_type": "code",
   "execution_count": null,
   "metadata": {},
   "outputs": [],
   "source": [
    "device = torch.device(\"cuda\" if torch.cuda.is_available() else \"cpu\")\n",
    "num_labels = len(all_narratives) + len(all_subnarratives)\n",
    "model = RobertaForSequenceClassification.from_pretrained(\n",
    "    \"roberta-base\", \n",
    "    num_labels=num_labels\n",
    ")\n",
    "model = model.to(device)\n",
    "model.train()"
   ]
  },
  {
   "cell_type": "markdown",
   "metadata": {},
   "source": [
    "Train-Validation Split\n"
   ]
  },
  {
   "cell_type": "code",
   "execution_count": null,
   "metadata": {},
   "outputs": [],
   "source": [
    "train_data, val_data = train_test_split(articles_data, test_size=0.2, random_state=42)\n",
    "train_dataset = NarrativeDataset(train_data)\n",
    "val_dataset = NarrativeDataset(val_data)\n",
    "\n",
    "train_loader = DataLoader(train_dataset, batch_size=6, shuffle=True, pin_memory=True)\n",
    "val_loader = DataLoader(val_dataset, batch_size=6, shuffle=False, pin_memory=True)"
   ]
  },
  {
   "cell_type": "markdown",
   "metadata": {},
   "source": [
    "Training Loop\n"
   ]
  },
  {
   "cell_type": "code",
   "execution_count": null,
   "metadata": {},
   "outputs": [],
   "source": [
    "optimizer = AdamW(model.parameters(), lr=2e-5)\n",
    "num_epochs = 5  # Increased number of epochs\n",
    "\n",
    "for epoch in range(num_epochs): \n",
    "    print(f\"Epoch {epoch + 1}/{num_epochs}\")\n",
    "    epoch_loss = 0\n",
    "    progress_bar = tqdm.tqdm(train_loader, desc=\"Processing Batches\", leave=True)\n",
    "    \n",
    "    for batch in progress_bar:\n",
    "        optimizer.zero_grad()\n",
    "        inputs = {key: val.squeeze(1).to(device) for key, val in batch.items() if key != \"labels\"}\n",
    "        labels = batch[\"labels\"].to(device)\n",
    "        outputs = model(**inputs, labels=labels)\n",
    "        loss = outputs.loss\n",
    "        loss.backward()\n",
    "        optimizer.step()\n",
    "        epoch_loss += loss.item()\n",
    "        progress_bar.set_postfix({\"Batch Loss\": f\"{loss.item():.4f}\"})\n",
    "    \n",
    "    print(f\"Epoch {epoch + 1} completed.\")\n",
    "    print(f\"- Average Loss: {epoch_loss / len(train_loader):.4f}\")"
   ]
  },
  {
   "cell_type": "markdown",
   "metadata": {},
   "source": [
    "Evaluation\n"
   ]
  },
  {
   "cell_type": "code",
   "execution_count": 17,
   "metadata": {},
   "outputs": [
    {
     "name": "stdout",
     "output_type": "stream",
     "text": [
      "Evaluating on Validation Set...\n",
      "\n",
      "Classification Report:\n",
      "\n",
      "                                                                                                            precision    recall  f1-score   support\n",
      "\n",
      "                                                                          CC: Climate change is beneficial       0.00      0.00      0.00         1\n",
      "                                                                  CC: Controversy about green technologies       0.00      0.00      0.00         3\n",
      "                                                                         CC: Criticism of climate movement       0.00      0.00      0.00         4\n",
      "                                                                         CC: Criticism of climate policies       0.00      0.00      0.00         4\n",
      "                                                             CC: Criticism of institutions and authorities       0.00      0.00      0.00         5\n",
      "                                                                            CC: Downplaying climate change       0.00      0.00      0.00         1\n",
      "                                                           CC: Green policies are geopolitical instruments       0.00      0.00      0.00         1\n",
      "                                                     CC: Hidden plots by secret schemes of powerful groups       0.00      0.00      0.00         1\n",
      "                                                              CC: Questioning the measurements and science       0.00      0.00      0.00         1\n",
      "                                                                                                     Other       0.45      1.00      0.62        18\n",
      "                                                                         URW: Amplifying war-related fears       0.00      0.00      0.00         7\n",
      "                                                    URW: Blaming the war on others rather than the invader       0.00      0.00      0.00         8\n",
      "                                                                                 URW: Discrediting Ukraine       0.00      0.00      0.00         4\n",
      "                                                                     URW: Discrediting the West, Diplomacy       0.00      0.00      0.00         7\n",
      "                                                                               URW: Distrust towards Media       0.00      0.00      0.00         1\n",
      "                                                    URW: Hidden plots by secret schemes of powerful groups       0.00      0.00      0.00         1\n",
      "                                                                   URW: Negative Consequences for the West       0.00      0.00      0.00         0\n",
      "                                                                                URW: Overpraising the West       0.00      0.00      0.00         1\n",
      "                                                                                     URW: Praise of Russia       0.00      0.00      0.00         2\n",
      "                                                                                 URW: Russia is the Victim       0.00      0.00      0.00         3\n",
      "                                                                             URW: Speculating war outcomes       0.00      0.00      0.00         2\n",
      "                                                       CC: Climate change is beneficial: CO2 is beneficial       0.00      0.00      0.00         1\n",
      "                                                           CC: Controversy about green technologies: Other       0.00      0.00      0.00         2\n",
      "                                      CC: Controversy about green technologies: Renewable energy is costly       0.00      0.00      0.00         1\n",
      "                                   CC: Controversy about green technologies: Renewable energy is dangerous       0.00      0.00      0.00         1\n",
      "                                  CC: Controversy about green technologies: Renewable energy is unreliable       0.00      0.00      0.00         1\n",
      "                                    CC: Criticism of climate movement: Ad hominem attacks on key activists       0.00      0.00      0.00         3\n",
      "                                           CC: Criticism of climate movement: Climate movement is alarmist       0.00      0.00      0.00         1\n",
      "                                            CC: Criticism of climate movement: Climate movement is corrupt       0.00      0.00      0.00         2\n",
      "                                                                  CC: Criticism of climate movement: Other       0.00      0.00      0.00         0\n",
      "                                       CC: Criticism of climate policies: Climate policies are ineffective       0.00      0.00      0.00         2\n",
      "                                   CC: Criticism of climate policies: Climate policies are only for profit       0.00      0.00      0.00         0\n",
      "                   CC: Criticism of climate policies: Climate policies have negative impact on the economy       0.00      0.00      0.00         2\n",
      "                                                                  CC: Criticism of climate policies: Other       0.00      0.00      0.00         3\n",
      "                        CC: Criticism of institutions and authorities: Criticism of international entities       0.00      0.00      0.00         0\n",
      "                          CC: Criticism of institutions and authorities: Criticism of national governments       0.00      0.00      0.00         2\n",
      "           CC: Criticism of institutions and authorities: Criticism of political organizations and figures       0.00      0.00      0.00         4\n",
      "                                        CC: Criticism of institutions and authorities: Criticism of the EU       0.00      0.00      0.00         0\n",
      "                                                      CC: Criticism of institutions and authorities: Other       0.00      0.00      0.00         0\n",
      "                        CC: Downplaying climate change: CO2 concentrations are too small to have an impact       0.00      0.00      0.00         1\n",
      "                                                CC: Downplaying climate change: Climate cycles are natural       0.00      0.00      0.00         0\n",
      "                                                        CC: Downplaying climate change: Ice is not melting       0.00      0.00      0.00         0\n",
      "           CC: Green policies are geopolitical instruments: Green activities are a form of neo-colonialism       0.00      0.00      0.00         1\n",
      "                              CC: Hidden plots by secret schemes of powerful groups: Blaming global elites       0.00      0.00      0.00         1\n",
      "                  CC: Hidden plots by secret schemes of powerful groups: Climate agenda has hidden motives       0.00      0.00      0.00         0\n",
      "                                              CC: Hidden plots by secret schemes of powerful groups: Other       0.00      0.00      0.00         0\n",
      "CC: Questioning the measurements and science: Greenhouse effect/carbon dioxide do not drive climate change       0.00      0.00      0.00         0\n",
      "            CC: Questioning the measurements and science: Methodologies/metrics used are unreliable/faulty       0.00      0.00      0.00         0\n",
      "                                                       CC: Questioning the measurements and science: Other       0.00      0.00      0.00         0\n",
      "                          CC: Questioning the measurements and science: Scientific community is unreliable       0.00      0.00      0.00         1\n",
      "                                                                                                     Other       0.00      0.00      0.00        18\n",
      "                                    URW: Amplifying war-related fears: By continuing the war we risk WWIII       0.00      0.00      0.00         3\n",
      "                                    URW: Amplifying war-related fears: NATO should/will directly intervene       0.00      0.00      0.00         0\n",
      "                                                                  URW: Amplifying war-related fears: Other       0.00      0.00      0.00         2\n",
      "                                URW: Amplifying war-related fears: Russia will also attack other countries       0.00      0.00      0.00         3\n",
      "      URW: Amplifying war-related fears: There is a real possibility that nuclear weapons will be employed       0.00      0.00      0.00         2\n",
      "                       URW: Blaming the war on others rather than the invader: The West are the aggressors       0.00      0.00      0.00         8\n",
      "                          URW: Blaming the war on others rather than the invader: Ukraine is the aggressor       0.00      0.00      0.00         0\n",
      "                   URW: Discrediting Ukraine: Discrediting Ukrainian government and officials and policies       0.00      0.00      0.00         0\n",
      "                                                URW: Discrediting Ukraine: Discrediting Ukrainian military       0.00      0.00      0.00         0\n",
      "                                               URW: Discrediting Ukraine: Situation in Ukraine is hopeless       0.00      0.00      0.00         1\n",
      "                                       URW: Discrediting Ukraine: Ukraine is a hub for criminal activities       0.00      0.00      0.00         0\n",
      "                                                URW: Discrediting Ukraine: Ukraine is a puppet of the West       0.00      0.00      0.00         3\n",
      "                                              URW: Discrediting Ukraine: Ukraine is associated with nazism       0.00      0.00      0.00         1\n",
      "                                       URW: Discrediting the West, Diplomacy: Diplomacy does/will not work       0.00      0.00      0.00         1\n",
      "                                                              URW: Discrediting the West, Diplomacy: Other       0.00      0.00      0.00         4\n",
      "                                                  URW: Discrediting the West, Diplomacy: The EU is divided       0.00      0.00      0.00         1\n",
      "     URW: Discrediting the West, Diplomacy: The West does not care about Ukraine, only about its interests       0.00      0.00      0.00         2\n",
      "                                           URW: Discrediting the West, Diplomacy: The West is overreacting       0.00      0.00      0.00         0\n",
      "                                                   URW: Discrediting the West, Diplomacy: The West is weak       0.00      0.00      0.00         1\n",
      "                                           URW: Discrediting the West, Diplomacy: West is tired of Ukraine       0.00      0.00      0.00         1\n",
      "                                            URW: Distrust towards Media: Ukrainian media cannot be trusted       0.00      0.00      0.00         0\n",
      "                                 URW: Distrust towards Media: Western media is an instrument of propaganda       0.00      0.00      0.00         1\n",
      "                                             URW: Hidden plots by secret schemes of powerful groups: Other       0.00      0.00      0.00         1\n",
      "                                                            URW: Negative Consequences for the West: Other       0.00      0.00      0.00         0\n",
      "             URW: Negative Consequences for the West: Sanctions imposed by Western countries will backfire       0.00      0.00      0.00         0\n",
      " URW: Negative Consequences for the West: The conflict will increase the Ukrainian refugee flows to Europe       0.00      0.00      0.00         0\n",
      "                                 URW: Overpraising the West: The West belongs in the right side of history       0.00      0.00      0.00         1\n",
      "                              URW: Overpraising the West: The West has the strongest international support       0.00      0.00      0.00         0\n",
      "                                                                              URW: Praise of Russia: Other       0.00      0.00      0.00         0\n",
      "                                         URW: Praise of Russia: Praise of Russian President Vladimir Putin       0.00      0.00      0.00         0\n",
      "                                                   URW: Praise of Russia: Praise of Russian military might       0.00      0.00      0.00         1\n",
      "             URW: Praise of Russia: Russia has international support from a number of countries and people       0.00      0.00      0.00         0\n",
      "                                      URW: Praise of Russia: Russia is a guarantor of peace and prosperity       0.00      0.00      0.00         0\n",
      "                                       URW: Praise of Russia: Russian invasion has strong national support       0.00      0.00      0.00         1\n",
      "                                                                          URW: Russia is the Victim: Other       0.00      0.00      0.00         0\n",
      "                                URW: Russia is the Victim: Russia actions in Ukraine are only self-defence       0.00      0.00      0.00         1\n",
      "                                                        URW: Russia is the Victim: The West is russophobic       0.00      0.00      0.00         2\n",
      "                                                       URW: Russia is the Victim: UA is anti-RU extremists       0.00      0.00      0.00         2\n",
      "                                                                      URW: Speculating war outcomes: Other       0.00      0.00      0.00         1\n",
      "                                                 URW: Speculating war outcomes: Russian army is collapsing       0.00      0.00      0.00         0\n",
      "                                               URW: Speculating war outcomes: Ukrainian army is collapsing       0.00      0.00      0.00         2\n",
      "\n",
      "                                                                                                 micro avg       0.45      0.11      0.17       168\n",
      "                                                                                                 macro avg       0.00      0.01      0.01       168\n",
      "                                                                                              weighted avg       0.05      0.11      0.07       168\n",
      "                                                                                               samples avg       0.45      0.23      0.30       168\n",
      "\n",
      "{'Hamming Loss': 0.04673913043478261, 'Macro F1': 0.006746626686656672, 'Micro F1': 0.17307692307692304, 'Subset Accuracy': 0.0}\n"
     ]
    }
   ],
   "source": [
    "def get_predictions(model, data_loader, device, threshold=0.5):\n",
    "    model.eval()\n",
    "    all_predictions = []\n",
    "    all_labels = []\n",
    "    with torch.no_grad():\n",
    "        for batch in data_loader:\n",
    "            inputs = {key: val.squeeze(1).to(device) for key, val in batch.items() if key != \"labels\"}\n",
    "            labels = batch[\"labels\"].to(device)\n",
    "            outputs = model(**inputs)\n",
    "            logits = outputs.logits\n",
    "            probs = torch.sigmoid(logits)  \n",
    "            preds = (probs > threshold).int() \n",
    "            all_predictions.append(preds.cpu())\n",
    "            all_labels.append(labels.cpu())\n",
    "    all_predictions = torch.cat(all_predictions, dim=0)\n",
    "    all_labels = torch.cat(all_labels, dim=0)\n",
    "    return all_predictions.numpy(), all_labels.numpy()\n",
    "\n",
    "def evaluate_model(model, data_loader, device, val_data, class_labels, print_report=True):\n",
    "    y_pred, y_true = get_predictions(model, data_loader, device)\n",
    "    hamming = hamming_loss(y_true, y_pred)\n",
    "    macro_f1 = f1_score(y_true, y_pred, average='macro', zero_division=0)\n",
    "    micro_f1 = f1_score(y_true, y_pred, average='micro', zero_division=0)\n",
    "    subset_accuracy = (y_true == y_pred).all(axis=1).mean()\n",
    "    if print_report:\n",
    "        report = classification_report(\n",
    "            y_true, y_pred, target_names=class_labels, digits=2, zero_division=0\n",
    "        )\n",
    "        print(\"\\nClassification Report:\\n\")\n",
    "        print(report)\n",
    "    return {\"Hamming Loss\": hamming, \"Macro F1\": macro_f1, \"Micro F1\": micro_f1, \"Subset Accuracy\": subset_accuracy}\n",
    "\n",
    "print(\"Evaluating on Validation Set...\")\n",
    "evaluation_results = evaluate_model(model, val_loader, device, val_data, all_narratives + all_subnarratives)\n",
    "print(evaluation_results)"
   ]
  },
  {
   "cell_type": "markdown",
   "metadata": {},
   "source": [
    "Error Analysis\n"
   ]
  },
  {
   "cell_type": "code",
   "execution_count": 18,
   "metadata": {},
   "outputs": [
    {
     "name": "stdout",
     "output_type": "stream",
     "text": [
      "Error Analysis on Validation Set...\n",
      "Total Incorrect Predictions: 40\n",
      "Showing 5 examples:\n",
      "\n",
      "Example 0:\n",
      "Predicted: [0 0 0 0 0 0 0 0 0 1 0 0 0 0 0 0 0 0 0 0 0 0 0 0 0 0 0 0 0 0 0 0 0 0 0 0 0\n",
      " 0 0 0 0 0 0 0 0 0 0 0 0 0 0 0 0 0 0 0 0 0 0 0 0 0 0 0 0 0 0 0 0 0 0 0 0 0\n",
      " 0 0 0 0 0 0 0 0 0 0 0 0 0 0 0 0 0 0]\n",
      "True: [0. 0. 0. 0. 0. 0. 0. 0. 0. 1. 0. 0. 0. 0. 0. 0. 0. 0. 0. 0. 0. 0. 0. 0.\n",
      " 0. 0. 0. 0. 0. 0. 0. 0. 0. 0. 0. 0. 0. 0. 0. 0. 0. 0. 0. 0. 0. 0. 0. 0.\n",
      " 0. 0. 1. 0. 0. 0. 0. 0. 0. 0. 0. 0. 0. 0. 0. 0. 0. 0. 0. 0. 0. 0. 0. 0.\n",
      " 0. 0. 0. 0. 0. 0. 0. 0. 0. 0. 0. 0. 0. 0. 0. 0. 0. 0. 0. 0.]\n",
      "Text: interview chinese wisdom aids sustainable development new world heritage site beijing sept xinhua cultural landscape old tea forests jingmai mountain puer southwest china embodies wisdom chinas agrarian culture example positive interaction people nature sustainable development chinese official said li qun deputy minister culture tourism head national cultural heritage administration made remarks interview xinhua site inscribed unesco world heritage list sunday extended th session world heritage committee ongoing riyadh saudi arabia addition new listing chinas number unesco world heritage sites risen cultural landscape old tea forests jingmai mountain puer first teathemed world cultural heritage site globally makes site stand sort cultural insights offers li said cultural landscape comprises five ancient tea forests nine traditional villages three protective forests maintain vitality day according archaeological findings cultivation tea trees ancient china traced back years li said subsequently tea culture practice growing consuming tea spread china neighboring countries beyond cultural landscape resulted unique protection system combining government management grassroots governance ensures protection cultural biological diversity sustainable use natural resources li said heritage said also demonstrates unique tradition complementary use natural resources mountainous environments many chinas ethnic groups success achieving world heritage site status significant achievement presenting authentic picture ancient modern china world official said china plans implement preservation management initiatives five key areas li said emphasizing importance prioritizing protection planning ahead li highlighted need coordinated planning protection management measures ancient tea forests villages traditional residential architecture approach aims strike balance heritage preservation development furthermore china intends invest research core technologies enhance monitoring capabilities ancient tea forests well rare flora rare fauna capabilities climate change responses promote sustainable development heritage sites china aims improve participation mechanism locals stakeholders involvement local communities particularly people younger generations encouraged guided contribute dissemination tea culture growth tea industry china continue delve history tea industry explore philosophical depth tea culture elucidate global influence chinese tea culture country seeks tap value heritage promote traditional culture official said efforts underway promote effective utilization regulated development cultural world heritage sites aiming breathe new life invaluable treasures\n",
      "\n",
      "Example 1:\n",
      "Predicted: [0 0 0 0 0 0 0 0 0 1 0 0 0 0 0 0 0 0 0 0 0 0 0 0 0 0 0 0 0 0 0 0 0 0 0 0 0\n",
      " 0 0 0 0 0 0 0 0 0 0 0 0 0 0 0 0 0 0 0 0 0 0 0 0 0 0 0 0 0 0 0 0 0 0 0 0 0\n",
      " 0 0 0 0 0 0 0 0 0 0 0 0 0 0 0 0 0 0]\n",
      "True: [0. 0. 0. 0. 0. 0. 0. 0. 0. 0. 1. 1. 0. 0. 0. 0. 0. 0. 0. 0. 0. 0. 0. 0.\n",
      " 0. 0. 0. 0. 0. 0. 0. 0. 0. 0. 0. 0. 0. 0. 0. 0. 0. 0. 0. 0. 0. 0. 0. 0.\n",
      " 0. 0. 0. 0. 0. 0. 1. 0. 1. 0. 0. 0. 0. 0. 0. 0. 0. 0. 0. 0. 0. 0. 0. 0.\n",
      " 0. 0. 0. 0. 0. 0. 0. 0. 0. 0. 0. 0. 0. 0. 0. 0. 0. 0. 0. 0.]\n",
      "Text: declaration war uk plans put british troops ukraine mac slavo shtf plan former russian president dmitry medvedev warned united kingdom signs imminent deal ukraine put troops country moscow would consider declaration war medvedev reacting imminent signing security agreement london kiev medvedev currently serves deputy chair russian security council issued warning social media post visit kiev friday uk prime minister rishi sunak set sign security agreement ukrainian president vladimir zelensky would ensure british troops would openly deployed ukraine truth lives sunaks arrival ukrainian capital meant set major new package support reaffirm close ukukraine partnership office said statement security document followup agreements reached g nato members last year noted statement mention plans british military deployment ukraine however could implied deal formalizes range support uk continue provide ukraines security including intelligence sharing cyber security medical military training defense industrial cooperation downing street said according report rt british government pledged billion billion military aid ukraine next two years including form thousands military drones london said largest kind ever received kiev uavs made uk announcement added rt moscow repeatedly accused uk united states helping ukraine organize attacks russia particularly black sea russian defense ministry claimed british military personnel already presence ukraine russia says war united states\n",
      "\n",
      "Example 2:\n",
      "Predicted: [0 0 0 0 0 0 0 0 0 1 0 0 0 0 0 0 0 0 0 0 0 0 0 0 0 0 0 0 0 0 0 0 0 0 0 0 0\n",
      " 0 0 0 0 0 0 0 0 0 0 0 0 0 0 0 0 0 0 0 0 0 0 0 0 0 0 0 0 0 0 0 0 0 0 0 0 0\n",
      " 0 0 0 0 0 0 0 0 0 0 0 0 0 0 0 0 0 0]\n",
      "True: [0. 0. 0. 0. 0. 0. 0. 0. 0. 1. 0. 0. 0. 0. 0. 0. 0. 0. 0. 0. 0. 0. 0. 0.\n",
      " 0. 0. 0. 0. 0. 0. 0. 0. 0. 0. 0. 0. 0. 0. 0. 0. 0. 0. 0. 0. 0. 0. 0. 0.\n",
      " 0. 0. 1. 0. 0. 0. 0. 0. 0. 0. 0. 0. 0. 0. 0. 0. 0. 0. 0. 0. 0. 0. 0. 0.\n",
      " 0. 0. 0. 0. 0. 0. 0. 0. 0. 0. 0. 0. 0. 0. 0. 0. 0. 0. 0. 0.]\n",
      "Text: end overseas trade settlement dollar use currency brazil president lula brics nations beijing brazilian president luiz inacio lula da silva called brics nations give us dollar come alternative currency settle crossborder trade first state visit china since taking office january lula also lashed international monetary fund imf criticised outsize role greenback global trade comments came mere days brazilian government ditched dollar intermediary announced deal trade local currency china lula voices dedollarization lending voice chinas efforts shed dollars dominance promote use renminbi rmb yuan overseas trade settlement brazilian president said decided dollar currency disappearance gold standard nt miss dollar decoupled donald trump warns us currency crashing longer world standard ca nt trade based currencies said address new development bank shanghai known brics bank every night ask countries base trade dollar lula added said brics annual summit south africa member countries brazil russia india china south africa create new currency facilitate overseas trade final agreement could come early august year also read dumping dollar new brics currency replace us currency trade per reports russia behind idea alternative currency continues face economic sanctions west invasion ukraine nt chase dollars ca nt bank like brics bank currency finance trade brazil china brazil brics countries today countries chase dollars export could exporting currencies lula said hitting imf lula alluded accusations global lenders overly harsh spending cuts cashstrapped countries like brazils neighbour argentina exchange bailout loans bank asphyxiating countries economies way imf argentina way brazil long time every thirdworld country said leader work knife throat country owes money added brazilchina trade trade brazil china soared past decade billion china imports agricultural commodities minerals brazil apart investing latin american countrys consumer market infrastructure sector earlier week brazilian branch stateowned industrial commercial bank china settled first overseas transaction directly rmb country increase bilateral trade growing economic relationship countries using respective currencies settle payments must read indian rupee could new dollar says doctor doom nouriel roubini yuan new dollar chinese yuans role trade finance doubled since ukraine war present poor contender replace us dollar global currency virtually pegged dollar chinas tight control currency keeps adhering free market flows inputs agencies read latest news trending news cricket news bollywood news india news entertainment news follow us facebook twitter instagram\n",
      "\n",
      "Example 3:\n",
      "Predicted: [0 0 0 0 0 0 0 0 0 1 0 0 0 0 0 0 0 0 0 0 0 0 0 0 0 0 0 0 0 0 0 0 0 0 0 0 0\n",
      " 0 0 0 0 0 0 0 0 0 0 0 0 0 0 0 0 0 0 0 0 0 0 0 0 0 0 0 0 0 0 0 0 0 0 0 0 0\n",
      " 0 0 0 0 0 0 0 0 0 0 0 0 0 0 0 0 0 0]\n",
      "True: [0. 0. 1. 0. 1. 0. 0. 0. 0. 0. 0. 0. 0. 0. 0. 0. 0. 0. 0. 0. 0. 0. 0. 0.\n",
      " 0. 0. 1. 0. 0. 0. 0. 0. 0. 0. 0. 0. 1. 0. 0. 0. 0. 0. 0. 0. 0. 0. 0. 0.\n",
      " 0. 0. 0. 0. 0. 0. 0. 0. 0. 0. 0. 0. 0. 0. 0. 0. 0. 0. 0. 0. 0. 0. 0. 0.\n",
      " 0. 0. 0. 0. 0. 0. 0. 0. 0. 0. 0. 0. 0. 0. 0. 0. 0. 0. 0. 0.]\n",
      "Text: fonda heads canada oil sands protest manages tick everyone actress jane fondas latest performance climate change activist drew slew criticism protested alberta oil sands canadian province fonda castigated locals ambushed social media reporter criticized leftleaning provincial premier wednesday edmonton alberta news conference condemned fellowprogressive canadian prime minister justin trudeau saying people nt fooled goodlooking liberals accused betraying paris climate agreement fonda claimed like president barack obama first impression trudeau one admiration heard prime minister shining hope paris climate talks talked beautifully needing meet requirements climate treaty respect hold treaties indigenous people forth heroic stance took fonda said yet betrayed every one things committed paris guess lesson nt fooled goodlooking liberals matter well spoken disappointment disappointment remarks albertas premier rachel notley leads leftleaning provincial new democratic party called fonda tone deaf illinformed fonda received invitation alberta government discuss oil sands refused would suggest someone going come alberta fly city going significant economic downturn largest natural disaster history canada lecture get jobs elsewhere first super tone deaf notley said first day oil sands protest strolled nearby fort mcmurray fonda ambushed social media reporter robbie picard picard hosts facebook group oilsands strong peppered fonda questions oil sands asking aware many first nations businesses invested money project episode captured video cbc journalist attempting interview actress fonda address questions insisted side\n",
      "\n",
      "Example 4:\n",
      "Predicted: [0 0 0 0 0 0 0 0 0 1 0 0 0 0 0 0 0 0 0 0 0 0 0 0 0 0 0 0 0 0 0 0 0 0 0 0 0\n",
      " 0 0 0 0 0 0 0 0 0 0 0 0 0 0 0 0 0 0 0 0 0 0 0 0 0 0 0 0 0 0 0 0 0 0 0 0 0\n",
      " 0 0 0 0 0 0 0 0 0 0 0 0 0 0 0 0 0 0]\n",
      "True: [0. 0. 0. 0. 0. 0. 0. 0. 0. 1. 0. 0. 0. 0. 0. 0. 0. 0. 0. 0. 0. 0. 0. 0.\n",
      " 0. 0. 0. 0. 0. 0. 0. 0. 0. 0. 0. 0. 0. 0. 0. 0. 0. 0. 0. 0. 0. 0. 0. 0.\n",
      " 0. 0. 1. 0. 0. 0. 0. 0. 0. 0. 0. 0. 0. 0. 0. 0. 0. 0. 0. 0. 0. 0. 0. 0.\n",
      " 0. 0. 0. 0. 0. 0. 0. 0. 0. 0. 0. 0. 0. 0. 0. 0. 0. 0. 0. 0.]\n",
      "Text: interview chinas green energy transition inspires countries worldwide undp chief interview chinas green energy transition inspires countries worldwide undp chief dubai feb xinhua chinas green energy transitions contribute global fight climate change inspire countries toward green transition said achim steiner head united nations development program undp recent interview xinhua interview th world governments summit recently held dubai undp administrator said chinas development remarkable many respects including poverty alleviation investments technology green transition addressing legacies rapid industrialization air pollution cleaning water systems china made major commitments would strive peak carbon dioxide emissions achieve carbon neutrality noted steiner transitions enable china contributor global response climate change also technologies policies help many countries including many developing countries pivot forward green transition strategy also interview steiner highlighted china backbone international economic recovery assessment comes international monetary fund imf projects global growth stay percent rise percent forecasting chinese economy expand percent year outlook global economy part also premised chinas economic development noted although many factors influencing chinas recovery terms gdp growth chinese economy looking positive moment undp remains optimistic recovery path way undp works countries territories helping eradicate poverty reduce inequalities exclusion build resilience countries sustain progress uns development agency undp plays critical role helping countries achieve sustainable development goals sdgs see great potential future collaboration china sdgs including sdg innovation hubs china establishing collaborating asked priorities undp steiner said challenge climate change remains centerpiece undps work th conference parties united nations framework convention climate change cop planned take place brazil nov today committed working countries across world towards conference parties next year brazil countries present new nationally determined contributions national climate plans said\n",
      "\n"
     ]
    }
   ],
   "source": [
    "def error_analysis(model, data_loader, device, val_data, class_labels, num_examples=5):\n",
    "    y_pred, y_true = get_predictions(model, data_loader, device)\n",
    "    incorrect_indices = (y_pred != y_true).any(axis=1)\n",
    "    incorrect_examples = [(i, y_pred[i], y_true[i]) for i in range(len(y_pred)) if incorrect_indices[i]]\n",
    "    print(f\"Total Incorrect Predictions: {len(incorrect_examples)}\")\n",
    "    print(f\"Showing {min(num_examples, len(incorrect_examples))} examples:\\n\")\n",
    "    for idx, pred, true in incorrect_examples[:num_examples]:\n",
    "        print(f\"Example {idx}:\")\n",
    "        print(f\"Predicted: {pred}\")\n",
    "        print(f\"True: {true}\")\n",
    "        print(f\"Text: {val_data[idx]['text']}\\n\")\n",
    "\n",
    "print(\"Error Analysis on Validation Set...\")\n",
    "error_analysis(model, val_loader, device, val_data, all_narratives + all_subnarratives)"
   ]
  }
 ],
 "metadata": {
  "kernelspec": {
   "display_name": "base",
   "language": "python",
   "name": "python3"
  },
  "language_info": {
   "codemirror_mode": {
    "name": "ipython",
    "version": 3
   },
   "file_extension": ".py",
   "mimetype": "text/x-python",
   "name": "python",
   "nbconvert_exporter": "python",
   "pygments_lexer": "ipython3",
   "version": "3.9.12"
  }
 },
 "nbformat": 4,
 "nbformat_minor": 2
}
