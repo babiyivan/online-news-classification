{
 "cells": [
  {
   "cell_type": "code",
   "execution_count": 1,
   "metadata": {},
   "outputs": [],
   "source": [
    "from tuwnlp.utils import Language, TokenType, LabelLevel\n",
    "from tuwnlp.utils import read_file_as_string, read_files_to_df\n",
    "from tuwnlp.utils import get_low_lvl_label_mappings, get_top_lvl_label_mappings\n",
    "from tuwnlp.utils import get_file_labels_dataframe\n",
    "\n",
    "from pathlib import Path\n",
    "from enum import Enum\n",
    "import pandas as pd\n",
    "from pandas import DataFrame\n",
    "import numpy as np"
   ]
  },
  {
   "cell_type": "code",
   "execution_count": 2,
   "metadata": {},
   "outputs": [
    {
     "name": "stderr",
     "output_type": "stream",
     "text": [
      "200it [00:00, 7205.47it/s]\n"
     ]
    }
   ],
   "source": [
    "en_naratives_labels = get_file_labels_dataframe(\n",
    "    Path(\"../data\"),\n",
    "    Language.EN,\n",
    "    LabelLevel.NARATIVES\n",
    ")\n",
    "\n",
    "en_texts = read_files_to_df(Path(\"../data/tmp\"), Language.EN)\n",
    "en_texts.index = en_texts[\"file name\"].values\n",
    "en_texts = en_texts.drop(columns = [\"file name\", \"file path\"])\n",
    "df = pd.merge(en_texts, en_naratives_labels, left_index=True, right_index=True)\n"
   ]
  },
  {
   "cell_type": "markdown",
   "metadata": {},
   "source": [
    "### Bag of words model"
   ]
  },
  {
   "cell_type": "code",
   "execution_count": 84,
   "metadata": {},
   "outputs": [
    {
     "name": "stderr",
     "output_type": "stream",
     "text": [
      "/home/itsv.org.sv-services.at/tibor.cus@itsv.at/.cache/pypoetry/virtualenvs/tuw-nlp2024-mIBRLzvJ-py3.12/lib/python3.12/site-packages/sklearn/metrics/_classification.py:1531: UndefinedMetricWarning: F-score is ill-defined and being set to 0.0 in labels with no true nor predicted samples. Use `zero_division` parameter to control this behavior.\n",
      "  _warn_prf(average, modifier, f\"{metric.capitalize()} is\", len(result))\n",
      "/home/itsv.org.sv-services.at/tibor.cus@itsv.at/.cache/pypoetry/virtualenvs/tuw-nlp2024-mIBRLzvJ-py3.12/lib/python3.12/site-packages/sklearn/metrics/_classification.py:1531: UndefinedMetricWarning: F-score is ill-defined and being set to 0.0 in labels with no true nor predicted samples. Use `zero_division` parameter to control this behavior.\n",
      "  _warn_prf(average, modifier, f\"{metric.capitalize()} is\", len(result))\n"
     ]
    },
    {
     "data": {
      "text/plain": [
       "(0.5656539902103368, 0.6783754116355654, 0.7372732813970767)"
      ]
     },
     "execution_count": 84,
     "metadata": {},
     "output_type": "execute_result"
    }
   ],
   "source": [
    "from sklearn.feature_extraction.text import CountVectorizer\n",
    "from sklearn.naive_bayes import MultinomialNB\n",
    "from sklearn.multioutput import MultiOutputClassifier\n",
    "from sklearn.linear_model import LogisticRegression\n",
    "from sklearn.metrics import f1_score\n",
    "\n",
    "#Split into features and target\n",
    "text_col = \"text\"\n",
    "y_cols = [col for col in df.columns if col != text_col]\n",
    "X = df[text_col]\n",
    "y = df[y_cols]\n",
    "\n",
    "#build bag of words\n",
    "embedding_size = 1024\n",
    "vectorizer = CountVectorizer(max_features=embedding_size)\n",
    "X = vectorizer.fit_transform(X)\n",
    "\n",
    "#build model\n",
    "model = MultiOutputClassifier(MultinomialNB())\n",
    "model.fit(X,y)\n",
    "\n",
    "#evaluate model\n",
    "y_pred = model.predict(X)\n",
    "macro = f1_score(y, y_pred, average=\"macro\")\n",
    "micro = f1_score(y, y_pred, average=\"micro\")\n",
    "weighted = f1_score(y, y_pred, average=\"weighted\")\n",
    "macro, micro, weighted"
   ]
  }
 ],
 "metadata": {
  "kernelspec": {
   "display_name": "tuw-nlp2024-mIBRLzvJ-py3.12",
   "language": "python",
   "name": "python3"
  },
  "language_info": {
   "codemirror_mode": {
    "name": "ipython",
    "version": 3
   },
   "file_extension": ".py",
   "mimetype": "text/x-python",
   "name": "python",
   "nbconvert_exporter": "python",
   "pygments_lexer": "ipython3",
   "version": "3.12.7"
  }
 },
 "nbformat": 4,
 "nbformat_minor": 2
}
