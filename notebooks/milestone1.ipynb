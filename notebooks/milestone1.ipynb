{
 "cells": [
  {
   "cell_type": "code",
   "execution_count": 1,
   "metadata": {},
   "outputs": [
    {
     "name": "stderr",
     "output_type": "stream",
     "text": [
      "[nltk_data] Downloading package averaged_perceptron_tagger to\n",
      "[nltk_data]     /Users/hauraytheo/nltk_data...\n",
      "[nltk_data]   Package averaged_perceptron_tagger is already up-to-\n",
      "[nltk_data]       date!\n",
      "[nltk_data] Downloading package wordnet to\n",
      "[nltk_data]     /Users/hauraytheo/nltk_data...\n",
      "[nltk_data]   Package wordnet is already up-to-date!\n"
     ]
    },
    {
     "data": {
      "text/plain": [
       "True"
      ]
     },
     "execution_count": 1,
     "metadata": {},
     "output_type": "execute_result"
    }
   ],
   "source": [
    "import regex as re\n",
    "from pathlib import Path\n",
    "import nltk\n",
    "from nltk.corpus import stopwords\n",
    "from nltk.corpus import wordnet\n",
    "from nltk.stem import WordNetLemmatizer\n",
    "\n",
    "nltk.download('averaged_perceptron_tagger')\n",
    "nltk.download('wordnet')\n"
   ]
  },
  {
   "cell_type": "code",
   "execution_count": 2,
   "metadata": {},
   "outputs": [],
   "source": [
    "def get_raw_files_per_language(data_base: Path) -> dict[str, list[Path]]:\n",
    "    res = {}\n",
    "    for language_dir in data_base.iterdir():\n",
    "        raw_dir = language_dir / \"raw-documents\"\n",
    "        res[language_dir.name] = list(raw_dir.iterdir())\n",
    "    return res\n",
    "\n",
    "def get_stopwords_for_language(language: str, stopwords_path: Path) -> set[str]:\n",
    "    if language.lower() in (\"eng\", \"en\", \"english\"):\n",
    "        return set(stopwords.words('english'))\n",
    "    if language.lower() in (\"ru\", \"russian\"):\n",
    "        return set(stopwords.words('russian'))\n",
    "    if language.lower() in (\"pt\", \"portuguese\"):\n",
    "        return set(stopwords.words('portuguese'))\n",
    "    if language.lower() in (\"bg\", \"bulgarian\"):\n",
    "        sw = open(stopwords_path / \"bulgarian.txt\").readlines()\n",
    "        sw = [w.strip() for w in sw]\n",
    "        return set(sw)\n",
    "    if language.lower() in (\"hi\", \"hindi\"):\n",
    "        sw = open(stopwords_path / \"hindi.txt\").readlines()\n",
    "        sw = [w.strip() for w in sw]\n",
    "        return set(sw)\n",
    "\n",
    "def process_file(filepath: Path, stop_words: set[str]) -> list[str]:\n",
    "    url_pattern = re.compile(r'https?://\\S+') ## remove urls- lots of articles have them\n",
    "\n",
    "    content = \"\".join(open(filepath).readlines())\n",
    "    content = url_pattern.sub(\"\", content)\n",
    "    content = content.lower()\n",
    "    content = re.sub(r'[^\\w\\s]', \"\", content) # non-word and non-whitespace characters\n",
    "    content = re.sub(r'\\d', \"\", content) # remove digits\n",
    "    content = re.sub(r\"\\s+\", \" \", content) # remove newlines, duplicate whitespaces, tabs, ...\n",
    "    tokens = [ token for token in content.split(\" \") if token not in stop_words ]\n",
    "\n",
    "    return tokens\n",
    "\n",
    "def add_tags(tokens: list[str]) -> list[tuple[str, str, str]]:\n",
    "    pos_tags = nltk.pos_tag(tokens)\n",
    "    lemmatizer = WordNetLemmatizer()\n",
    "    result = [(token, tag, lemmatizer.lemmatize(token, get_wordnet_pos(tag))) for token, tag in pos_tags]\n",
    "\n",
    "    return result\n",
    "\n",
    "def get_wordnet_pos(tag):\n",
    "    if tag.startswith('J'):\n",
    "        return wordnet.ADJ\n",
    "    elif tag.startswith('V'):\n",
    "        return wordnet.VERB\n",
    "    elif tag.startswith('N'):\n",
    "        return wordnet.NOUN\n",
    "    elif tag.startswith('R'):\n",
    "        return wordnet.ADV\n",
    "    else:\n",
    "        return wordnet.NOUN \n",
    "\n",
    "def save_to_conllu(filepath: Path, content: list[tuple[str, str, str]], language: str):\n",
    "    with open(filepath, \"w\", encoding='utf-8') as f:\n",
    "        f.write(\"# token\\tPOS\\tLEM\\n\")\n",
    "        for i, (token, pos, lem) in enumerate(content):\n",
    "            f.write(f\"{i+1}\\t{token}\\t{pos}\\t{lem}\\n\")\n",
    "        f.write(\"\\n\")"
   ]
  },
  {
   "cell_type": "code",
   "execution_count": 3,
   "metadata": {},
   "outputs": [],
   "source": [
    "base_path = Path.cwd().parent / \"data\"\n",
    "filepaths = get_raw_files_per_language(base_path  / \"training_data_16_October_release\")\n",
    "\n",
    "for language in filepaths.keys():\n",
    "    stop_words = get_stopwords_for_language(language, base_path /  \"stopwords\")\n",
    "    Path(base_path / \"tmp\" / language ).mkdir(parents=True, exist_ok=True)\n",
    "    for filepath in filepaths[language]:\n",
    "        output_file = base_path / \"tmp\" / language / filepath.name\n",
    "        if output_file.exists():\n",
    "            output_file.unlink() #delete if file exists\n",
    "        tokens = process_file(filepath, stop_words)\n",
    "        tagged_tokens = add_tags(tokens)\n",
    "        save_to_conllu(output_file, tagged_tokens, language)"
   ]
  }
 ],
 "metadata": {
  "kernelspec": {
   "display_name": "nlp",
   "language": "python",
   "name": "python3"
  },
  "language_info": {
   "codemirror_mode": {
    "name": "ipython",
    "version": 3
   },
   "file_extension": ".py",
   "mimetype": "text/x-python",
   "name": "python",
   "nbconvert_exporter": "python",
   "pygments_lexer": "ipython3",
   "version": "3.12.7"
  }
 },
 "nbformat": 4,
 "nbformat_minor": 2
}
