{
 "cells": [
  {
   "cell_type": "code",
   "execution_count": 1,
   "metadata": {},
   "outputs": [
    {
     "name": "stderr",
     "output_type": "stream",
     "text": [
      "[nltk_data] Downloading package stopwords to /home/itsv.org.sv-\n",
      "[nltk_data]     services.at/tibor.cus@itsv.at/nltk_data...\n",
      "[nltk_data]   Package stopwords is already up-to-date!\n"
     ]
    },
    {
     "data": {
      "text/plain": [
       "True"
      ]
     },
     "execution_count": 1,
     "metadata": {},
     "output_type": "execute_result"
    }
   ],
   "source": [
    "import regex as re\n",
    "from pathlib import Path\n",
    "from nltk.corpus import stopwords\n",
    "import spacy\n",
    "from spacy import Language\n",
    "import nltk\n",
    "nltk.download('stopwords')"
   ]
  },
  {
   "cell_type": "code",
   "execution_count": 2,
   "metadata": {},
   "outputs": [],
   "source": [
    "def get_raw_files_per_language(data_base: Path) -> dict[str, list[Path]]:\n",
    "    res = {}\n",
    "    for language_dir in data_base.iterdir():\n",
    "        raw_dir = language_dir / \"raw-documents\"\n",
    "        res[language_dir.name] = list(raw_dir.iterdir())\n",
    "    return res\n",
    "\n",
    "def get_stopwords_for_language(language: str, stopwords_path: Path) -> set[str]:\n",
    "    if language.lower() in (\"eng\", \"en\", \"english\"):\n",
    "        return set(stopwords.words('english'))\n",
    "    if language.lower() in (\"ru\", \"russian\"):\n",
    "        return set(stopwords.words('russian'))\n",
    "    if language.lower() in (\"pt\", \"portuguese\"):\n",
    "        return set(stopwords.words('portuguese'))\n",
    "    if language.lower() in (\"bg\", \"bulgarian\"):\n",
    "        sw = open(stopwords_path / \"bulgarian.txt\").readlines()\n",
    "        sw = [w.strip() for w in sw]\n",
    "        return set(sw)\n",
    "    if language.lower() in (\"hi\", \"hindi\"):\n",
    "        sw = open(stopwords_path / \"hindi.txt\").readlines()\n",
    "        sw = [w.strip() for w in sw]\n",
    "        return set(sw)\n",
    "\n",
    "def process_file(filepath: Path, stop_words: set[str]) -> list[str]:\n",
    "    url_pattern = re.compile(r'https?://\\S+') ## remove urls- lots of articles have them\n",
    "\n",
    "    content = \"\".join(open(filepath).readlines())\n",
    "    content = url_pattern.sub(\"\", content)\n",
    "    content = content.lower()\n",
    "    content = re.sub(r'[^\\w\\s]', \"\", content) # non-word and non-whitespace characters\n",
    "    content = re.sub(r'\\d', \"\", content) # remove digits\n",
    "    content = re.sub(r\"\\s+\", \" \", content) # remove newlines, duplicate whitespaces, tabs, ...\n",
    "    tokens = [ token for token in content.split(\" \") if token not in stop_words ]\n",
    "\n",
    "    return tokens\n",
    "\n",
    "def add_tags(tokens: list[str], nlp: Language = None) -> list[str, str, str]:\n",
    "    if nlp is None:\n",
    "        return [(token, '_', '_') for token in tokens] \n",
    "\n",
    "    str_tokens = \" \".join(tokens)\n",
    "    doc = nlp(str_tokens)\n",
    "\n",
    "    return [(token.text, token.pos_, token.lemma_) for token in doc]\n",
    "\n",
    "def save_to_conllu(filepath: Path, content: list[tuple[str, str, str]], language: str):\n",
    "    with open(filepath, \"w\", encoding='utf-8') as f:\n",
    "        f.write(\"# id\\ttoken\\tpos\\tlemma\\n\")\n",
    "        for i, (token, pos, lemma) in enumerate(content):\n",
    "            f.write(f\"{i + 1}\\t{token}\\t{pos}\\t{lemma}\\n\")\n",
    "        f.write(\"\\n\")"
   ]
  },
  {
   "cell_type": "code",
   "execution_count": 3,
   "metadata": {},
   "outputs": [
    {
     "name": "stderr",
     "output_type": "stream",
     "text": [
      "/home/itsv.org.sv-services.at/tibor.cus@itsv.at/.cache/pypoetry/virtualenvs/tuw-nlp2024-mIBRLzvJ-py3.12/lib/python3.12/site-packages/spacy/util.py:910: UserWarning: [W095] Model 'en_core_web_sm' (3.8.0) was trained with spaCy v3.8.0 and may not be 100% compatible with the current version (3.7.0). If you see errors or degraded performance, download a newer compatible model or retrain your custom model with the current spaCy version. For more details and available updates, run: python -m spacy validate\n",
      "  warnings.warn(warn_msg)\n"
     ]
    }
   ],
   "source": [
    "!python -m spacy download en_core_web_sm\n",
    "!python -m spacy download ru_core_news_sm\n",
    "!python -m spacy download pt_core_news_sm\n",
    "\n",
    "spacy_models = {\n",
    "    'EN' : 'en_core_web_sm',\n",
    "    'PT' : 'pt_core_news_sm',\n",
    "    'RU' : 'ru_core_news_sm',\n",
    "    'BG' : None,\n",
    "    'HI' : None,\n",
    "}\n",
    "\n",
    "base_path = Path.cwd().parent / \"data\"\n",
    "filepaths = get_raw_files_per_language(base_path  / \"training_data_16_October_release\")\n",
    "\n",
    "for language in filepaths.keys():\n",
    "    spacy_model = spacy_models[language]        \n",
    "    nlp = spacy.load(spacy_model) if spacy_model else None\n",
    "\n",
    "    stop_words = get_stopwords_for_language(language, base_path /  \"stopwords\")\n",
    "    Path(base_path / \"tmp\" / language ).mkdir(parents=True, exist_ok=True)\n",
    "    for filepath in filepaths[language]:\n",
    "        output_file = base_path / \"tmp\" / language / (filepath.stem + \".conllu\")\n",
    "        if output_file.exists():\n",
    "            output_file.unlink() #delete if file exists\n",
    "        tokens = process_file(filepath, stop_words)\n",
    "        tagged_tokens = add_tags(tokens, nlp)\n",
    "        save_to_conllu(output_file, tagged_tokens, language)"
   ]
  },
  {
   "cell_type": "code",
   "execution_count": null,
   "metadata": {},
   "outputs": [],
   "source": []
  },
  {
   "cell_type": "code",
   "execution_count": null,
   "metadata": {},
   "outputs": [],
   "source": []
  }
 ],
 "metadata": {
  "kernelspec": {
   "display_name": "tuw-nlp2024-mIBRLzvJ-py3.12",
   "language": "python",
   "name": "python3"
  },
  "language_info": {
   "codemirror_mode": {
    "name": "ipython",
    "version": 3
   },
   "file_extension": ".py",
   "mimetype": "text/x-python",
   "name": "python",
   "nbconvert_exporter": "python",
   "pygments_lexer": "ipython3",
   "version": "3.12.7"
  }
 },
 "nbformat": 4,
 "nbformat_minor": 2
}
