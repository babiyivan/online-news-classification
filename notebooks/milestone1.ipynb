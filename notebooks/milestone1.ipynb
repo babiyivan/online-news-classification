{
 "cells": [
  {
   "cell_type": "markdown",
   "metadata": {},
   "source": [
    "## Library imports"
   ]
  },
  {
   "cell_type": "code",
   "execution_count": 2,
   "metadata": {},
   "outputs": [
    {
     "name": "stderr",
     "output_type": "stream",
     "text": [
      "[nltk_data] Downloading package stopwords to\n",
      "[nltk_data]     C:\\Users\\IvanB\\AppData\\Roaming\\nltk_data...\n",
      "[nltk_data]   Package stopwords is already up-to-date!\n"
     ]
    },
    {
     "data": {
      "text/plain": [
       "True"
      ]
     },
     "execution_count": 2,
     "metadata": {},
     "output_type": "execute_result"
    }
   ],
   "source": [
    "import regex as re\n",
    "from pathlib import Path\n",
    "from nltk.corpus import stopwords\n",
    "import spacy\n",
    "from spacy import Language\n",
    "import nltk\n",
    "from typing import Set, List, Tuple\n",
    "nltk.download('stopwords')"
   ]
  },
  {
   "cell_type": "markdown",
   "metadata": {},
   "source": [
    "## Define functions"
   ]
  },
  {
   "cell_type": "code",
   "execution_count": 3,
   "metadata": {},
   "outputs": [],
   "source": [
    "def get_raw_files_per_language(data_base: Path) -> dict[str, List[Path]]:\n",
    "    res = {}\n",
    "    for language_dir in data_base.iterdir():\n",
    "        raw_dir = language_dir / \"raw-documents\"\n",
    "        res[language_dir.name] = list(raw_dir.iterdir())\n",
    "    return res\n",
    "\n",
    "def get_stopwords_for_language(language: str, stopwords_path: Path) -> Set[str]:\n",
    "    if language.lower() in (\"eng\", \"en\", \"english\"):\n",
    "        return set(stopwords.words('english'))\n",
    "    if language.lower() in (\"ru\", \"russian\"):\n",
    "        return set(stopwords.words('russian'))\n",
    "    if language.lower() in (\"pt\", \"portuguese\"):\n",
    "        return set(stopwords.words('portuguese'))\n",
    "    if language.lower() in (\"bg\", \"bulgarian\"):\n",
    "        sw = open(stopwords_path / \"bulgarian.txt\", encoding='utf-8').readlines()\n",
    "        sw = [w.strip() for w in sw]\n",
    "        return set(sw)\n",
    "    if language.lower() in (\"hi\", \"hindi\"):\n",
    "        sw = open(stopwords_path / \"hindi.txt\", encoding='utf-8').readlines()\n",
    "        sw = [w.strip() for w in sw]\n",
    "        return set(sw)\n",
    "\n",
    "def process_file(filepath: Path, stop_words: Set[str], nlp: Language) -> List[str]:\n",
    "    url_pattern = re.compile(r'https?://\\S+')  # remove urls- lots of articles have them\n",
    "\n",
    "    with open(filepath, encoding='utf-8') as file:\n",
    "        content = file.read()\n",
    "    content = url_pattern.sub(\"\", content)\n",
    "    content = content.lower()\n",
    "    content = re.sub(r'[^\\w\\s]', \"\", content)  # non-word and non-whitespace characters\n",
    "    content = re.sub(r'\\d', \"\", content)  # remove digits\n",
    "    content = re.sub(r\"\\s+\", \" \", content)  # remove newlines, duplicate whitespaces, tabs, ...\n",
    "\n",
    "    # Use spaCy's tokenizer\n",
    "    doc = nlp(content)\n",
    "    tokens = [token.text for token in doc if token.text not in stop_words]\n",
    "\n",
    "    return tokens\n",
    "\n",
    "def add_tags(tokens: List[str], nlp: Language = None) -> List[Tuple[str, str, str]]:\n",
    "    if nlp is None:\n",
    "        return [(token, '_', '_') for token in tokens]\n",
    "\n",
    "    str_tokens = \" \".join(tokens)\n",
    "    doc = nlp(str_tokens)\n",
    "\n",
    "    return [(token.text, token.pos_, token.lemma_) for token in doc]\n",
    "\n",
    "def save_to_conllu(filepath: Path, content: List[Tuple[str, str, str]], language: str):\n",
    "    with open(filepath, \"w\", encoding='utf-8') as f:\n",
    "        f.write(\"# id\\ttoken\\tpos\\tlemma\\n\")\n",
    "        for i, (token, pos, lemma) in enumerate(content):\n",
    "            f.write(f\"{i + 1}\\t{token}\\t{pos}\\t{lemma}\\n\")\n",
    "        f.write(\"\\n\")"
   ]
  },
  {
   "cell_type": "markdown",
   "metadata": {},
   "source": [
    "## Run preprocessing"
   ]
  },
  {
   "cell_type": "code",
   "execution_count": 6,
   "metadata": {
    "scrolled": true
   },
   "outputs": [
    {
     "name": "stdout",
     "output_type": "stream",
     "text": [
      "Collecting en-core-web-sm==3.7.1\n",
      "  Downloading https://github.com/explosion/spacy-models/releases/download/en_core_web_sm-3.7.1/en_core_web_sm-3.7.1-py3-none-any.whl (12.8 MB)\n",
      "     ---------------------------------------- 0.0/12.8 MB ? eta -:--:--\n",
      "     ----- ---------------------------------- 1.8/12.8 MB 11.2 MB/s eta 0:00:01\n",
      "     ------------ --------------------------- 3.9/12.8 MB 10.2 MB/s eta 0:00:01\n",
      "     -------------------- ------------------- 6.6/12.8 MB 10.9 MB/s eta 0:00:01\n",
      "     ---------------------------- ----------- 9.2/12.8 MB 11.4 MB/s eta 0:00:01\n",
      "     ----------------------------------- --- 11.8/12.8 MB 11.5 MB/s eta 0:00:01\n",
      "     --------------------------------------- 12.8/12.8 MB 11.0 MB/s eta 0:00:00\n",
      "Requirement already satisfied: spacy<3.8.0,>=3.7.2 in c:\\users\\ivanb\\appdata\\local\\pypoetry\\cache\\virtualenvs\\tuw-nlp2024-hqeixhnn-py3.12\\lib\\site-packages (from en-core-web-sm==3.7.1) (3.7.5)\n",
      "Requirement already satisfied: spacy-legacy<3.1.0,>=3.0.11 in c:\\users\\ivanb\\appdata\\local\\pypoetry\\cache\\virtualenvs\\tuw-nlp2024-hqeixhnn-py3.12\\lib\\site-packages (from spacy<3.8.0,>=3.7.2->en-core-web-sm==3.7.1) (3.0.12)\n",
      "Requirement already satisfied: spacy-loggers<2.0.0,>=1.0.0 in c:\\users\\ivanb\\appdata\\local\\pypoetry\\cache\\virtualenvs\\tuw-nlp2024-hqeixhnn-py3.12\\lib\\site-packages (from spacy<3.8.0,>=3.7.2->en-core-web-sm==3.7.1) (1.0.5)\n",
      "Requirement already satisfied: murmurhash<1.1.0,>=0.28.0 in c:\\users\\ivanb\\appdata\\local\\pypoetry\\cache\\virtualenvs\\tuw-nlp2024-hqeixhnn-py3.12\\lib\\site-packages (from spacy<3.8.0,>=3.7.2->en-core-web-sm==3.7.1) (1.0.10)\n",
      "Requirement already satisfied: cymem<2.1.0,>=2.0.2 in c:\\users\\ivanb\\appdata\\local\\pypoetry\\cache\\virtualenvs\\tuw-nlp2024-hqeixhnn-py3.12\\lib\\site-packages (from spacy<3.8.0,>=3.7.2->en-core-web-sm==3.7.1) (2.0.8)\n",
      "Requirement already satisfied: preshed<3.1.0,>=3.0.2 in c:\\users\\ivanb\\appdata\\local\\pypoetry\\cache\\virtualenvs\\tuw-nlp2024-hqeixhnn-py3.12\\lib\\site-packages (from spacy<3.8.0,>=3.7.2->en-core-web-sm==3.7.1) (3.0.9)\n",
      "Requirement already satisfied: thinc<8.3.0,>=8.2.2 in c:\\users\\ivanb\\appdata\\local\\pypoetry\\cache\\virtualenvs\\tuw-nlp2024-hqeixhnn-py3.12\\lib\\site-packages (from spacy<3.8.0,>=3.7.2->en-core-web-sm==3.7.1) (8.2.5)\n",
      "Requirement already satisfied: wasabi<1.2.0,>=0.9.1 in c:\\users\\ivanb\\appdata\\local\\pypoetry\\cache\\virtualenvs\\tuw-nlp2024-hqeixhnn-py3.12\\lib\\site-packages (from spacy<3.8.0,>=3.7.2->en-core-web-sm==3.7.1) (1.1.3)\n",
      "Requirement already satisfied: srsly<3.0.0,>=2.4.3 in c:\\users\\ivanb\\appdata\\local\\pypoetry\\cache\\virtualenvs\\tuw-nlp2024-hqeixhnn-py3.12\\lib\\site-packages (from spacy<3.8.0,>=3.7.2->en-core-web-sm==3.7.1) (2.4.8)\n",
      "Requirement already satisfied: catalogue<2.1.0,>=2.0.6 in c:\\users\\ivanb\\appdata\\local\\pypoetry\\cache\\virtualenvs\\tuw-nlp2024-hqeixhnn-py3.12\\lib\\site-packages (from spacy<3.8.0,>=3.7.2->en-core-web-sm==3.7.1) (2.0.10)\n",
      "Requirement already satisfied: weasel<0.5.0,>=0.1.0 in c:\\users\\ivanb\\appdata\\local\\pypoetry\\cache\\virtualenvs\\tuw-nlp2024-hqeixhnn-py3.12\\lib\\site-packages (from spacy<3.8.0,>=3.7.2->en-core-web-sm==3.7.1) (0.4.1)\n",
      "Requirement already satisfied: typer<1.0.0,>=0.3.0 in c:\\users\\ivanb\\appdata\\local\\pypoetry\\cache\\virtualenvs\\tuw-nlp2024-hqeixhnn-py3.12\\lib\\site-packages (from spacy<3.8.0,>=3.7.2->en-core-web-sm==3.7.1) (0.12.5)\n",
      "Requirement already satisfied: tqdm<5.0.0,>=4.38.0 in c:\\users\\ivanb\\appdata\\local\\pypoetry\\cache\\virtualenvs\\tuw-nlp2024-hqeixhnn-py3.12\\lib\\site-packages (from spacy<3.8.0,>=3.7.2->en-core-web-sm==3.7.1) (4.66.5)\n",
      "Requirement already satisfied: requests<3.0.0,>=2.13.0 in c:\\users\\ivanb\\appdata\\local\\pypoetry\\cache\\virtualenvs\\tuw-nlp2024-hqeixhnn-py3.12\\lib\\site-packages (from spacy<3.8.0,>=3.7.2->en-core-web-sm==3.7.1) (2.32.3)\n",
      "Requirement already satisfied: pydantic!=1.8,!=1.8.1,<3.0.0,>=1.7.4 in c:\\users\\ivanb\\appdata\\local\\pypoetry\\cache\\virtualenvs\\tuw-nlp2024-hqeixhnn-py3.12\\lib\\site-packages (from spacy<3.8.0,>=3.7.2->en-core-web-sm==3.7.1) (2.9.2)\n",
      "Requirement already satisfied: jinja2 in c:\\users\\ivanb\\appdata\\local\\pypoetry\\cache\\virtualenvs\\tuw-nlp2024-hqeixhnn-py3.12\\lib\\site-packages (from spacy<3.8.0,>=3.7.2->en-core-web-sm==3.7.1) (3.1.4)\n",
      "Requirement already satisfied: setuptools in c:\\users\\ivanb\\appdata\\local\\pypoetry\\cache\\virtualenvs\\tuw-nlp2024-hqeixhnn-py3.12\\lib\\site-packages (from spacy<3.8.0,>=3.7.2->en-core-web-sm==3.7.1) (75.2.0)\n",
      "Requirement already satisfied: packaging>=20.0 in c:\\users\\ivanb\\appdata\\local\\pypoetry\\cache\\virtualenvs\\tuw-nlp2024-hqeixhnn-py3.12\\lib\\site-packages (from spacy<3.8.0,>=3.7.2->en-core-web-sm==3.7.1) (24.1)\n",
      "Requirement already satisfied: langcodes<4.0.0,>=3.2.0 in c:\\users\\ivanb\\appdata\\local\\pypoetry\\cache\\virtualenvs\\tuw-nlp2024-hqeixhnn-py3.12\\lib\\site-packages (from spacy<3.8.0,>=3.7.2->en-core-web-sm==3.7.1) (3.4.1)\n",
      "Requirement already satisfied: numpy>=1.19.0 in c:\\users\\ivanb\\appdata\\local\\pypoetry\\cache\\virtualenvs\\tuw-nlp2024-hqeixhnn-py3.12\\lib\\site-packages (from spacy<3.8.0,>=3.7.2->en-core-web-sm==3.7.1) (1.26.0)\n",
      "Requirement already satisfied: language-data>=1.2 in c:\\users\\ivanb\\appdata\\local\\pypoetry\\cache\\virtualenvs\\tuw-nlp2024-hqeixhnn-py3.12\\lib\\site-packages (from langcodes<4.0.0,>=3.2.0->spacy<3.8.0,>=3.7.2->en-core-web-sm==3.7.1) (1.2.0)\n",
      "Requirement already satisfied: annotated-types>=0.6.0 in c:\\users\\ivanb\\appdata\\local\\pypoetry\\cache\\virtualenvs\\tuw-nlp2024-hqeixhnn-py3.12\\lib\\site-packages (from pydantic!=1.8,!=1.8.1,<3.0.0,>=1.7.4->spacy<3.8.0,>=3.7.2->en-core-web-sm==3.7.1) (0.7.0)\n",
      "Requirement already satisfied: pydantic-core==2.23.4 in c:\\users\\ivanb\\appdata\\local\\pypoetry\\cache\\virtualenvs\\tuw-nlp2024-hqeixhnn-py3.12\\lib\\site-packages (from pydantic!=1.8,!=1.8.1,<3.0.0,>=1.7.4->spacy<3.8.0,>=3.7.2->en-core-web-sm==3.7.1) (2.23.4)\n",
      "Requirement already satisfied: typing-extensions>=4.6.1 in c:\\users\\ivanb\\appdata\\local\\pypoetry\\cache\\virtualenvs\\tuw-nlp2024-hqeixhnn-py3.12\\lib\\site-packages (from pydantic!=1.8,!=1.8.1,<3.0.0,>=1.7.4->spacy<3.8.0,>=3.7.2->en-core-web-sm==3.7.1) (4.12.2)\n",
      "Requirement already satisfied: charset-normalizer<4,>=2 in c:\\users\\ivanb\\appdata\\local\\pypoetry\\cache\\virtualenvs\\tuw-nlp2024-hqeixhnn-py3.12\\lib\\site-packages (from requests<3.0.0,>=2.13.0->spacy<3.8.0,>=3.7.2->en-core-web-sm==3.7.1) (3.4.0)\n",
      "Requirement already satisfied: idna<4,>=2.5 in c:\\users\\ivanb\\appdata\\local\\pypoetry\\cache\\virtualenvs\\tuw-nlp2024-hqeixhnn-py3.12\\lib\\site-packages (from requests<3.0.0,>=2.13.0->spacy<3.8.0,>=3.7.2->en-core-web-sm==3.7.1) (3.10)\n",
      "Requirement already satisfied: urllib3<3,>=1.21.1 in c:\\users\\ivanb\\appdata\\local\\pypoetry\\cache\\virtualenvs\\tuw-nlp2024-hqeixhnn-py3.12\\lib\\site-packages (from requests<3.0.0,>=2.13.0->spacy<3.8.0,>=3.7.2->en-core-web-sm==3.7.1) (2.2.3)\n",
      "Requirement already satisfied: certifi>=2017.4.17 in c:\\users\\ivanb\\appdata\\local\\pypoetry\\cache\\virtualenvs\\tuw-nlp2024-hqeixhnn-py3.12\\lib\\site-packages (from requests<3.0.0,>=2.13.0->spacy<3.8.0,>=3.7.2->en-core-web-sm==3.7.1) (2024.8.30)\n",
      "Requirement already satisfied: blis<0.8.0,>=0.7.8 in c:\\users\\ivanb\\appdata\\local\\pypoetry\\cache\\virtualenvs\\tuw-nlp2024-hqeixhnn-py3.12\\lib\\site-packages (from thinc<8.3.0,>=8.2.2->spacy<3.8.0,>=3.7.2->en-core-web-sm==3.7.1) (0.7.11)\n",
      "Requirement already satisfied: confection<1.0.0,>=0.0.1 in c:\\users\\ivanb\\appdata\\local\\pypoetry\\cache\\virtualenvs\\tuw-nlp2024-hqeixhnn-py3.12\\lib\\site-packages (from thinc<8.3.0,>=8.2.2->spacy<3.8.0,>=3.7.2->en-core-web-sm==3.7.1) (0.1.5)\n",
      "Requirement already satisfied: colorama in c:\\users\\ivanb\\appdata\\local\\pypoetry\\cache\\virtualenvs\\tuw-nlp2024-hqeixhnn-py3.12\\lib\\site-packages (from tqdm<5.0.0,>=4.38.0->spacy<3.8.0,>=3.7.2->en-core-web-sm==3.7.1) (0.4.6)\n",
      "Requirement already satisfied: click>=8.0.0 in c:\\users\\ivanb\\appdata\\local\\pypoetry\\cache\\virtualenvs\\tuw-nlp2024-hqeixhnn-py3.12\\lib\\site-packages (from typer<1.0.0,>=0.3.0->spacy<3.8.0,>=3.7.2->en-core-web-sm==3.7.1) (8.1.7)\n",
      "Requirement already satisfied: shellingham>=1.3.0 in c:\\users\\ivanb\\appdata\\local\\pypoetry\\cache\\virtualenvs\\tuw-nlp2024-hqeixhnn-py3.12\\lib\\site-packages (from typer<1.0.0,>=0.3.0->spacy<3.8.0,>=3.7.2->en-core-web-sm==3.7.1) (1.5.4)\n",
      "Requirement already satisfied: rich>=10.11.0 in c:\\users\\ivanb\\appdata\\local\\pypoetry\\cache\\virtualenvs\\tuw-nlp2024-hqeixhnn-py3.12\\lib\\site-packages (from typer<1.0.0,>=0.3.0->spacy<3.8.0,>=3.7.2->en-core-web-sm==3.7.1) (13.9.3)\n",
      "Requirement already satisfied: cloudpathlib<1.0.0,>=0.7.0 in c:\\users\\ivanb\\appdata\\local\\pypoetry\\cache\\virtualenvs\\tuw-nlp2024-hqeixhnn-py3.12\\lib\\site-packages (from weasel<0.5.0,>=0.1.0->spacy<3.8.0,>=3.7.2->en-core-web-sm==3.7.1) (0.20.0)\n",
      "Requirement already satisfied: smart-open<8.0.0,>=5.2.1 in c:\\users\\ivanb\\appdata\\local\\pypoetry\\cache\\virtualenvs\\tuw-nlp2024-hqeixhnn-py3.12\\lib\\site-packages (from weasel<0.5.0,>=0.1.0->spacy<3.8.0,>=3.7.2->en-core-web-sm==3.7.1) (7.0.5)\n",
      "Requirement already satisfied: MarkupSafe>=2.0 in c:\\users\\ivanb\\appdata\\local\\pypoetry\\cache\\virtualenvs\\tuw-nlp2024-hqeixhnn-py3.12\\lib\\site-packages (from jinja2->spacy<3.8.0,>=3.7.2->en-core-web-sm==3.7.1) (3.0.1)\n",
      "Requirement already satisfied: marisa-trie>=0.7.7 in c:\\users\\ivanb\\appdata\\local\\pypoetry\\cache\\virtualenvs\\tuw-nlp2024-hqeixhnn-py3.12\\lib\\site-packages (from language-data>=1.2->langcodes<4.0.0,>=3.2.0->spacy<3.8.0,>=3.7.2->en-core-web-sm==3.7.1) (1.2.1)\n",
      "Requirement already satisfied: markdown-it-py>=2.2.0 in c:\\users\\ivanb\\appdata\\local\\pypoetry\\cache\\virtualenvs\\tuw-nlp2024-hqeixhnn-py3.12\\lib\\site-packages (from rich>=10.11.0->typer<1.0.0,>=0.3.0->spacy<3.8.0,>=3.7.2->en-core-web-sm==3.7.1) (3.0.0)\n",
      "Requirement already satisfied: pygments<3.0.0,>=2.13.0 in c:\\users\\ivanb\\appdata\\local\\pypoetry\\cache\\virtualenvs\\tuw-nlp2024-hqeixhnn-py3.12\\lib\\site-packages (from rich>=10.11.0->typer<1.0.0,>=0.3.0->spacy<3.8.0,>=3.7.2->en-core-web-sm==3.7.1) (2.18.0)\n",
      "Requirement already satisfied: wrapt in c:\\users\\ivanb\\appdata\\local\\pypoetry\\cache\\virtualenvs\\tuw-nlp2024-hqeixhnn-py3.12\\lib\\site-packages (from smart-open<8.0.0,>=5.2.1->weasel<0.5.0,>=0.1.0->spacy<3.8.0,>=3.7.2->en-core-web-sm==3.7.1) (1.16.0)\n",
      "Requirement already satisfied: mdurl~=0.1 in c:\\users\\ivanb\\appdata\\local\\pypoetry\\cache\\virtualenvs\\tuw-nlp2024-hqeixhnn-py3.12\\lib\\site-packages (from markdown-it-py>=2.2.0->rich>=10.11.0->typer<1.0.0,>=0.3.0->spacy<3.8.0,>=3.7.2->en-core-web-sm==3.7.1) (0.1.2)\n",
      "\u001b[38;5;2m[+] Download and installation successful\u001b[0m\n",
      "You can now load the package via spacy.load('en_core_web_sm')\n"
     ]
    },
    {
     "name": "stderr",
     "output_type": "stream",
     "text": [
      "\n",
      "[notice] A new release of pip is available: 24.2 -> 24.3.1\n",
      "[notice] To update, run: python.exe -m pip install --upgrade pip\n"
     ]
    },
    {
     "name": "stdout",
     "output_type": "stream",
     "text": [
      "Collecting ru-core-news-sm==3.7.0\n",
      "  Downloading https://github.com/explosion/spacy-models/releases/download/ru_core_news_sm-3.7.0/ru_core_news_sm-3.7.0-py3-none-any.whl (15.3 MB)\n",
      "     ---------------------------------------- 0.0/15.3 MB ? eta -:--:--\n",
      "     -- ------------------------------------- 0.8/15.3 MB 5.6 MB/s eta 0:00:03\n",
      "     ------ --------------------------------- 2.4/15.3 MB 6.7 MB/s eta 0:00:02\n",
      "     ---------- ----------------------------- 4.2/15.3 MB 7.4 MB/s eta 0:00:02\n",
      "     ---------------- ----------------------- 6.3/15.3 MB 8.0 MB/s eta 0:00:02\n",
      "     ---------------------- ----------------- 8.7/15.3 MB 8.7 MB/s eta 0:00:01\n",
      "     ---------------------------- ----------- 10.7/15.3 MB 8.9 MB/s eta 0:00:01\n",
      "     ---------------------------------- ----- 13.1/15.3 MB 9.3 MB/s eta 0:00:01\n",
      "     ---------------------------------------  15.2/15.3 MB 9.7 MB/s eta 0:00:01\n",
      "     ---------------------------------------- 15.3/15.3 MB 9.3 MB/s eta 0:00:00\n",
      "Requirement already satisfied: spacy<3.8.0,>=3.7.0 in c:\\users\\ivanb\\appdata\\local\\pypoetry\\cache\\virtualenvs\\tuw-nlp2024-hqeixhnn-py3.12\\lib\\site-packages (from ru-core-news-sm==3.7.0) (3.7.5)\n",
      "Requirement already satisfied: pymorphy3>=1.0.0 in c:\\users\\ivanb\\appdata\\local\\pypoetry\\cache\\virtualenvs\\tuw-nlp2024-hqeixhnn-py3.12\\lib\\site-packages (from ru-core-news-sm==3.7.0) (2.0.2)\n",
      "Requirement already satisfied: dawg-python>=0.7.1 in c:\\users\\ivanb\\appdata\\local\\pypoetry\\cache\\virtualenvs\\tuw-nlp2024-hqeixhnn-py3.12\\lib\\site-packages (from pymorphy3>=1.0.0->ru-core-news-sm==3.7.0) (0.7.2)\n",
      "Requirement already satisfied: pymorphy3-dicts-ru in c:\\users\\ivanb\\appdata\\local\\pypoetry\\cache\\virtualenvs\\tuw-nlp2024-hqeixhnn-py3.12\\lib\\site-packages (from pymorphy3>=1.0.0->ru-core-news-sm==3.7.0) (2.4.417150.4580142)\n",
      "Requirement already satisfied: setuptools>=68.2.2 in c:\\users\\ivanb\\appdata\\local\\pypoetry\\cache\\virtualenvs\\tuw-nlp2024-hqeixhnn-py3.12\\lib\\site-packages (from pymorphy3>=1.0.0->ru-core-news-sm==3.7.0) (75.2.0)\n",
      "Requirement already satisfied: spacy-legacy<3.1.0,>=3.0.11 in c:\\users\\ivanb\\appdata\\local\\pypoetry\\cache\\virtualenvs\\tuw-nlp2024-hqeixhnn-py3.12\\lib\\site-packages (from spacy<3.8.0,>=3.7.0->ru-core-news-sm==3.7.0) (3.0.12)\n",
      "Requirement already satisfied: spacy-loggers<2.0.0,>=1.0.0 in c:\\users\\ivanb\\appdata\\local\\pypoetry\\cache\\virtualenvs\\tuw-nlp2024-hqeixhnn-py3.12\\lib\\site-packages (from spacy<3.8.0,>=3.7.0->ru-core-news-sm==3.7.0) (1.0.5)\n",
      "Requirement already satisfied: murmurhash<1.1.0,>=0.28.0 in c:\\users\\ivanb\\appdata\\local\\pypoetry\\cache\\virtualenvs\\tuw-nlp2024-hqeixhnn-py3.12\\lib\\site-packages (from spacy<3.8.0,>=3.7.0->ru-core-news-sm==3.7.0) (1.0.10)\n",
      "Requirement already satisfied: cymem<2.1.0,>=2.0.2 in c:\\users\\ivanb\\appdata\\local\\pypoetry\\cache\\virtualenvs\\tuw-nlp2024-hqeixhnn-py3.12\\lib\\site-packages (from spacy<3.8.0,>=3.7.0->ru-core-news-sm==3.7.0) (2.0.8)\n",
      "Requirement already satisfied: preshed<3.1.0,>=3.0.2 in c:\\users\\ivanb\\appdata\\local\\pypoetry\\cache\\virtualenvs\\tuw-nlp2024-hqeixhnn-py3.12\\lib\\site-packages (from spacy<3.8.0,>=3.7.0->ru-core-news-sm==3.7.0) (3.0.9)\n",
      "Requirement already satisfied: thinc<8.3.0,>=8.2.2 in c:\\users\\ivanb\\appdata\\local\\pypoetry\\cache\\virtualenvs\\tuw-nlp2024-hqeixhnn-py3.12\\lib\\site-packages (from spacy<3.8.0,>=3.7.0->ru-core-news-sm==3.7.0) (8.2.5)\n",
      "Requirement already satisfied: wasabi<1.2.0,>=0.9.1 in c:\\users\\ivanb\\appdata\\local\\pypoetry\\cache\\virtualenvs\\tuw-nlp2024-hqeixhnn-py3.12\\lib\\site-packages (from spacy<3.8.0,>=3.7.0->ru-core-news-sm==3.7.0) (1.1.3)\n",
      "Requirement already satisfied: srsly<3.0.0,>=2.4.3 in c:\\users\\ivanb\\appdata\\local\\pypoetry\\cache\\virtualenvs\\tuw-nlp2024-hqeixhnn-py3.12\\lib\\site-packages (from spacy<3.8.0,>=3.7.0->ru-core-news-sm==3.7.0) (2.4.8)\n",
      "Requirement already satisfied: catalogue<2.1.0,>=2.0.6 in c:\\users\\ivanb\\appdata\\local\\pypoetry\\cache\\virtualenvs\\tuw-nlp2024-hqeixhnn-py3.12\\lib\\site-packages (from spacy<3.8.0,>=3.7.0->ru-core-news-sm==3.7.0) (2.0.10)\n",
      "Requirement already satisfied: weasel<0.5.0,>=0.1.0 in c:\\users\\ivanb\\appdata\\local\\pypoetry\\cache\\virtualenvs\\tuw-nlp2024-hqeixhnn-py3.12\\lib\\site-packages (from spacy<3.8.0,>=3.7.0->ru-core-news-sm==3.7.0) (0.4.1)\n",
      "Requirement already satisfied: typer<1.0.0,>=0.3.0 in c:\\users\\ivanb\\appdata\\local\\pypoetry\\cache\\virtualenvs\\tuw-nlp2024-hqeixhnn-py3.12\\lib\\site-packages (from spacy<3.8.0,>=3.7.0->ru-core-news-sm==3.7.0) (0.12.5)\n",
      "Requirement already satisfied: tqdm<5.0.0,>=4.38.0 in c:\\users\\ivanb\\appdata\\local\\pypoetry\\cache\\virtualenvs\\tuw-nlp2024-hqeixhnn-py3.12\\lib\\site-packages (from spacy<3.8.0,>=3.7.0->ru-core-news-sm==3.7.0) (4.66.5)\n",
      "Requirement already satisfied: requests<3.0.0,>=2.13.0 in c:\\users\\ivanb\\appdata\\local\\pypoetry\\cache\\virtualenvs\\tuw-nlp2024-hqeixhnn-py3.12\\lib\\site-packages (from spacy<3.8.0,>=3.7.0->ru-core-news-sm==3.7.0) (2.32.3)\n",
      "Requirement already satisfied: pydantic!=1.8,!=1.8.1,<3.0.0,>=1.7.4 in c:\\users\\ivanb\\appdata\\local\\pypoetry\\cache\\virtualenvs\\tuw-nlp2024-hqeixhnn-py3.12\\lib\\site-packages (from spacy<3.8.0,>=3.7.0->ru-core-news-sm==3.7.0) (2.9.2)\n",
      "Requirement already satisfied: jinja2 in c:\\users\\ivanb\\appdata\\local\\pypoetry\\cache\\virtualenvs\\tuw-nlp2024-hqeixhnn-py3.12\\lib\\site-packages (from spacy<3.8.0,>=3.7.0->ru-core-news-sm==3.7.0) (3.1.4)\n",
      "Requirement already satisfied: packaging>=20.0 in c:\\users\\ivanb\\appdata\\local\\pypoetry\\cache\\virtualenvs\\tuw-nlp2024-hqeixhnn-py3.12\\lib\\site-packages (from spacy<3.8.0,>=3.7.0->ru-core-news-sm==3.7.0) (24.1)\n",
      "Requirement already satisfied: langcodes<4.0.0,>=3.2.0 in c:\\users\\ivanb\\appdata\\local\\pypoetry\\cache\\virtualenvs\\tuw-nlp2024-hqeixhnn-py3.12\\lib\\site-packages (from spacy<3.8.0,>=3.7.0->ru-core-news-sm==3.7.0) (3.4.1)\n",
      "Requirement already satisfied: numpy>=1.19.0 in c:\\users\\ivanb\\appdata\\local\\pypoetry\\cache\\virtualenvs\\tuw-nlp2024-hqeixhnn-py3.12\\lib\\site-packages (from spacy<3.8.0,>=3.7.0->ru-core-news-sm==3.7.0) (1.26.0)\n",
      "Requirement already satisfied: language-data>=1.2 in c:\\users\\ivanb\\appdata\\local\\pypoetry\\cache\\virtualenvs\\tuw-nlp2024-hqeixhnn-py3.12\\lib\\site-packages (from langcodes<4.0.0,>=3.2.0->spacy<3.8.0,>=3.7.0->ru-core-news-sm==3.7.0) (1.2.0)\n",
      "Requirement already satisfied: annotated-types>=0.6.0 in c:\\users\\ivanb\\appdata\\local\\pypoetry\\cache\\virtualenvs\\tuw-nlp2024-hqeixhnn-py3.12\\lib\\site-packages (from pydantic!=1.8,!=1.8.1,<3.0.0,>=1.7.4->spacy<3.8.0,>=3.7.0->ru-core-news-sm==3.7.0) (0.7.0)\n",
      "Requirement already satisfied: pydantic-core==2.23.4 in c:\\users\\ivanb\\appdata\\local\\pypoetry\\cache\\virtualenvs\\tuw-nlp2024-hqeixhnn-py3.12\\lib\\site-packages (from pydantic!=1.8,!=1.8.1,<3.0.0,>=1.7.4->spacy<3.8.0,>=3.7.0->ru-core-news-sm==3.7.0) (2.23.4)\n",
      "Requirement already satisfied: typing-extensions>=4.6.1 in c:\\users\\ivanb\\appdata\\local\\pypoetry\\cache\\virtualenvs\\tuw-nlp2024-hqeixhnn-py3.12\\lib\\site-packages (from pydantic!=1.8,!=1.8.1,<3.0.0,>=1.7.4->spacy<3.8.0,>=3.7.0->ru-core-news-sm==3.7.0) (4.12.2)\n",
      "Requirement already satisfied: charset-normalizer<4,>=2 in c:\\users\\ivanb\\appdata\\local\\pypoetry\\cache\\virtualenvs\\tuw-nlp2024-hqeixhnn-py3.12\\lib\\site-packages (from requests<3.0.0,>=2.13.0->spacy<3.8.0,>=3.7.0->ru-core-news-sm==3.7.0) (3.4.0)\n",
      "Requirement already satisfied: idna<4,>=2.5 in c:\\users\\ivanb\\appdata\\local\\pypoetry\\cache\\virtualenvs\\tuw-nlp2024-hqeixhnn-py3.12\\lib\\site-packages (from requests<3.0.0,>=2.13.0->spacy<3.8.0,>=3.7.0->ru-core-news-sm==3.7.0) (3.10)\n",
      "Requirement already satisfied: urllib3<3,>=1.21.1 in c:\\users\\ivanb\\appdata\\local\\pypoetry\\cache\\virtualenvs\\tuw-nlp2024-hqeixhnn-py3.12\\lib\\site-packages (from requests<3.0.0,>=2.13.0->spacy<3.8.0,>=3.7.0->ru-core-news-sm==3.7.0) (2.2.3)\n",
      "Requirement already satisfied: certifi>=2017.4.17 in c:\\users\\ivanb\\appdata\\local\\pypoetry\\cache\\virtualenvs\\tuw-nlp2024-hqeixhnn-py3.12\\lib\\site-packages (from requests<3.0.0,>=2.13.0->spacy<3.8.0,>=3.7.0->ru-core-news-sm==3.7.0) (2024.8.30)\n",
      "Requirement already satisfied: blis<0.8.0,>=0.7.8 in c:\\users\\ivanb\\appdata\\local\\pypoetry\\cache\\virtualenvs\\tuw-nlp2024-hqeixhnn-py3.12\\lib\\site-packages (from thinc<8.3.0,>=8.2.2->spacy<3.8.0,>=3.7.0->ru-core-news-sm==3.7.0) (0.7.11)\n",
      "Requirement already satisfied: confection<1.0.0,>=0.0.1 in c:\\users\\ivanb\\appdata\\local\\pypoetry\\cache\\virtualenvs\\tuw-nlp2024-hqeixhnn-py3.12\\lib\\site-packages (from thinc<8.3.0,>=8.2.2->spacy<3.8.0,>=3.7.0->ru-core-news-sm==3.7.0) (0.1.5)\n",
      "Requirement already satisfied: colorama in c:\\users\\ivanb\\appdata\\local\\pypoetry\\cache\\virtualenvs\\tuw-nlp2024-hqeixhnn-py3.12\\lib\\site-packages (from tqdm<5.0.0,>=4.38.0->spacy<3.8.0,>=3.7.0->ru-core-news-sm==3.7.0) (0.4.6)\n",
      "Requirement already satisfied: click>=8.0.0 in c:\\users\\ivanb\\appdata\\local\\pypoetry\\cache\\virtualenvs\\tuw-nlp2024-hqeixhnn-py3.12\\lib\\site-packages (from typer<1.0.0,>=0.3.0->spacy<3.8.0,>=3.7.0->ru-core-news-sm==3.7.0) (8.1.7)\n",
      "Requirement already satisfied: shellingham>=1.3.0 in c:\\users\\ivanb\\appdata\\local\\pypoetry\\cache\\virtualenvs\\tuw-nlp2024-hqeixhnn-py3.12\\lib\\site-packages (from typer<1.0.0,>=0.3.0->spacy<3.8.0,>=3.7.0->ru-core-news-sm==3.7.0) (1.5.4)\n",
      "Requirement already satisfied: rich>=10.11.0 in c:\\users\\ivanb\\appdata\\local\\pypoetry\\cache\\virtualenvs\\tuw-nlp2024-hqeixhnn-py3.12\\lib\\site-packages (from typer<1.0.0,>=0.3.0->spacy<3.8.0,>=3.7.0->ru-core-news-sm==3.7.0) (13.9.3)\n",
      "Requirement already satisfied: cloudpathlib<1.0.0,>=0.7.0 in c:\\users\\ivanb\\appdata\\local\\pypoetry\\cache\\virtualenvs\\tuw-nlp2024-hqeixhnn-py3.12\\lib\\site-packages (from weasel<0.5.0,>=0.1.0->spacy<3.8.0,>=3.7.0->ru-core-news-sm==3.7.0) (0.20.0)\n",
      "Requirement already satisfied: smart-open<8.0.0,>=5.2.1 in c:\\users\\ivanb\\appdata\\local\\pypoetry\\cache\\virtualenvs\\tuw-nlp2024-hqeixhnn-py3.12\\lib\\site-packages (from weasel<0.5.0,>=0.1.0->spacy<3.8.0,>=3.7.0->ru-core-news-sm==3.7.0) (7.0.5)\n",
      "Requirement already satisfied: MarkupSafe>=2.0 in c:\\users\\ivanb\\appdata\\local\\pypoetry\\cache\\virtualenvs\\tuw-nlp2024-hqeixhnn-py3.12\\lib\\site-packages (from jinja2->spacy<3.8.0,>=3.7.0->ru-core-news-sm==3.7.0) (3.0.1)\n",
      "Requirement already satisfied: marisa-trie>=0.7.7 in c:\\users\\ivanb\\appdata\\local\\pypoetry\\cache\\virtualenvs\\tuw-nlp2024-hqeixhnn-py3.12\\lib\\site-packages (from language-data>=1.2->langcodes<4.0.0,>=3.2.0->spacy<3.8.0,>=3.7.0->ru-core-news-sm==3.7.0) (1.2.1)\n",
      "Requirement already satisfied: markdown-it-py>=2.2.0 in c:\\users\\ivanb\\appdata\\local\\pypoetry\\cache\\virtualenvs\\tuw-nlp2024-hqeixhnn-py3.12\\lib\\site-packages (from rich>=10.11.0->typer<1.0.0,>=0.3.0->spacy<3.8.0,>=3.7.0->ru-core-news-sm==3.7.0) (3.0.0)\n",
      "Requirement already satisfied: pygments<3.0.0,>=2.13.0 in c:\\users\\ivanb\\appdata\\local\\pypoetry\\cache\\virtualenvs\\tuw-nlp2024-hqeixhnn-py3.12\\lib\\site-packages (from rich>=10.11.0->typer<1.0.0,>=0.3.0->spacy<3.8.0,>=3.7.0->ru-core-news-sm==3.7.0) (2.18.0)\n",
      "Requirement already satisfied: wrapt in c:\\users\\ivanb\\appdata\\local\\pypoetry\\cache\\virtualenvs\\tuw-nlp2024-hqeixhnn-py3.12\\lib\\site-packages (from smart-open<8.0.0,>=5.2.1->weasel<0.5.0,>=0.1.0->spacy<3.8.0,>=3.7.0->ru-core-news-sm==3.7.0) (1.16.0)\n",
      "Requirement already satisfied: mdurl~=0.1 in c:\\users\\ivanb\\appdata\\local\\pypoetry\\cache\\virtualenvs\\tuw-nlp2024-hqeixhnn-py3.12\\lib\\site-packages (from markdown-it-py>=2.2.0->rich>=10.11.0->typer<1.0.0,>=0.3.0->spacy<3.8.0,>=3.7.0->ru-core-news-sm==3.7.0) (0.1.2)\n",
      "\u001b[38;5;2m[+] Download and installation successful\u001b[0m\n",
      "You can now load the package via spacy.load('ru_core_news_sm')\n"
     ]
    },
    {
     "name": "stderr",
     "output_type": "stream",
     "text": [
      "\n",
      "[notice] A new release of pip is available: 24.2 -> 24.3.1\n",
      "[notice] To update, run: python.exe -m pip install --upgrade pip\n"
     ]
    },
    {
     "name": "stdout",
     "output_type": "stream",
     "text": [
      "Collecting pt-core-news-sm==3.7.0\n",
      "  Downloading https://github.com/explosion/spacy-models/releases/download/pt_core_news_sm-3.7.0/pt_core_news_sm-3.7.0-py3-none-any.whl (13.0 MB)\n",
      "     ---------------------------------------- 0.0/13.0 MB ? eta -:--:--\n",
      "     -- ------------------------------------- 0.8/13.0 MB 8.3 MB/s eta 0:00:02\n",
      "     -------- ------------------------------- 2.6/13.0 MB 8.9 MB/s eta 0:00:02\n",
      "     --------------- ------------------------ 5.0/13.0 MB 9.7 MB/s eta 0:00:01\n",
      "     ----------------------- ---------------- 7.6/13.0 MB 10.4 MB/s eta 0:00:01\n",
      "     ------------------------------ -------- 10.2/13.0 MB 10.8 MB/s eta 0:00:01\n",
      "     ------------------------------------- - 12.6/13.0 MB 11.0 MB/s eta 0:00:01\n",
      "     --------------------------------------- 13.0/13.0 MB 10.4 MB/s eta 0:00:00\n",
      "Requirement already satisfied: spacy<3.8.0,>=3.7.0 in c:\\users\\ivanb\\appdata\\local\\pypoetry\\cache\\virtualenvs\\tuw-nlp2024-hqeixhnn-py3.12\\lib\\site-packages (from pt-core-news-sm==3.7.0) (3.7.5)\n",
      "Requirement already satisfied: spacy-legacy<3.1.0,>=3.0.11 in c:\\users\\ivanb\\appdata\\local\\pypoetry\\cache\\virtualenvs\\tuw-nlp2024-hqeixhnn-py3.12\\lib\\site-packages (from spacy<3.8.0,>=3.7.0->pt-core-news-sm==3.7.0) (3.0.12)\n",
      "Requirement already satisfied: spacy-loggers<2.0.0,>=1.0.0 in c:\\users\\ivanb\\appdata\\local\\pypoetry\\cache\\virtualenvs\\tuw-nlp2024-hqeixhnn-py3.12\\lib\\site-packages (from spacy<3.8.0,>=3.7.0->pt-core-news-sm==3.7.0) (1.0.5)\n",
      "Requirement already satisfied: murmurhash<1.1.0,>=0.28.0 in c:\\users\\ivanb\\appdata\\local\\pypoetry\\cache\\virtualenvs\\tuw-nlp2024-hqeixhnn-py3.12\\lib\\site-packages (from spacy<3.8.0,>=3.7.0->pt-core-news-sm==3.7.0) (1.0.10)\n",
      "Requirement already satisfied: cymem<2.1.0,>=2.0.2 in c:\\users\\ivanb\\appdata\\local\\pypoetry\\cache\\virtualenvs\\tuw-nlp2024-hqeixhnn-py3.12\\lib\\site-packages (from spacy<3.8.0,>=3.7.0->pt-core-news-sm==3.7.0) (2.0.8)\n",
      "Requirement already satisfied: preshed<3.1.0,>=3.0.2 in c:\\users\\ivanb\\appdata\\local\\pypoetry\\cache\\virtualenvs\\tuw-nlp2024-hqeixhnn-py3.12\\lib\\site-packages (from spacy<3.8.0,>=3.7.0->pt-core-news-sm==3.7.0) (3.0.9)\n",
      "Requirement already satisfied: thinc<8.3.0,>=8.2.2 in c:\\users\\ivanb\\appdata\\local\\pypoetry\\cache\\virtualenvs\\tuw-nlp2024-hqeixhnn-py3.12\\lib\\site-packages (from spacy<3.8.0,>=3.7.0->pt-core-news-sm==3.7.0) (8.2.5)\n",
      "Requirement already satisfied: wasabi<1.2.0,>=0.9.1 in c:\\users\\ivanb\\appdata\\local\\pypoetry\\cache\\virtualenvs\\tuw-nlp2024-hqeixhnn-py3.12\\lib\\site-packages (from spacy<3.8.0,>=3.7.0->pt-core-news-sm==3.7.0) (1.1.3)\n",
      "Requirement already satisfied: srsly<3.0.0,>=2.4.3 in c:\\users\\ivanb\\appdata\\local\\pypoetry\\cache\\virtualenvs\\tuw-nlp2024-hqeixhnn-py3.12\\lib\\site-packages (from spacy<3.8.0,>=3.7.0->pt-core-news-sm==3.7.0) (2.4.8)\n",
      "Requirement already satisfied: catalogue<2.1.0,>=2.0.6 in c:\\users\\ivanb\\appdata\\local\\pypoetry\\cache\\virtualenvs\\tuw-nlp2024-hqeixhnn-py3.12\\lib\\site-packages (from spacy<3.8.0,>=3.7.0->pt-core-news-sm==3.7.0) (2.0.10)\n",
      "Requirement already satisfied: weasel<0.5.0,>=0.1.0 in c:\\users\\ivanb\\appdata\\local\\pypoetry\\cache\\virtualenvs\\tuw-nlp2024-hqeixhnn-py3.12\\lib\\site-packages (from spacy<3.8.0,>=3.7.0->pt-core-news-sm==3.7.0) (0.4.1)\n",
      "Requirement already satisfied: typer<1.0.0,>=0.3.0 in c:\\users\\ivanb\\appdata\\local\\pypoetry\\cache\\virtualenvs\\tuw-nlp2024-hqeixhnn-py3.12\\lib\\site-packages (from spacy<3.8.0,>=3.7.0->pt-core-news-sm==3.7.0) (0.12.5)\n",
      "Requirement already satisfied: tqdm<5.0.0,>=4.38.0 in c:\\users\\ivanb\\appdata\\local\\pypoetry\\cache\\virtualenvs\\tuw-nlp2024-hqeixhnn-py3.12\\lib\\site-packages (from spacy<3.8.0,>=3.7.0->pt-core-news-sm==3.7.0) (4.66.5)\n",
      "Requirement already satisfied: requests<3.0.0,>=2.13.0 in c:\\users\\ivanb\\appdata\\local\\pypoetry\\cache\\virtualenvs\\tuw-nlp2024-hqeixhnn-py3.12\\lib\\site-packages (from spacy<3.8.0,>=3.7.0->pt-core-news-sm==3.7.0) (2.32.3)\n",
      "Requirement already satisfied: pydantic!=1.8,!=1.8.1,<3.0.0,>=1.7.4 in c:\\users\\ivanb\\appdata\\local\\pypoetry\\cache\\virtualenvs\\tuw-nlp2024-hqeixhnn-py3.12\\lib\\site-packages (from spacy<3.8.0,>=3.7.0->pt-core-news-sm==3.7.0) (2.9.2)\n",
      "Requirement already satisfied: jinja2 in c:\\users\\ivanb\\appdata\\local\\pypoetry\\cache\\virtualenvs\\tuw-nlp2024-hqeixhnn-py3.12\\lib\\site-packages (from spacy<3.8.0,>=3.7.0->pt-core-news-sm==3.7.0) (3.1.4)\n",
      "Requirement already satisfied: setuptools in c:\\users\\ivanb\\appdata\\local\\pypoetry\\cache\\virtualenvs\\tuw-nlp2024-hqeixhnn-py3.12\\lib\\site-packages (from spacy<3.8.0,>=3.7.0->pt-core-news-sm==3.7.0) (75.2.0)\n",
      "Requirement already satisfied: packaging>=20.0 in c:\\users\\ivanb\\appdata\\local\\pypoetry\\cache\\virtualenvs\\tuw-nlp2024-hqeixhnn-py3.12\\lib\\site-packages (from spacy<3.8.0,>=3.7.0->pt-core-news-sm==3.7.0) (24.1)\n",
      "Requirement already satisfied: langcodes<4.0.0,>=3.2.0 in c:\\users\\ivanb\\appdata\\local\\pypoetry\\cache\\virtualenvs\\tuw-nlp2024-hqeixhnn-py3.12\\lib\\site-packages (from spacy<3.8.0,>=3.7.0->pt-core-news-sm==3.7.0) (3.4.1)\n",
      "Requirement already satisfied: numpy>=1.19.0 in c:\\users\\ivanb\\appdata\\local\\pypoetry\\cache\\virtualenvs\\tuw-nlp2024-hqeixhnn-py3.12\\lib\\site-packages (from spacy<3.8.0,>=3.7.0->pt-core-news-sm==3.7.0) (1.26.0)\n",
      "Requirement already satisfied: language-data>=1.2 in c:\\users\\ivanb\\appdata\\local\\pypoetry\\cache\\virtualenvs\\tuw-nlp2024-hqeixhnn-py3.12\\lib\\site-packages (from langcodes<4.0.0,>=3.2.0->spacy<3.8.0,>=3.7.0->pt-core-news-sm==3.7.0) (1.2.0)\n",
      "Requirement already satisfied: annotated-types>=0.6.0 in c:\\users\\ivanb\\appdata\\local\\pypoetry\\cache\\virtualenvs\\tuw-nlp2024-hqeixhnn-py3.12\\lib\\site-packages (from pydantic!=1.8,!=1.8.1,<3.0.0,>=1.7.4->spacy<3.8.0,>=3.7.0->pt-core-news-sm==3.7.0) (0.7.0)\n",
      "Requirement already satisfied: pydantic-core==2.23.4 in c:\\users\\ivanb\\appdata\\local\\pypoetry\\cache\\virtualenvs\\tuw-nlp2024-hqeixhnn-py3.12\\lib\\site-packages (from pydantic!=1.8,!=1.8.1,<3.0.0,>=1.7.4->spacy<3.8.0,>=3.7.0->pt-core-news-sm==3.7.0) (2.23.4)\n",
      "Requirement already satisfied: typing-extensions>=4.6.1 in c:\\users\\ivanb\\appdata\\local\\pypoetry\\cache\\virtualenvs\\tuw-nlp2024-hqeixhnn-py3.12\\lib\\site-packages (from pydantic!=1.8,!=1.8.1,<3.0.0,>=1.7.4->spacy<3.8.0,>=3.7.0->pt-core-news-sm==3.7.0) (4.12.2)\n",
      "Requirement already satisfied: charset-normalizer<4,>=2 in c:\\users\\ivanb\\appdata\\local\\pypoetry\\cache\\virtualenvs\\tuw-nlp2024-hqeixhnn-py3.12\\lib\\site-packages (from requests<3.0.0,>=2.13.0->spacy<3.8.0,>=3.7.0->pt-core-news-sm==3.7.0) (3.4.0)\n",
      "Requirement already satisfied: idna<4,>=2.5 in c:\\users\\ivanb\\appdata\\local\\pypoetry\\cache\\virtualenvs\\tuw-nlp2024-hqeixhnn-py3.12\\lib\\site-packages (from requests<3.0.0,>=2.13.0->spacy<3.8.0,>=3.7.0->pt-core-news-sm==3.7.0) (3.10)\n",
      "Requirement already satisfied: urllib3<3,>=1.21.1 in c:\\users\\ivanb\\appdata\\local\\pypoetry\\cache\\virtualenvs\\tuw-nlp2024-hqeixhnn-py3.12\\lib\\site-packages (from requests<3.0.0,>=2.13.0->spacy<3.8.0,>=3.7.0->pt-core-news-sm==3.7.0) (2.2.3)\n",
      "Requirement already satisfied: certifi>=2017.4.17 in c:\\users\\ivanb\\appdata\\local\\pypoetry\\cache\\virtualenvs\\tuw-nlp2024-hqeixhnn-py3.12\\lib\\site-packages (from requests<3.0.0,>=2.13.0->spacy<3.8.0,>=3.7.0->pt-core-news-sm==3.7.0) (2024.8.30)\n",
      "Requirement already satisfied: blis<0.8.0,>=0.7.8 in c:\\users\\ivanb\\appdata\\local\\pypoetry\\cache\\virtualenvs\\tuw-nlp2024-hqeixhnn-py3.12\\lib\\site-packages (from thinc<8.3.0,>=8.2.2->spacy<3.8.0,>=3.7.0->pt-core-news-sm==3.7.0) (0.7.11)\n",
      "Requirement already satisfied: confection<1.0.0,>=0.0.1 in c:\\users\\ivanb\\appdata\\local\\pypoetry\\cache\\virtualenvs\\tuw-nlp2024-hqeixhnn-py3.12\\lib\\site-packages (from thinc<8.3.0,>=8.2.2->spacy<3.8.0,>=3.7.0->pt-core-news-sm==3.7.0) (0.1.5)\n",
      "Requirement already satisfied: colorama in c:\\users\\ivanb\\appdata\\local\\pypoetry\\cache\\virtualenvs\\tuw-nlp2024-hqeixhnn-py3.12\\lib\\site-packages (from tqdm<5.0.0,>=4.38.0->spacy<3.8.0,>=3.7.0->pt-core-news-sm==3.7.0) (0.4.6)\n",
      "Requirement already satisfied: click>=8.0.0 in c:\\users\\ivanb\\appdata\\local\\pypoetry\\cache\\virtualenvs\\tuw-nlp2024-hqeixhnn-py3.12\\lib\\site-packages (from typer<1.0.0,>=0.3.0->spacy<3.8.0,>=3.7.0->pt-core-news-sm==3.7.0) (8.1.7)\n",
      "Requirement already satisfied: shellingham>=1.3.0 in c:\\users\\ivanb\\appdata\\local\\pypoetry\\cache\\virtualenvs\\tuw-nlp2024-hqeixhnn-py3.12\\lib\\site-packages (from typer<1.0.0,>=0.3.0->spacy<3.8.0,>=3.7.0->pt-core-news-sm==3.7.0) (1.5.4)\n",
      "Requirement already satisfied: rich>=10.11.0 in c:\\users\\ivanb\\appdata\\local\\pypoetry\\cache\\virtualenvs\\tuw-nlp2024-hqeixhnn-py3.12\\lib\\site-packages (from typer<1.0.0,>=0.3.0->spacy<3.8.0,>=3.7.0->pt-core-news-sm==3.7.0) (13.9.3)\n",
      "Requirement already satisfied: cloudpathlib<1.0.0,>=0.7.0 in c:\\users\\ivanb\\appdata\\local\\pypoetry\\cache\\virtualenvs\\tuw-nlp2024-hqeixhnn-py3.12\\lib\\site-packages (from weasel<0.5.0,>=0.1.0->spacy<3.8.0,>=3.7.0->pt-core-news-sm==3.7.0) (0.20.0)\n",
      "Requirement already satisfied: smart-open<8.0.0,>=5.2.1 in c:\\users\\ivanb\\appdata\\local\\pypoetry\\cache\\virtualenvs\\tuw-nlp2024-hqeixhnn-py3.12\\lib\\site-packages (from weasel<0.5.0,>=0.1.0->spacy<3.8.0,>=3.7.0->pt-core-news-sm==3.7.0) (7.0.5)\n",
      "Requirement already satisfied: MarkupSafe>=2.0 in c:\\users\\ivanb\\appdata\\local\\pypoetry\\cache\\virtualenvs\\tuw-nlp2024-hqeixhnn-py3.12\\lib\\site-packages (from jinja2->spacy<3.8.0,>=3.7.0->pt-core-news-sm==3.7.0) (3.0.1)\n",
      "Requirement already satisfied: marisa-trie>=0.7.7 in c:\\users\\ivanb\\appdata\\local\\pypoetry\\cache\\virtualenvs\\tuw-nlp2024-hqeixhnn-py3.12\\lib\\site-packages (from language-data>=1.2->langcodes<4.0.0,>=3.2.0->spacy<3.8.0,>=3.7.0->pt-core-news-sm==3.7.0) (1.2.1)\n",
      "Requirement already satisfied: markdown-it-py>=2.2.0 in c:\\users\\ivanb\\appdata\\local\\pypoetry\\cache\\virtualenvs\\tuw-nlp2024-hqeixhnn-py3.12\\lib\\site-packages (from rich>=10.11.0->typer<1.0.0,>=0.3.0->spacy<3.8.0,>=3.7.0->pt-core-news-sm==3.7.0) (3.0.0)\n",
      "Requirement already satisfied: pygments<3.0.0,>=2.13.0 in c:\\users\\ivanb\\appdata\\local\\pypoetry\\cache\\virtualenvs\\tuw-nlp2024-hqeixhnn-py3.12\\lib\\site-packages (from rich>=10.11.0->typer<1.0.0,>=0.3.0->spacy<3.8.0,>=3.7.0->pt-core-news-sm==3.7.0) (2.18.0)\n",
      "Requirement already satisfied: wrapt in c:\\users\\ivanb\\appdata\\local\\pypoetry\\cache\\virtualenvs\\tuw-nlp2024-hqeixhnn-py3.12\\lib\\site-packages (from smart-open<8.0.0,>=5.2.1->weasel<0.5.0,>=0.1.0->spacy<3.8.0,>=3.7.0->pt-core-news-sm==3.7.0) (1.16.0)\n",
      "Requirement already satisfied: mdurl~=0.1 in c:\\users\\ivanb\\appdata\\local\\pypoetry\\cache\\virtualenvs\\tuw-nlp2024-hqeixhnn-py3.12\\lib\\site-packages (from markdown-it-py>=2.2.0->rich>=10.11.0->typer<1.0.0,>=0.3.0->spacy<3.8.0,>=3.7.0->pt-core-news-sm==3.7.0) (0.1.2)\n",
      "\u001b[38;5;2m[+] Download and installation successful\u001b[0m\n",
      "You can now load the package via spacy.load('pt_core_news_sm')\n"
     ]
    },
    {
     "name": "stderr",
     "output_type": "stream",
     "text": [
      "\n",
      "[notice] A new release of pip is available: 24.2 -> 24.3.1\n",
      "[notice] To update, run: python.exe -m pip install --upgrade pip\n"
     ]
    }
   ],
   "source": [
    "# Download necessary spaCy models\n",
    "!python -m spacy download en_core_web_sm\n",
    "!python -m spacy download ru_core_news_sm\n",
    "!python -m spacy download pt_core_news_sm\n",
    "\n",
    "spacy_models = {\n",
    "    'EN' : 'en_core_web_sm',\n",
    "    'PT' : 'pt_core_news_sm',\n",
    "    'RU' : 'ru_core_news_sm',\n",
    "    'BG' : None,\n",
    "    'HI' : None,\n",
    "}\n",
    "\n",
    "base_path = Path.cwd().parent / \"data\"\n",
    "filepaths = get_raw_files_per_language(base_path  / \"training_data_16_October_release\")\n",
    "\n",
    "for language in filepaths.keys():\n",
    "    spacy_model = spacy_models[language]        \n",
    "    nlp = spacy.load(spacy_model) if spacy_model else None\n",
    "\n",
    "    stop_words = get_stopwords_for_language(language, base_path /  \"stopwords\")\n",
    "    Path(base_path / \"tmp\" / language ).mkdir(parents=True, exist_ok=True)\n",
    "    for filepath in filepaths[language]:\n",
    "        output_file = base_path / \"tmp\" / language / (filepath.stem + \".conllu\")\n",
    "        if output_file.exists():\n",
    "            output_file.unlink() #delete if file exists\n",
    "        tokens = process_file(filepath, stop_words, nlp)\n",
    "        tagged_tokens = add_tags(tokens, nlp)\n",
    "        save_to_conllu(output_file, tagged_tokens, language)"
   ]
  },
  {
   "cell_type": "markdown",
   "metadata": {},
   "source": [
    "## English (EN) output analysis"
   ]
  },
  {
   "cell_type": "code",
   "execution_count": null,
   "metadata": {},
   "outputs": [],
   "source": [
    "with open(base_path / \"tmp\" / \"EN\" / \"EN_UA_000543.conllu\", \"r\", encoding='utf-8') as file:\n",
    "    lines = file.readlines()\n",
    "    print(lines[51])  # Line 50 in 0-indexed list"
   ]
  },
  {
   "cell_type": "markdown",
   "metadata": {},
   "source": [
    "### Conclusion for EN\n",
    "\n",
    "POS Tagging and Stopword Issues\n",
    "\n",
    "Issues Identified\n",
    "\n",
    "POS Tagging\n",
    "- Misclassification of Proper Nouns: Proper nouns were frequently misclassified due to lowercasing. For example:\n",
    "  - \"Unity Foods\" was tagged as NOUN instead of PROPN.\n",
    "  - \"Edvard Munch’s\" was tagged as NOUN instead of PROPN.\n",
    "  - \"residents\" was tagged as PROPN instead of NOUN.\n",
    "  - \"Jane\" was tagged as NOUN instead of PROPN.\n",
    "  - \"Fondas\" was tagged as VERB instead of PROPN.\n",
    "\n",
    "Stopwords\n",
    "- Some stopwords (e.g., \"that\", \"do\", \"we\", \"d\", \"s\") were inadvertently left in the text.\n",
    "\n",
    "Improvements Implemented\n",
    "\n",
    "Enhanced Tokenization\n",
    "- Integrated spaCy's tokenizer to address complex tokenization cases more effectively. This change also resolved the issue of leftover stopwords.\n",
    "\n",
    "---\n",
    "\n",
    "Overall, while some errors still persist (like the printed word), there has been a significant reduction in their occurrence. These improvements have led to better analysis and more meaningful insights from the text data."
   ]
  },
  {
   "cell_type": "markdown",
   "metadata": {},
   "source": [
    "## Portuguese (PT) output analysis"
   ]
  },
  {
   "cell_type": "code",
   "execution_count": 7,
   "metadata": {},
   "outputs": [
    {
     "name": "stdout",
     "output_type": "stream",
     "text": [
      "1\tfundo\tPROPN\tFundo\n",
      "\n",
      "2\tbrasil\tPROPN\tBrasil\n",
      "\n",
      "3\tapoia\tVERB\tapoiar\n",
      "\n",
      "4\tprojetos\tNOUN\tprojeto\n",
      "\n",
      "5\tcomunidades\tNOUN\tcomunidade\n",
      "\n",
      "6\ttradicionais\tADJ\ttradicional\n",
      "\n",
      "7\taviso\tNOUN\taviso\n",
      "\n",
      "8\tcomunidades\tNOUN\tcomunidade\n",
      "\n",
      "9\ttradicionais\tADJ\ttradicional\n",
      "\n"
     ]
    }
   ],
   "source": [
    "# Sample output file in PT\n",
    "output_file_path = base_path / \"tmp\" / \"PT\" / \"PT_21.conllu\"\n",
    "with open(output_file_path, \"r\", encoding='utf-8') as file:\n",
    "    lines = file.readlines()\n",
    "    for i in range(1, 10):  # print lines 50 to 100\n",
    "        print(lines[i])"
   ]
  },
  {
   "cell_type": "code",
   "execution_count": 17,
   "metadata": {},
   "outputs": [
    {
     "name": "stdout",
     "output_type": "stream",
     "text": [
      "Não queremos que o conflito na Ucrânia se transforme numa guerra entre a Rússia e a NATO, diz Alemanha\n",
      "\n",
      "A insinuação feita na segunda-feira (26) pelo presidente francês, Emmanuel Macron, de que os aliados da Organização do Tratado do Atlântico Norte (NATO) poderiam enviar tropas para a Ucrânia ainda está a ter repercussões entre os líderes europeus e norte-americanos.\n",
      "\n",
      "Est\n"
     ]
    }
   ],
   "source": [
    "# Original text for comparison\n",
    "original_file_path = base_path / \"training_data_16_October_release\" / \"PT\" / \"raw-documents\" / \"PT_21.txt\"\n",
    "with open(original_file_path, \"r\", encoding='utf-8') as file:\n",
    "    original_content = file.read()\n",
    "    print(original_content[:375])"
   ]
  },
  {
   "cell_type": "markdown",
   "metadata": {},
   "source": [
    "### Conclusion for PT\n",
    "\n",
    "During a detailed manual inspection of six randomly selected documents: PT_11, PT_21, PT_31, PT_171, PT_181, PT_191 (the first 3 documents on the topic of Ukraine and the latter 3 documents on the topic of climate change), several types of errors were identified in the preprocessing and annotation.\n",
    "\n",
    "These mistakes can be broadly categorized into five main types: POS Tagging Errors, Named Entity Recognition (NER) Failures, and Lemmatization Issues.\n",
    "\n",
    "**1. POS Tagging Errors**\n",
    "\n",
    "This type of error occurs when the algorithm incorrectly classifies the part of speech (POS) of a token.\n",
    "\n",
    "- PT_11: \"armadas\" was tagged as a VERB, but in the context, it should be an ADJ.\n",
    "- PT_21: \"parte\" was classified as a VERB, but it should be a NOUN.\n",
    "- PT_181: \"recursos\" was marked as an ADJ, but it should be a NOUN.\n",
    "\n",
    "Possible Solutions could be using contextualized models that use a more robust language model like BERT or a transformer-based model specifically fine-tuned for Portuguese. Or using linguistic rules that capture the nuances of Portuguese, such as words that can function as multiple parts of speech depending on the context (e.g., \"caso\").\n",
    "\n",
    "**2. Named Entity Recognition (NER) Failures**\n",
    "\n",
    "NER failures occur when named entities, such as proper nouns (PROPN), are misclassified as common nouns (NOUN) or other POS categories.\n",
    "\n",
    "- PT_11: \"reuters\" was tagged as a NOUN but should be PROPN.\n",
    "- PT_21: \"ucrânia\" (Ukraine) was classified as a VERB, but it should be a PROPN.\n",
    "- PT_191: \"catarina\" was labeled as a NOUN, but it should be a PROPN.\n",
    "\n",
    "Possible Solutions could involve fine-tuning a NER model for Portuguese using a corpus rich in proper nouns and named entities, as well as ensuring the preprocessing step does not affect the capitalization of words, as this is often a strong indicator of proper nouns in Portuguese.\n",
    "\n",
    "**3. Lemmatization Issues**\n",
    "\n",
    "Lemmatization errors are when the lemma assigned to a token is incorrect.\n",
    "\n",
    "- PT_171: \"fizesse\" was correctly identified as a VERB, but the lemma should be \"fazer,\" not \"fizesse.\"\n",
    "- PT_31: \"terraar\" is a lemmatization error, where \"terra-ar\" should have been split into \"terra\" and \"ar\" and processed separately.\n",
    "\n",
    "Possible solution are using a comprehensive lemmatization dictionary tailored for Portuguese, which can handle verb conjugations and compound words, as well as improving tokenization to handle hyphenated (\"-\") words correctly.\n"
   ]
  }
 ],
 "metadata": {
  "kernelspec": {
   "display_name": "Python 3 (ipykernel)",
   "language": "python",
   "name": "python3"
  },
  "language_info": {
   "codemirror_mode": {
    "name": "ipython",
    "version": 3
   },
   "file_extension": ".py",
   "mimetype": "text/x-python",
   "name": "python",
   "nbconvert_exporter": "python",
   "pygments_lexer": "ipython3",
   "version": "3.12.0"
  }
 },
 "nbformat": 4,
 "nbformat_minor": 4
}
